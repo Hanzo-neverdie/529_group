{
 "cells": [
  {
   "cell_type": "code",
   "execution_count": 1,
   "metadata": {},
   "outputs": [],
   "source": [
    "%config IPCompleter.greedy=True"
   ]
  },
  {
   "cell_type": "code",
   "execution_count": 1,
   "metadata": {},
   "outputs": [
    {
     "name": "stdout",
     "output_type": "stream",
     "text": [
      "Looking in indexes: https://pypi.tuna.tsinghua.edu.cn/simple\n",
      "Collecting librosa\n",
      "  Downloading https://pypi.tuna.tsinghua.edu.cn/packages/b5/ba/c63c5786dfee4c3417094c4b00966e61e4a63efecee22cb7b4c0387dda83/librosa-0.11.0-py3-none-any.whl (260 kB)\n",
      "\u001b[2K     \u001b[90m━━━━━━━━━━━━━━━━━━━━━━━━━━━━━━━━━━━━━━\u001b[0m \u001b[32m260.7/260.7 kB\u001b[0m \u001b[31m21.0 MB/s\u001b[0m eta \u001b[36m0:00:00\u001b[0m\n",
      "\u001b[?25hCollecting audioread>=2.1.9 (from librosa)\n",
      "  Downloading https://pypi.tuna.tsinghua.edu.cn/packages/57/8d/30aa32745af16af0a9a650115fbe81bde7c610ed5c21b381fca0196f3a7f/audioread-3.0.1-py3-none-any.whl (23 kB)\n",
      "Collecting numba>=0.51.0 (from librosa)\n",
      "  Downloading https://pypi.tuna.tsinghua.edu.cn/packages/97/c8/8740616c8436c86c1b9a62e72cb891177d2c34c2d24ddcde4c390371bf4c/numba-0.61.2-cp311-cp311-manylinux2014_x86_64.manylinux_2_17_x86_64.whl (3.8 MB)\n",
      "\u001b[2K     \u001b[90m━━━━━━━━━━━━━━━━━━━━━━━━━━━━━━━━━━━━━━━━\u001b[0m \u001b[32m3.8/3.8 MB\u001b[0m \u001b[31m121.9 MB/s\u001b[0m eta \u001b[36m0:00:00\u001b[0m\n",
      "\u001b[?25hRequirement already satisfied: numpy>=1.22.3 in /environment/miniconda3/lib/python3.11/site-packages (from librosa) (1.26.4)\n",
      "Collecting scipy>=1.6.0 (from librosa)\n",
      "  Downloading https://pypi.tuna.tsinghua.edu.cn/packages/32/ea/564bacc26b676c06a00266a3f25fdfe91a9d9a2532ccea7ce6dd394541bc/scipy-1.15.2-cp311-cp311-manylinux_2_17_x86_64.manylinux2014_x86_64.whl (37.6 MB)\n",
      "\u001b[2K     \u001b[90m━━━━━━━━━━━━━━━━━━━━━━━━━━━━━━━━━━━━━━━━\u001b[0m \u001b[32m37.6/37.6 MB\u001b[0m \u001b[31m66.3 MB/s\u001b[0m eta \u001b[36m0:00:00\u001b[0m00:01\u001b[0m00:01\u001b[0m\n",
      "\u001b[?25hCollecting scikit-learn>=1.1.0 (from librosa)\n",
      "  Downloading https://pypi.tuna.tsinghua.edu.cn/packages/a8/f3/62fc9a5a659bb58a03cdd7e258956a5824bdc9b4bb3c5d932f55880be569/scikit_learn-1.6.1-cp311-cp311-manylinux_2_17_x86_64.manylinux2014_x86_64.whl (13.5 MB)\n",
      "\u001b[2K     \u001b[90m━━━━━━━━━━━━━━━━━━━━━━━━━━━━━━━━━━━━━━━\u001b[0m \u001b[32m13.5/13.5 MB\u001b[0m \u001b[31m119.5 MB/s\u001b[0m eta \u001b[36m0:00:00\u001b[0m00:01\u001b[0m00:01\u001b[0m\n",
      "\u001b[?25hCollecting joblib>=1.0 (from librosa)\n",
      "  Downloading https://pypi.tuna.tsinghua.edu.cn/packages/91/29/df4b9b42f2be0b623cbd5e2140cafcaa2bef0759a00b7b70104dcfe2fb51/joblib-1.4.2-py3-none-any.whl (301 kB)\n",
      "\u001b[2K     \u001b[90m━━━━━━━━━━━━━━━━━━━━━━━━━━━━━━━━━━━━━━\u001b[0m \u001b[32m301.8/301.8 kB\u001b[0m \u001b[31m35.8 MB/s\u001b[0m eta \u001b[36m0:00:00\u001b[0m\n",
      "\u001b[?25hRequirement already satisfied: decorator>=4.3.0 in /environment/miniconda3/lib/python3.11/site-packages (from librosa) (5.1.1)\n",
      "Collecting soundfile>=0.12.1 (from librosa)\n",
      "  Downloading https://pypi.tuna.tsinghua.edu.cn/packages/57/5e/70bdd9579b35003a489fc850b5047beeda26328053ebadc1fb60f320f7db/soundfile-0.13.1-py2.py3-none-manylinux_2_28_x86_64.whl (1.3 MB)\n",
      "\u001b[2K     \u001b[90m━━━━━━━━━━━━━━━━━━━━━━━━━━━━━━━━━━━━━━━━\u001b[0m \u001b[32m1.3/1.3 MB\u001b[0m \u001b[31m63.9 MB/s\u001b[0m eta \u001b[36m0:00:00\u001b[0m\n",
      "\u001b[?25hCollecting pooch>=1.1 (from librosa)\n",
      "  Downloading https://pypi.tuna.tsinghua.edu.cn/packages/a8/87/77cc11c7a9ea9fd05503def69e3d18605852cd0d4b0d3b8f15bbeb3ef1d1/pooch-1.8.2-py3-none-any.whl (64 kB)\n",
      "\u001b[2K     \u001b[90m━━━━━━━━━━━━━━━━━━━━━━━━━━━━━━━━━━━━━━━━\u001b[0m \u001b[32m64.6/64.6 kB\u001b[0m \u001b[31m5.6 MB/s\u001b[0m eta \u001b[36m0:00:00\u001b[0m\n",
      "\u001b[?25hCollecting soxr>=0.3.2 (from librosa)\n",
      "  Downloading https://pypi.tuna.tsinghua.edu.cn/packages/9f/e5/400e3bf7f29971abad85cb877e290060e5ec61fccd2fa319e3d85709c1be/soxr-0.5.0.post1-cp311-cp311-manylinux_2_17_x86_64.manylinux2014_x86_64.whl (252 kB)\n",
      "\u001b[2K     \u001b[90m━━━━━━━━━━━━━━━━━━━━━━━━━━━━━━━━━━━━━━\u001b[0m \u001b[32m252.5/252.5 kB\u001b[0m \u001b[31m26.6 MB/s\u001b[0m eta \u001b[36m0:00:00\u001b[0m\n",
      "\u001b[?25hRequirement already satisfied: typing_extensions>=4.1.1 in /environment/miniconda3/lib/python3.11/site-packages (from librosa) (4.11.0)\n",
      "Collecting lazy_loader>=0.1 (from librosa)\n",
      "  Downloading https://pypi.tuna.tsinghua.edu.cn/packages/83/60/d497a310bde3f01cb805196ac61b7ad6dc5dcf8dce66634dc34364b20b4f/lazy_loader-0.4-py3-none-any.whl (12 kB)\n",
      "Collecting msgpack>=1.0 (from librosa)\n",
      "  Downloading https://pypi.tuna.tsinghua.edu.cn/packages/a8/a1/ad7b84b91ab5a324e707f4c9761633e357820b011a01e34ce658c1dda7cc/msgpack-1.1.0-cp311-cp311-manylinux_2_17_x86_64.manylinux2014_x86_64.whl (403 kB)\n",
      "\u001b[2K     \u001b[90m━━━━━━━━━━━━━━━━━━━━━━━━━━━━━━━━━━━━━━\u001b[0m \u001b[32m403.7/403.7 kB\u001b[0m \u001b[31m33.9 MB/s\u001b[0m eta \u001b[36m0:00:00\u001b[0m\n",
      "\u001b[?25hRequirement already satisfied: packaging in /environment/miniconda3/lib/python3.11/site-packages (from lazy_loader>=0.1->librosa) (23.2)\n",
      "Collecting llvmlite<0.45,>=0.44.0dev0 (from numba>=0.51.0->librosa)\n",
      "  Downloading https://pypi.tuna.tsinghua.edu.cn/packages/99/fe/d030f1849ebb1f394bb3f7adad5e729b634fb100515594aca25c354ffc62/llvmlite-0.44.0-cp311-cp311-manylinux_2_17_x86_64.manylinux2014_x86_64.whl (42.4 MB)\n",
      "\u001b[2K     \u001b[90m━━━━━━━━━━━━━━━━━━━━━━━━━━━━━━━━━━━━━━━━\u001b[0m \u001b[32m42.4/42.4 MB\u001b[0m \u001b[31m59.2 MB/s\u001b[0m eta \u001b[36m0:00:00\u001b[0m00:01\u001b[0m00:01\u001b[0m\n",
      "\u001b[?25hRequirement already satisfied: platformdirs>=2.5.0 in /environment/miniconda3/lib/python3.11/site-packages (from pooch>=1.1->librosa) (3.10.0)\n",
      "Requirement already satisfied: requests>=2.19.0 in /environment/miniconda3/lib/python3.11/site-packages (from pooch>=1.1->librosa) (2.31.0)\n",
      "Collecting threadpoolctl>=3.1.0 (from scikit-learn>=1.1.0->librosa)\n",
      "  Downloading https://pypi.tuna.tsinghua.edu.cn/packages/32/d5/f9a850d79b0851d1d4ef6456097579a9005b31fea68726a4ae5f2d82ddd9/threadpoolctl-3.6.0-py3-none-any.whl (18 kB)\n",
      "Requirement already satisfied: cffi>=1.0 in /environment/miniconda3/lib/python3.11/site-packages (from soundfile>=0.12.1->librosa) (1.16.0)\n",
      "Requirement already satisfied: pycparser in /environment/miniconda3/lib/python3.11/site-packages (from cffi>=1.0->soundfile>=0.12.1->librosa) (2.21)\n",
      "Requirement already satisfied: charset-normalizer<4,>=2 in /environment/miniconda3/lib/python3.11/site-packages (from requests>=2.19.0->pooch>=1.1->librosa) (2.0.4)\n",
      "Requirement already satisfied: idna<4,>=2.5 in /environment/miniconda3/lib/python3.11/site-packages (from requests>=2.19.0->pooch>=1.1->librosa) (3.4)\n",
      "Requirement already satisfied: urllib3<3,>=1.21.1 in /environment/miniconda3/lib/python3.11/site-packages (from requests>=2.19.0->pooch>=1.1->librosa) (2.1.0)\n",
      "Requirement already satisfied: certifi>=2017.4.17 in /environment/miniconda3/lib/python3.11/site-packages (from requests>=2.19.0->pooch>=1.1->librosa) (2024.2.2)\n",
      "Installing collected packages: threadpoolctl, soxr, scipy, msgpack, llvmlite, lazy_loader, joblib, audioread, soundfile, scikit-learn, pooch, numba, librosa\n",
      "Successfully installed audioread-3.0.1 joblib-1.4.2 lazy_loader-0.4 librosa-0.11.0 llvmlite-0.44.0 msgpack-1.1.0 numba-0.61.2 pooch-1.8.2 scikit-learn-1.6.1 scipy-1.15.2 soundfile-0.13.1 soxr-0.5.0.post1 threadpoolctl-3.6.0\n"
     ]
    }
   ],
   "source": [
    "!pip install librosa"
   ]
  },
  {
   "cell_type": "code",
   "execution_count": 2,
   "metadata": {},
   "outputs": [
    {
     "name": "stdout",
     "output_type": "stream",
     "text": [
      "Looking in indexes: https://pypi.tuna.tsinghua.edu.cn/simple\n",
      "Collecting opencv-python\n",
      "  Downloading https://pypi.tuna.tsinghua.edu.cn/packages/2c/8b/90eb44a40476fa0e71e05a0283947cfd74a5d36121a11d926ad6f3193cc4/opencv_python-4.11.0.86-cp37-abi3-manylinux_2_17_x86_64.manylinux2014_x86_64.whl (63.0 MB)\n",
      "\u001b[2K     \u001b[90m━━━━━━━━━━━━━━━━━━━━━━━━━━━━━━━━━━━━━━━━\u001b[0m \u001b[32m63.0/63.0 MB\u001b[0m \u001b[31m48.3 MB/s\u001b[0m eta \u001b[36m0:00:00\u001b[0m00:01\u001b[0m00:01\u001b[0m\n",
      "\u001b[?25hRequirement already satisfied: numpy>=1.21.2 in /environment/miniconda3/lib/python3.11/site-packages (from opencv-python) (1.26.4)\n",
      "Installing collected packages: opencv-python\n",
      "Successfully installed opencv-python-4.11.0.86\n"
     ]
    }
   ],
   "source": [
    "!pip install opencv-python"
   ]
  },
  {
   "cell_type": "code",
   "execution_count": 3,
   "metadata": {},
   "outputs": [
    {
     "name": "stdout",
     "output_type": "stream",
     "text": [
      "Ign:1 https://download.docker.com/linux/ubuntu jammy InRelease\n",
      "Get:2 http://security.ubuntu.com/ubuntu jammy-security InRelease [129 kB]      \u001b[0m\n",
      "Get:3 http://archive.ubuntu.com/ubuntu jammy InRelease [270 kB]                \u001b[0m\n",
      "Get:1 https://download.docker.com/linux/ubuntu jammy InRelease [48.8 kB]       \u001b[0m\u001b[33m\u001b[33m\u001b[33m\n",
      "Get:4 https://download.docker.com/linux/ubuntu jammy/stable amd64 Packages [48.8 kB][33m\u001b[33m\u001b[33m\n",
      "Get:5 http://security.ubuntu.com/ubuntu jammy-security/main amd64 Packages [2266 kB][33m\u001b[33m\n",
      "Get:6 http://archive.ubuntu.com/ubuntu jammy-updates InRelease [128 kB]        \u001b[0m\n",
      "Get:7 http://archive.ubuntu.com/ubuntu jammy-backports InRelease [127 kB]      \u001b[0m\u001b[33m\u001b[33m\u001b[33m\n",
      "Get:8 https://developer.download.nvidia.cn/compute/cuda/repos/ubuntu2204/x86_64  InRelease [1581 B]\n",
      "Get:9 https://developer.download.nvidia.cn/compute/cuda/repos/ubuntu2204/x86_64  Packages [1607 kB]\n",
      "Get:10 http://security.ubuntu.com/ubuntu jammy-security/main Translation-en [346 kB]\n",
      "Get:11 http://archive.ubuntu.com/ubuntu jammy/main amd64 Packages [1395 kB]    \u001b[0m\u001b[33m\u001b[33m\u001b[33m\u001b[33m\n",
      "Get:12 http://security.ubuntu.com/ubuntu jammy-security/main amd64 c-n-f Metadata [13.6 kB]33m\n",
      "Get:13 http://security.ubuntu.com/ubuntu jammy-security/restricted amd64 Packages [3238 kB]m\u001b[33m\u001b[33m\n",
      "Get:14 http://archive.ubuntu.com/ubuntu jammy/main Translation-en [510 kB]     \u001b[0m\n",
      "Get:15 http://archive.ubuntu.com/ubuntu jammy/main amd64 c-n-f Metadata [30.3 kB]0m\u001b[33mm\u001b[33m\u001b[33m\u001b[33m\u001b[33m\n",
      "Get:16 http://security.ubuntu.com/ubuntu jammy-security/restricted Translation-en [577 kB]\n",
      "Get:17 http://archive.ubuntu.com/ubuntu jammy/restricted amd64 Packages [129 kB][0m\u001b[33m\u001b[33m\n",
      "Get:18 http://security.ubuntu.com/ubuntu jammy-security/restricted amd64 c-n-f Metadata [624 B][33m\n",
      "Get:19 http://archive.ubuntu.com/ubuntu jammy/restricted Translation-en [18.6 kB]0m33m3m\n",
      "Get:20 http://security.ubuntu.com/ubuntu jammy-security/universe amd64 Packages [973 kB]\n",
      "Get:21 http://archive.ubuntu.com/ubuntu jammy/restricted amd64 c-n-f Metadata [488 B]\n",
      "Get:22 http://archive.ubuntu.com/ubuntu jammy/universe amd64 Packages [14.1 MB]\u001b[0m\u001b[33m\u001b[33m\n",
      "Get:23 http://security.ubuntu.com/ubuntu jammy-security/universe Translation-en [209 kB]\u001b[33m\u001b[33m\n",
      "Get:24 http://security.ubuntu.com/ubuntu jammy-security/universe amd64 c-n-f Metadata [21.7 kB][33m\n",
      "Get:25 http://archive.ubuntu.com/ubuntu jammy/universe Translation-en [5652 kB]\u001b[0m\u001b[33m\u001b[33m\n",
      "Get:26 http://security.ubuntu.com/ubuntu jammy-security/multiverse amd64 Packages [39.6 kB]\n",
      "Get:27 http://security.ubuntu.com/ubuntu jammy-security/multiverse Translation-en [8716 B]33m\n",
      "Get:28 http://security.ubuntu.com/ubuntu jammy-security/multiverse amd64 c-n-f Metadata [368 B]\n",
      "Get:29 http://archive.ubuntu.com/ubuntu jammy/universe amd64 c-n-f Metadata [286 kB][33m\u001b[33m\u001b[33m\u001b[33m\n",
      "Get:30 http://archive.ubuntu.com/ubuntu jammy/multiverse amd64 Packages [217 kB][0m\u001b[33m\u001b[33m\u001b[33m\u001b[33m\u001b[33m\n",
      "Get:31 http://archive.ubuntu.com/ubuntu jammy/multiverse Translation-en [112 kB][0m\u001b[33m\u001b[33m\u001b[33m\u001b[33m\n",
      "Get:32 http://archive.ubuntu.com/ubuntu jammy/multiverse amd64 c-n-f Metadata [8372 B]3m\u001b[33m\u001b[33m\n",
      "Get:33 http://archive.ubuntu.com/ubuntu jammy-updates/main amd64 Packages [2511 kB]\u001b[33m\u001b[33m\n",
      "Get:34 http://archive.ubuntu.com/ubuntu jammy-updates/main Translation-en [410 kB]m\u001b[33m\u001b[33m\u001b[33m\u001b[33m\u001b[33m\u001b[33m\n",
      "Get:35 http://archive.ubuntu.com/ubuntu jammy-updates/main amd64 c-n-f Metadata [18.5 kB][33m\u001b[33m\u001b[33m\n",
      "Get:36 http://archive.ubuntu.com/ubuntu jammy-updates/restricted amd64 Packages [3357 kB][33m\n",
      "Get:37 http://archive.ubuntu.com/ubuntu jammy-updates/restricted Translation-en [595 kB]\u001b[33m\u001b[33m\u001b[33m\u001b[33m\u001b[33m\n",
      "Get:38 http://archive.ubuntu.com/ubuntu jammy-updates/restricted amd64 c-n-f Metadata [676 B]\u001b[33m\u001b[33m\u001b[33m\n",
      "Get:39 http://archive.ubuntu.com/ubuntu jammy-updates/universe amd64 Packages [1200 kB]m\u001b[33m\n",
      "Get:40 http://archive.ubuntu.com/ubuntu jammy-updates/universe Translation-en [296 kB]3m\u001b[33m\u001b[33m\u001b[33m\u001b[33m\n",
      "Get:41 http://archive.ubuntu.com/ubuntu jammy-updates/universe amd64 c-n-f Metadata [28.7 kB]\u001b[33m\u001b[33m\n",
      "Get:42 http://archive.ubuntu.com/ubuntu jammy-updates/multiverse amd64 Packages [46.5 kB][33m\n",
      "Get:43 http://archive.ubuntu.com/ubuntu jammy-updates/multiverse Translation-en [11.8 kB][33m\u001b[33m\n",
      "Get:44 http://archive.ubuntu.com/ubuntu jammy-updates/multiverse amd64 c-n-f Metadata [592 B]\n",
      "Get:45 http://archive.ubuntu.com/ubuntu jammy-backports/main amd64 Packages [68.4 kB]33m\u001b[33m\n",
      "Get:46 http://archive.ubuntu.com/ubuntu jammy-backports/main Translation-en [11.1 kB]33m\u001b[33m\u001b[33m\u001b[33m\n",
      "Get:47 http://archive.ubuntu.com/ubuntu jammy-backports/main amd64 c-n-f Metadata [392 B][33m\n",
      "Get:48 http://archive.ubuntu.com/ubuntu jammy-backports/restricted amd64 c-n-f Metadata [116 B]\n",
      "Get:49 http://archive.ubuntu.com/ubuntu jammy-backports/universe amd64 Packages [30.0 kB][33m\n",
      "Get:50 http://archive.ubuntu.com/ubuntu jammy-backports/universe Translation-en [16.5 kB][33m\n",
      "Get:51 http://archive.ubuntu.com/ubuntu jammy-backports/universe amd64 c-n-f Metadata [672 B]\n",
      "Get:52 http://archive.ubuntu.com/ubuntu jammy-backports/multiverse amd64 c-n-f Metadata [116 B]\n",
      "Fetched 41.1 MB in 50s (821 kB/s)                                              \u001b[0m\u001b[33m\n",
      "Reading package lists... Done\n",
      "Building dependency tree... Done\n",
      "Reading state information... Done\n",
      "226 packages can be upgraded. Run 'apt list --upgradable' to see them.\n",
      "Reading package lists... Done\n",
      "Building dependency tree... Done\n",
      "Reading state information... Done\n",
      "The following additional packages will be installed:\n",
      "  i965-va-driver intel-media-va-driver libaacs0 libaom3 libass9 libasyncns0\n",
      "  libavc1394-0 libavcodec58 libavdevice58 libavfilter7 libavformat58\n",
      "  libavutil56 libbdplus0 libblas3 libbluray2 libbs2b0 libcaca0 libcdio-cdda2\n",
      "  libcdio-paranoia2 libcdio19 libchromaprint1 libcodec2-1.0 libdav1d5\n",
      "  libdc1394-25 libdecor-0-0 libdecor-0-plugin-1-cairo libflac8 libflite1\n",
      "  libgfortran5 libgme0 libgsm1 libiec61883-0 libigdgmm12 libjack-jackd2-0\n",
      "  liblapack3 liblilv-0-0 libmfx1 libmp3lame0 libmpg123-0 libmysofa1 libnorm1\n",
      "  libogg0 libopenal-data libopenal1 libopenjp2-7 libopenmpt0 libopus0\n",
      "  libpgm-5.3-0 libpocketsphinx3 libpostproc55 libpulse0 librabbitmq4\n",
      "  libraw1394-11 librubberband2 libsamplerate0 libsdl2-2.0-0 libserd-0-0\n",
      "  libshine3 libsnappy1v5 libsndfile1 libsndio7.0 libsord-0-0 libsoxr0\n",
      "  libspeex1 libsphinxbase3 libsratom-0-0 libsrt1.4-gnutls libssh-gcrypt-4\n",
      "  libswresample3 libswscale5 libtheora0 libtwolame0 libudfread0 libva-drm2\n",
      "  libva-x11-2 libva2 libvidstab1.1 libvorbis0a libvorbisenc2 libvorbisfile3\n",
      "  libvpx7 libwebpmux3 libx264-163 libx265-199 libxss1 libxvidcore4 libzimg2\n",
      "  libzmq5 libzvbi-common libzvbi0 mesa-va-drivers ocl-icd-libopencl1\n",
      "  pocketsphinx-en-us va-driver-all\n",
      "Suggested packages:\n",
      "  ffmpeg-doc i965-va-driver-shaders libcuda1 libnvcuvid1 libnvidia-encode1\n",
      "  libbluray-bdj jackd2 libportaudio2 opus-tools pulseaudio libraw1394-doc\n",
      "  xdg-utils serdi sndiod sordi speex\n",
      "The following NEW packages will be installed:\n",
      "  ffmpeg i965-va-driver intel-media-va-driver libaacs0 libaom3 libass9\n",
      "  libasyncns0 libavc1394-0 libavcodec58 libavdevice58 libavfilter7\n",
      "  libavformat58 libavutil56 libbdplus0 libblas3 libbluray2 libbs2b0 libcaca0\n",
      "  libcdio-cdda2 libcdio-paranoia2 libcdio19 libchromaprint1 libcodec2-1.0\n",
      "  libdav1d5 libdc1394-25 libdecor-0-0 libdecor-0-plugin-1-cairo libflac8\n",
      "  libflite1 libgfortran5 libgme0 libgsm1 libiec61883-0 libigdgmm12\n",
      "  libjack-jackd2-0 liblapack3 liblilv-0-0 libmfx1 libmp3lame0 libmpg123-0\n",
      "  libmysofa1 libnorm1 libogg0 libopenal-data libopenal1 libopenjp2-7\n",
      "  libopenmpt0 libopus0 libpgm-5.3-0 libpocketsphinx3 libpostproc55 libpulse0\n",
      "  librabbitmq4 libraw1394-11 librubberband2 libsamplerate0 libsdl2-2.0-0\n",
      "  libserd-0-0 libshine3 libsnappy1v5 libsndfile1 libsndio7.0 libsord-0-0\n",
      "  libsoxr0 libspeex1 libsphinxbase3 libsratom-0-0 libsrt1.4-gnutls\n",
      "  libssh-gcrypt-4 libswresample3 libswscale5 libtheora0 libtwolame0\n",
      "  libudfread0 libva-drm2 libva-x11-2 libva2 libvidstab1.1 libvorbis0a\n",
      "  libvorbisenc2 libvorbisfile3 libvpx7 libwebpmux3 libx264-163 libx265-199\n",
      "  libxss1 libxvidcore4 libzimg2 libzmq5 libzvbi-common libzvbi0\n",
      "  mesa-va-drivers ocl-icd-libopencl1 pocketsphinx-en-us va-driver-all\n",
      "0 upgraded, 95 newly installed, 0 to remove and 226 not upgraded.\n",
      "Need to get 89.3 MB of archives.\n",
      "After this operation, 224 MB of additional disk space will be used.\n",
      "Get:1 http://archive.ubuntu.com/ubuntu jammy-updates/universe amd64 libaom3 amd64 3.3.0-1ubuntu0.1 [1748 kB]\n",
      "Get:2 http://archive.ubuntu.com/ubuntu jammy/universe amd64 libva2 amd64 2.14.0-1 [65.0 kB]\n",
      "Get:3 http://archive.ubuntu.com/ubuntu jammy/universe amd64 libmfx1 amd64 22.3.0-1 [3105 kB]\n",
      "Get:4 http://archive.ubuntu.com/ubuntu jammy/universe amd64 libva-drm2 amd64 2.14.0-1 [7502 B][33m\u001b[33m\n",
      "Get:5 http://archive.ubuntu.com/ubuntu jammy/universe amd64 libva-x11-2 amd64 2.14.0-1 [12.6 kB]\n",
      "Get:6 http://archive.ubuntu.com/ubuntu jammy/universe amd64 ocl-icd-libopencl1 amd64 2.2.14-3 [39.1 kB]\n",
      "Get:7 http://archive.ubuntu.com/ubuntu jammy-updates/universe amd64 libavutil56 amd64 7:4.4.2-0ubuntu0.22.04.1 [290 kB]\n",
      "Get:8 http://archive.ubuntu.com/ubuntu jammy/universe amd64 libcodec2-1.0 amd64 1.0.1-3 [8435 kB]m\u001b[33m\n",
      "Get:9 http://archive.ubuntu.com/ubuntu jammy/universe amd64 libdav1d5 amd64 0.9.2-1 [463 kB]m\u001b[33m\u001b[33m\u001b[33m\u001b[33m\u001b[33m\n",
      "Get:10 http://archive.ubuntu.com/ubuntu jammy/universe amd64 libgsm1 amd64 1.0.19-1 [27.7 kB]\u001b[33m\u001b[33m\n",
      "Get:11 http://archive.ubuntu.com/ubuntu jammy/main amd64 libmp3lame0 amd64 3.100-3build2 [141 kB]\n",
      "Get:12 http://archive.ubuntu.com/ubuntu jammy-updates/main amd64 libopenjp2-7 amd64 2.4.0-6ubuntu0.3 [158 kB]\n",
      "Get:13 http://archive.ubuntu.com/ubuntu jammy/main amd64 libopus0 amd64 1.3.1-0.1build2 [203 kB]3m\u001b[33m\n",
      "Get:14 http://archive.ubuntu.com/ubuntu jammy/universe amd64 libshine3 amd64 3.1.1-2 [23.2 kB][33m\u001b[33m\n",
      "Get:15 http://archive.ubuntu.com/ubuntu jammy/main amd64 libsnappy1v5 amd64 1.1.8-1build3 [17.5 kB]\n",
      "Get:16 http://archive.ubuntu.com/ubuntu jammy/main amd64 libspeex1 amd64 1.2~rc1.2-1.1ubuntu3 [57.9 kB]\n",
      "Get:17 http://archive.ubuntu.com/ubuntu jammy/main amd64 libsoxr0 amd64 0.1.3-4build2 [79.8 kB]33m\n",
      "Get:18 http://archive.ubuntu.com/ubuntu jammy-updates/universe amd64 libswresample3 amd64 7:4.4.2-0ubuntu0.22.04.1 [62.2 kB]\n",
      "Get:19 http://archive.ubuntu.com/ubuntu jammy/main amd64 libogg0 amd64 1.3.5-0ubuntu3 [22.9 kB]33m\n",
      "Get:20 http://archive.ubuntu.com/ubuntu jammy/main amd64 libtheora0 amd64 1.1.1+dfsg.1-15ubuntu4 [209 kB]\n",
      "Get:21 http://archive.ubuntu.com/ubuntu jammy/main amd64 libtwolame0 amd64 0.4.0-2build2 [52.5 kB]\u001b[33m\n",
      "Get:22 http://archive.ubuntu.com/ubuntu jammy/main amd64 libvorbis0a amd64 1.3.7-1build2 [99.2 kB]\n",
      "Get:23 http://archive.ubuntu.com/ubuntu jammy/main amd64 libvorbisenc2 amd64 1.3.7-1build2 [82.6 kB]\n",
      "Get:24 http://archive.ubuntu.com/ubuntu jammy-updates/main amd64 libvpx7 amd64 1.11.0-2ubuntu2.3 [1078 kB]\n",
      "Get:25 http://archive.ubuntu.com/ubuntu jammy-updates/main amd64 libwebpmux3 amd64 1.2.2-2ubuntu0.22.04.2 [20.5 kB]\n",
      "Get:26 http://archive.ubuntu.com/ubuntu jammy/universe amd64 libx264-163 amd64 2:0.163.3060+git5db6aa6-2build1 [591 kB]\n",
      "Get:27 http://archive.ubuntu.com/ubuntu jammy/universe amd64 libx265-199 amd64 3.5-2 [1170 kB][33m\u001b[33m\u001b[33m\n",
      "Get:28 http://archive.ubuntu.com/ubuntu jammy/universe amd64 libxvidcore4 amd64 2:1.3.7-1 [201 kB]\u001b[33m\u001b[33m\u001b[33m\n",
      "Get:29 http://archive.ubuntu.com/ubuntu jammy/universe amd64 libzvbi-common all 0.2.35-19 [35.5 kB][33m\n",
      "Get:30 http://archive.ubuntu.com/ubuntu jammy/universe amd64 libzvbi0 amd64 0.2.35-19 [262 kB]\n",
      "Get:31 http://archive.ubuntu.com/ubuntu jammy-updates/universe amd64 libavcodec58 amd64 7:4.4.2-0ubuntu0.22.04.1 [5567 kB]\n",
      "Get:32 http://archive.ubuntu.com/ubuntu jammy/main amd64 libraw1394-11 amd64 2.1.2-2build2 [27.0 kB]33m\u001b[33m\u001b[33m\u001b[33m\n",
      "Get:33 http://archive.ubuntu.com/ubuntu jammy/main amd64 libavc1394-0 amd64 0.5.4-5build2 [17.0 kB]\n",
      "Get:34 http://archive.ubuntu.com/ubuntu jammy/universe amd64 libass9 amd64 1:0.15.2-1 [97.5 kB]\n",
      "Get:35 http://archive.ubuntu.com/ubuntu jammy/universe amd64 libudfread0 amd64 1.1.2-1 [16.2 kB]3m\n",
      "Get:36 http://archive.ubuntu.com/ubuntu jammy/universe amd64 libbluray2 amd64 1:1.3.1-1 [159 kB]\n",
      "Get:37 http://archive.ubuntu.com/ubuntu jammy/universe amd64 libchromaprint1 amd64 1.5.1-2 [28.4 kB]33m\n",
      "Get:38 http://archive.ubuntu.com/ubuntu jammy/universe amd64 libgme0 amd64 0.6.3-2 [127 kB]3m\n",
      "Get:39 http://archive.ubuntu.com/ubuntu jammy-updates/main amd64 libmpg123-0 amd64 1.29.3-1ubuntu0.1 [172 kB]\n",
      "Get:40 http://archive.ubuntu.com/ubuntu jammy/main amd64 libvorbisfile3 amd64 1.3.7-1build2 [17.1 kB]3m\n",
      "Get:41 http://archive.ubuntu.com/ubuntu jammy/universe amd64 libopenmpt0 amd64 0.6.1-1 [592 kB]\n",
      "Get:42 http://archive.ubuntu.com/ubuntu jammy/main amd64 librabbitmq4 amd64 0.10.0-1ubuntu2 [39.3 kB]3m\u001b[33m\n",
      "Get:43 http://archive.ubuntu.com/ubuntu jammy/universe amd64 libsrt1.4-gnutls amd64 1.4.4-4 [309 kB]\n",
      "Get:44 http://archive.ubuntu.com/ubuntu jammy-updates/main amd64 libssh-gcrypt-4 amd64 0.9.6-2ubuntu0.22.04.3 [223 kB]\n",
      "Get:45 http://archive.ubuntu.com/ubuntu jammy/universe amd64 libnorm1 amd64 1.5.9+dfsg-2 [221 kB]m\u001b[33m\n",
      "Get:46 http://archive.ubuntu.com/ubuntu jammy/universe amd64 libpgm-5.3-0 amd64 5.3.128~dfsg-2 [161 kB]\n",
      "Get:47 http://archive.ubuntu.com/ubuntu jammy/universe amd64 libzmq5 amd64 4.3.4-2 [256 kB]3m\u001b[33m\u001b[33m\n",
      "Get:48 http://archive.ubuntu.com/ubuntu jammy-updates/universe amd64 libavformat58 amd64 7:4.4.2-0ubuntu0.22.04.1 [1103 kB]\n",
      "Get:49 http://archive.ubuntu.com/ubuntu jammy/universe amd64 libbs2b0 amd64 3.1.0+dfsg-2.2build1 [10.2 kB]3m\n",
      "Get:50 http://archive.ubuntu.com/ubuntu jammy/universe amd64 libflite1 amd64 2.2-3 [13.7 MB]m\n",
      "Get:51 http://archive.ubuntu.com/ubuntu jammy/universe amd64 libserd-0-0 amd64 0.30.10-2 [40.8 kB]\u001b[33m\u001b[33m\u001b[33m\u001b[33m\u001b[33m\n",
      "Get:52 http://archive.ubuntu.com/ubuntu jammy/universe amd64 libsord-0-0 amd64 0.16.8-2 [21.2 kB]m\n",
      "Get:53 http://archive.ubuntu.com/ubuntu jammy/universe amd64 libsratom-0-0 amd64 0.6.8-1 [17.0 kB]\n",
      "Get:54 http://archive.ubuntu.com/ubuntu jammy/universe amd64 liblilv-0-0 amd64 0.24.12-2 [42.8 kB]\n",
      "Get:55 http://archive.ubuntu.com/ubuntu jammy/universe amd64 libmysofa1 amd64 1.2.1~dfsg0-1 [1157 kB]\n",
      "Get:56 http://archive.ubuntu.com/ubuntu jammy/main amd64 libblas3 amd64 3.10.0-2ubuntu1 [228 kB]3m\u001b[33m\u001b[33m\n",
      "Get:57 http://archive.ubuntu.com/ubuntu jammy-updates/main amd64 libgfortran5 amd64 12.3.0-1ubuntu1~22.04 [879 kB]\n",
      "Get:58 http://archive.ubuntu.com/ubuntu jammy/main amd64 liblapack3 amd64 3.10.0-2ubuntu1 [2504 kB][33m\u001b[33m\n",
      "Get:59 http://archive.ubuntu.com/ubuntu jammy/main amd64 libasyncns0 amd64 0.8-6build2 [12.8 kB]3m\u001b[33m\u001b[33m\u001b[33m\n",
      "Get:60 http://archive.ubuntu.com/ubuntu jammy-updates/main amd64 libflac8 amd64 1.3.3-2ubuntu0.2 [111 kB]\n",
      "Get:61 http://archive.ubuntu.com/ubuntu jammy-updates/main amd64 libsndfile1 amd64 1.0.31-2ubuntu0.2 [196 kB]\n",
      "Get:62 http://archive.ubuntu.com/ubuntu jammy-updates/main amd64 libpulse0 amd64 1:15.99.1+dfsg1-1ubuntu2.2 [298 kB]\n",
      "Get:63 http://archive.ubuntu.com/ubuntu jammy/universe amd64 libsphinxbase3 amd64 0.8+5prealpha+1-13build1 [126 kB]\n",
      "Get:64 http://archive.ubuntu.com/ubuntu jammy/universe amd64 libpocketsphinx3 amd64 0.8.0+real5prealpha+1-14ubuntu1 [132 kB]\n",
      "Get:65 http://archive.ubuntu.com/ubuntu jammy-updates/universe amd64 libpostproc55 amd64 7:4.4.2-0ubuntu0.22.04.1 [60.1 kB]\n",
      "Get:66 http://archive.ubuntu.com/ubuntu jammy/main amd64 libsamplerate0 amd64 0.2.2-1build1 [1359 kB]\n",
      "Get:67 http://archive.ubuntu.com/ubuntu jammy/universe amd64 librubberband2 amd64 2.0.0-2 [90.0 kB][33m\u001b[33m\n",
      "Get:68 http://archive.ubuntu.com/ubuntu jammy-updates/universe amd64 libswscale5 amd64 7:4.4.2-0ubuntu0.22.04.1 [180 kB]\n",
      "Get:69 http://archive.ubuntu.com/ubuntu jammy/universe amd64 libvidstab1.1 amd64 1.1.0-2 [35.0 kB]\u001b[33m\n",
      "Get:70 http://archive.ubuntu.com/ubuntu jammy/universe amd64 libzimg2 amd64 3.0.3+ds1-1 [241 kB]\n",
      "Get:71 http://archive.ubuntu.com/ubuntu jammy-updates/universe amd64 libavfilter7 amd64 7:4.4.2-0ubuntu0.22.04.1 [1496 kB]\n",
      "Get:72 http://archive.ubuntu.com/ubuntu jammy/main amd64 libcaca0 amd64 0.99.beta19-2.2ubuntu4 [224 kB]\u001b[33m\u001b[33m\n",
      "Get:73 http://archive.ubuntu.com/ubuntu jammy-updates/main amd64 libcdio19 amd64 2.1.0-3ubuntu0.2 [63.6 kB]\n",
      "Get:74 http://archive.ubuntu.com/ubuntu jammy/main amd64 libcdio-cdda2 amd64 10.2+2.0.0-1build3 [16.7 kB]\n",
      "Get:75 http://archive.ubuntu.com/ubuntu jammy/main amd64 libcdio-paranoia2 amd64 10.2+2.0.0-1build3 [15.9 kB]\n",
      "Get:76 http://archive.ubuntu.com/ubuntu jammy/universe amd64 libdc1394-25 amd64 2.2.6-4 [88.8 kB]m\n",
      "Get:77 http://archive.ubuntu.com/ubuntu jammy/main amd64 libiec61883-0 amd64 1.2.0-4build3 [25.9 kB]\n",
      "Get:78 http://archive.ubuntu.com/ubuntu jammy/main amd64 libjack-jackd2-0 amd64 1.9.20~dfsg-1 [293 kB]\n",
      "Get:79 http://archive.ubuntu.com/ubuntu jammy/universe amd64 libopenal-data all 1:1.19.1-2build3 [164 kB]\n",
      "Get:80 http://archive.ubuntu.com/ubuntu jammy/universe amd64 libsndio7.0 amd64 1.8.1-1.1 [29.3 kB]\u001b[33m\n",
      "Get:81 http://archive.ubuntu.com/ubuntu jammy/universe amd64 libopenal1 amd64 1:1.19.1-2build3 [535 kB]\n",
      "Get:82 http://archive.ubuntu.com/ubuntu jammy/main amd64 libdecor-0-0 amd64 0.1.0-3build1 [15.1 kB][33m\u001b[33m\n",
      "Get:83 http://archive.ubuntu.com/ubuntu jammy/main amd64 libxss1 amd64 1:1.2.3-1build2 [8476 B]\n",
      "Get:84 http://archive.ubuntu.com/ubuntu jammy-updates/main amd64 libsdl2-2.0-0 amd64 2.0.20+dfsg-2ubuntu1.22.04.1 [582 kB]\n",
      "Get:85 http://archive.ubuntu.com/ubuntu jammy-updates/universe amd64 libavdevice58 amd64 7:4.4.2-0ubuntu0.22.04.1 [87.5 kB]\n",
      "Get:86 http://archive.ubuntu.com/ubuntu jammy-updates/universe amd64 ffmpeg amd64 7:4.4.2-0ubuntu0.22.04.1 [1696 kB]\n",
      "Get:87 http://archive.ubuntu.com/ubuntu jammy/universe amd64 libigdgmm12 amd64 22.1.2+ds1-1 [139 kB]33m\u001b[33m\u001b[33m\n",
      "Get:88 http://archive.ubuntu.com/ubuntu jammy-updates/universe amd64 intel-media-va-driver amd64 22.3.1+dfsg1-1ubuntu2 [2283 kB]\n",
      "Get:89 http://archive.ubuntu.com/ubuntu jammy/universe amd64 libaacs0 amd64 0.11.1-1 [64.1 kB][33m\u001b[33m\u001b[33m\u001b[33m\n",
      "Get:90 http://archive.ubuntu.com/ubuntu jammy/universe amd64 libbdplus0 amd64 0.2.0-1 [52.2 kB]33m\n",
      "Get:91 http://archive.ubuntu.com/ubuntu jammy/main amd64 libdecor-0-plugin-1-cairo amd64 0.1.0-3build1 [20.4 kB]\n",
      "Get:92 http://archive.ubuntu.com/ubuntu jammy-updates/universe amd64 mesa-va-drivers amd64 23.2.1-1ubuntu3.1~22.04.3 [4100 kB]\n",
      "Get:93 http://archive.ubuntu.com/ubuntu jammy/universe amd64 i965-va-driver amd64 2.4.1+dfsg1-1 [302 kB][33m\u001b[33m\n",
      "Get:94 http://archive.ubuntu.com/ubuntu jammy/universe amd64 va-driver-all amd64 2.14.0-1 [3984 B]\u001b[33m\n",
      "Get:95 http://archive.ubuntu.com/ubuntu jammy/universe amd64 pocketsphinx-en-us all 0.8.0+real5prealpha+1-14ubuntu1 [27.6 MB]\n",
      "Fetched 89.3 MB in 2min 33s (583 kB/s)                                         \u001b[0m\u001b[33m\u001b[33m\u001b[33m\u001b[33m\u001b[33m\u001b[33m\u001b[33m\u001b[33m\n",
      "Extracting templates from packages: 100%\n",
      "\n",
      "\u001b7\u001b[0;23r\u001b8\u001b[1ASelecting previously unselected package libaom3:amd64.\n",
      "(Reading database ... 125752 files and directories currently installed.)\n",
      "Preparing to unpack .../00-libaom3_3.3.0-1ubuntu0.1_amd64.deb ...\n",
      "\u001b7\u001b[24;0f\u001b[42m\u001b[30mProgress: [  0%]\u001b[49m\u001b[39m [..........................................................] \u001b8Unpacking libaom3:amd64 (3.3.0-1ubuntu0.1) ...\n",
      "Selecting previously unselected package libva2:amd64.\n",
      "Preparing to unpack .../01-libva2_2.14.0-1_amd64.deb ...\n",
      "Unpacking libva2:amd64 (2.14.0-1) ...\n",
      "\u001b7\u001b[24;0f\u001b[42m\u001b[30mProgress: [  1%]\u001b[49m\u001b[39m [..........................................................] \u001b8Selecting previously unselected package libmfx1:amd64.\n",
      "Preparing to unpack .../02-libmfx1_22.3.0-1_amd64.deb ...\n",
      "Unpacking libmfx1:amd64 (22.3.0-1) ...\n",
      "Selecting previously unselected package libva-drm2:amd64.\n",
      "Preparing to unpack .../03-libva-drm2_2.14.0-1_amd64.deb ...\n",
      "Unpacking libva-drm2:amd64 (2.14.0-1) ...\n",
      "\u001b7\u001b[24;0f\u001b[42m\u001b[30mProgress: [  2%]\u001b[49m\u001b[39m [#.........................................................] \u001b8Selecting previously unselected package libva-x11-2:amd64.\n",
      "Preparing to unpack .../04-libva-x11-2_2.14.0-1_amd64.deb ...\n",
      "Unpacking libva-x11-2:amd64 (2.14.0-1) ...\n",
      "Selecting previously unselected package ocl-icd-libopencl1:amd64.\n",
      "Preparing to unpack .../05-ocl-icd-libopencl1_2.2.14-3_amd64.deb ...\n",
      "Unpacking ocl-icd-libopencl1:amd64 (2.2.14-3) ...\n",
      "\u001b7\u001b[24;0f\u001b[42m\u001b[30mProgress: [  3%]\u001b[49m\u001b[39m [#.........................................................] \u001b8Selecting previously unselected package libavutil56:amd64.\n",
      "Preparing to unpack .../06-libavutil56_7%3a4.4.2-0ubuntu0.22.04.1_amd64.deb ...\n",
      "Unpacking libavutil56:amd64 (7:4.4.2-0ubuntu0.22.04.1) ...\n",
      "Selecting previously unselected package libcodec2-1.0:amd64.\n",
      "Preparing to unpack .../07-libcodec2-1.0_1.0.1-3_amd64.deb ...\n",
      "Unpacking libcodec2-1.0:amd64 (1.0.1-3) ...\n",
      "\u001b7\u001b[24;0f\u001b[42m\u001b[30mProgress: [  4%]\u001b[49m\u001b[39m [##........................................................] \u001b8Selecting previously unselected package libdav1d5:amd64.\n",
      "Preparing to unpack .../08-libdav1d5_0.9.2-1_amd64.deb ...\n",
      "Unpacking libdav1d5:amd64 (0.9.2-1) ...\n",
      "Selecting previously unselected package libgsm1:amd64.\n",
      "Preparing to unpack .../09-libgsm1_1.0.19-1_amd64.deb ...\n",
      "Unpacking libgsm1:amd64 (1.0.19-1) ...\n",
      "\u001b7\u001b[24;0f\u001b[42m\u001b[30mProgress: [  5%]\u001b[49m\u001b[39m [###.......................................................] \u001b8Selecting previously unselected package libmp3lame0:amd64.\n",
      "Preparing to unpack .../10-libmp3lame0_3.100-3build2_amd64.deb ...\n",
      "Unpacking libmp3lame0:amd64 (3.100-3build2) ...\n",
      "Selecting previously unselected package libopenjp2-7:amd64.\n",
      "Preparing to unpack .../11-libopenjp2-7_2.4.0-6ubuntu0.3_amd64.deb ...\n",
      "\u001b7\u001b[24;0f\u001b[42m\u001b[30mProgress: [  6%]\u001b[49m\u001b[39m [###.......................................................] \u001b8Unpacking libopenjp2-7:amd64 (2.4.0-6ubuntu0.3) ...\n",
      "Selecting previously unselected package libopus0:amd64.\n",
      "Preparing to unpack .../12-libopus0_1.3.1-0.1build2_amd64.deb ...\n",
      "Unpacking libopus0:amd64 (1.3.1-0.1build2) ...\n",
      "Selecting previously unselected package libshine3:amd64.\n",
      "Preparing to unpack .../13-libshine3_3.1.1-2_amd64.deb ...\n",
      "\u001b7\u001b[24;0f\u001b[42m\u001b[30mProgress: [  7%]\u001b[49m\u001b[39m [####......................................................] \u001b8Unpacking libshine3:amd64 (3.1.1-2) ...\n",
      "Selecting previously unselected package libsnappy1v5:amd64.\n",
      "Preparing to unpack .../14-libsnappy1v5_1.1.8-1build3_amd64.deb ...\n",
      "Unpacking libsnappy1v5:amd64 (1.1.8-1build3) ...\n",
      "Selecting previously unselected package libspeex1:amd64.\n",
      "Preparing to unpack .../15-libspeex1_1.2~rc1.2-1.1ubuntu3_amd64.deb ...\n",
      "\u001b7\u001b[24;0f\u001b[42m\u001b[30mProgress: [  8%]\u001b[49m\u001b[39m [####......................................................] \u001b8Unpacking libspeex1:amd64 (1.2~rc1.2-1.1ubuntu3) ...\n",
      "Selecting previously unselected package libsoxr0:amd64.\n",
      "Preparing to unpack .../16-libsoxr0_0.1.3-4build2_amd64.deb ...\n",
      "Unpacking libsoxr0:amd64 (0.1.3-4build2) ...\n",
      "Selecting previously unselected package libswresample3:amd64.\n",
      "Preparing to unpack .../17-libswresample3_7%3a4.4.2-0ubuntu0.22.04.1_amd64.deb ...\n",
      "\u001b7\u001b[24;0f\u001b[42m\u001b[30mProgress: [  9%]\u001b[49m\u001b[39m [#####.....................................................] \u001b8Unpacking libswresample3:amd64 (7:4.4.2-0ubuntu0.22.04.1) ...\n",
      "Selecting previously unselected package libogg0:amd64.\n",
      "Preparing to unpack .../18-libogg0_1.3.5-0ubuntu3_amd64.deb ...\n",
      "Unpacking libogg0:amd64 (1.3.5-0ubuntu3) ...\n",
      "Selecting previously unselected package libtheora0:amd64.\n",
      "Preparing to unpack .../19-libtheora0_1.1.1+dfsg.1-15ubuntu4_amd64.deb ...\n",
      "\u001b7\u001b[24;0f\u001b[42m\u001b[30mProgress: [ 10%]\u001b[49m\u001b[39m [#####.....................................................] \u001b8Unpacking libtheora0:amd64 (1.1.1+dfsg.1-15ubuntu4) ...\n",
      "Selecting previously unselected package libtwolame0:amd64.\n",
      "Preparing to unpack .../20-libtwolame0_0.4.0-2build2_amd64.deb ...\n",
      "Unpacking libtwolame0:amd64 (0.4.0-2build2) ...\n",
      "\u001b7\u001b[24;0f\u001b[42m\u001b[30mProgress: [ 11%]\u001b[49m\u001b[39m [######....................................................] \u001b8Selecting previously unselected package libvorbis0a:amd64.\n",
      "Preparing to unpack .../21-libvorbis0a_1.3.7-1build2_amd64.deb ...\n",
      "Unpacking libvorbis0a:amd64 (1.3.7-1build2) ...\n",
      "Selecting previously unselected package libvorbisenc2:amd64.\n",
      "Preparing to unpack .../22-libvorbisenc2_1.3.7-1build2_amd64.deb ...\n",
      "Unpacking libvorbisenc2:amd64 (1.3.7-1build2) ...\n",
      "\u001b7\u001b[24;0f\u001b[42m\u001b[30mProgress: [ 12%]\u001b[49m\u001b[39m [#######...................................................] \u001b8Selecting previously unselected package libvpx7:amd64.\n",
      "Preparing to unpack .../23-libvpx7_1.11.0-2ubuntu2.3_amd64.deb ...\n",
      "Unpacking libvpx7:amd64 (1.11.0-2ubuntu2.3) ...\n",
      "Selecting previously unselected package libwebpmux3:amd64.\n",
      "Preparing to unpack .../24-libwebpmux3_1.2.2-2ubuntu0.22.04.2_amd64.deb ...\n",
      "Unpacking libwebpmux3:amd64 (1.2.2-2ubuntu0.22.04.2) ...\n",
      "\u001b7\u001b[24;0f\u001b[42m\u001b[30mProgress: [ 13%]\u001b[49m\u001b[39m [#######...................................................] \u001b8Selecting previously unselected package libx264-163:amd64.\n",
      "Preparing to unpack .../25-libx264-163_2%3a0.163.3060+git5db6aa6-2build1_amd64.deb ...\n",
      "Unpacking libx264-163:amd64 (2:0.163.3060+git5db6aa6-2build1) ...\n",
      "Selecting previously unselected package libx265-199:amd64.\n",
      "Preparing to unpack .../26-libx265-199_3.5-2_amd64.deb ...\n",
      "Unpacking libx265-199:amd64 (3.5-2) ...\n",
      "\u001b7\u001b[24;0f\u001b[42m\u001b[30mProgress: [ 14%]\u001b[49m\u001b[39m [########..................................................] \u001b8Selecting previously unselected package libxvidcore4:amd64.\n",
      "Preparing to unpack .../27-libxvidcore4_2%3a1.3.7-1_amd64.deb ...\n",
      "Unpacking libxvidcore4:amd64 (2:1.3.7-1) ...\n",
      "Selecting previously unselected package libzvbi-common.\n",
      "Preparing to unpack .../28-libzvbi-common_0.2.35-19_all.deb ...\n",
      "Unpacking libzvbi-common (0.2.35-19) ...\n",
      "\u001b7\u001b[24;0f\u001b[42m\u001b[30mProgress: [ 15%]\u001b[49m\u001b[39m [########..................................................] \u001b8Selecting previously unselected package libzvbi0:amd64.\n",
      "Preparing to unpack .../29-libzvbi0_0.2.35-19_amd64.deb ...\n",
      "Unpacking libzvbi0:amd64 (0.2.35-19) ...\n",
      "Selecting previously unselected package libavcodec58:amd64.\n",
      "Preparing to unpack .../30-libavcodec58_7%3a4.4.2-0ubuntu0.22.04.1_amd64.deb ...\n",
      "\u001b7\u001b[24;0f\u001b[42m\u001b[30mProgress: [ 16%]\u001b[49m\u001b[39m [#########.................................................] \u001b8Unpacking libavcodec58:amd64 (7:4.4.2-0ubuntu0.22.04.1) ...\n",
      "Selecting previously unselected package libraw1394-11:amd64.\n",
      "Preparing to unpack .../31-libraw1394-11_2.1.2-2build2_amd64.deb ...\n",
      "Unpacking libraw1394-11:amd64 (2.1.2-2build2) ...\n",
      "Selecting previously unselected package libavc1394-0:amd64.\n",
      "Preparing to unpack .../32-libavc1394-0_0.5.4-5build2_amd64.deb ...\n",
      "\u001b7\u001b[24;0f\u001b[42m\u001b[30mProgress: [ 17%]\u001b[49m\u001b[39m [#########.................................................] \u001b8Unpacking libavc1394-0:amd64 (0.5.4-5build2) ...\n",
      "Selecting previously unselected package libass9:amd64.\n",
      "Preparing to unpack .../33-libass9_1%3a0.15.2-1_amd64.deb ...\n",
      "Unpacking libass9:amd64 (1:0.15.2-1) ...\n",
      "Selecting previously unselected package libudfread0:amd64.\n",
      "Preparing to unpack .../34-libudfread0_1.1.2-1_amd64.deb ...\n",
      "\u001b7\u001b[24;0f\u001b[42m\u001b[30mProgress: [ 18%]\u001b[49m\u001b[39m [##########................................................] \u001b8Unpacking libudfread0:amd64 (1.1.2-1) ...\n",
      "Selecting previously unselected package libbluray2:amd64.\n",
      "Preparing to unpack .../35-libbluray2_1%3a1.3.1-1_amd64.deb ...\n",
      "Unpacking libbluray2:amd64 (1:1.3.1-1) ...\n",
      "Selecting previously unselected package libchromaprint1:amd64.\n",
      "Preparing to unpack .../36-libchromaprint1_1.5.1-2_amd64.deb ...\n",
      "\u001b7\u001b[24;0f\u001b[42m\u001b[30mProgress: [ 19%]\u001b[49m\u001b[39m [###########...............................................] \u001b8Unpacking libchromaprint1:amd64 (1.5.1-2) ...\n",
      "Selecting previously unselected package libgme0:amd64.\n",
      "Preparing to unpack .../37-libgme0_0.6.3-2_amd64.deb ...\n",
      "Unpacking libgme0:amd64 (0.6.3-2) ...\n",
      "Selecting previously unselected package libmpg123-0:amd64.\n",
      "Preparing to unpack .../38-libmpg123-0_1.29.3-1ubuntu0.1_amd64.deb ...\n",
      "\u001b7\u001b[24;0f\u001b[42m\u001b[30mProgress: [ 20%]\u001b[49m\u001b[39m [###########...............................................] \u001b8Unpacking libmpg123-0:amd64 (1.29.3-1ubuntu0.1) ...\n",
      "Selecting previously unselected package libvorbisfile3:amd64.\n",
      "Preparing to unpack .../39-libvorbisfile3_1.3.7-1build2_amd64.deb ...\n",
      "Unpacking libvorbisfile3:amd64 (1.3.7-1build2) ...\n",
      "Selecting previously unselected package libopenmpt0:amd64.\n",
      "Preparing to unpack .../40-libopenmpt0_0.6.1-1_amd64.deb ...\n",
      "\u001b7\u001b[24;0f\u001b[42m\u001b[30mProgress: [ 21%]\u001b[49m\u001b[39m [############..............................................] \u001b8Unpacking libopenmpt0:amd64 (0.6.1-1) ...\n",
      "Selecting previously unselected package librabbitmq4:amd64.\n",
      "Preparing to unpack .../41-librabbitmq4_0.10.0-1ubuntu2_amd64.deb ...\n",
      "Unpacking librabbitmq4:amd64 (0.10.0-1ubuntu2) ...\n",
      "\u001b7\u001b[24;0f\u001b[42m\u001b[30mProgress: [ 22%]\u001b[49m\u001b[39m [############..............................................] \u001b8Selecting previously unselected package libsrt1.4-gnutls:amd64.\n",
      "Preparing to unpack .../42-libsrt1.4-gnutls_1.4.4-4_amd64.deb ...\n",
      "Unpacking libsrt1.4-gnutls:amd64 (1.4.4-4) ...\n",
      "Selecting previously unselected package libssh-gcrypt-4:amd64.\n",
      "Preparing to unpack .../43-libssh-gcrypt-4_0.9.6-2ubuntu0.22.04.3_amd64.deb ...\n",
      "Unpacking libssh-gcrypt-4:amd64 (0.9.6-2ubuntu0.22.04.3) ...\n",
      "\u001b7\u001b[24;0f\u001b[42m\u001b[30mProgress: [ 23%]\u001b[49m\u001b[39m [#############.............................................] \u001b8Selecting previously unselected package libnorm1:amd64.\n",
      "Preparing to unpack .../44-libnorm1_1.5.9+dfsg-2_amd64.deb ...\n",
      "Unpacking libnorm1:amd64 (1.5.9+dfsg-2) ...\n",
      "Selecting previously unselected package libpgm-5.3-0:amd64.\n",
      "Preparing to unpack .../45-libpgm-5.3-0_5.3.128~dfsg-2_amd64.deb ...\n",
      "Unpacking libpgm-5.3-0:amd64 (5.3.128~dfsg-2) ...\n",
      "\u001b7\u001b[24;0f\u001b[42m\u001b[30mProgress: [ 24%]\u001b[49m\u001b[39m [##############............................................] \u001b8Selecting previously unselected package libzmq5:amd64.\n",
      "Preparing to unpack .../46-libzmq5_4.3.4-2_amd64.deb ...\n",
      "Unpacking libzmq5:amd64 (4.3.4-2) ...\n",
      "Selecting previously unselected package libavformat58:amd64.\n",
      "Preparing to unpack .../47-libavformat58_7%3a4.4.2-0ubuntu0.22.04.1_amd64.deb ...\n",
      "Unpacking libavformat58:amd64 (7:4.4.2-0ubuntu0.22.04.1) ...\n",
      "\u001b7\u001b[24;0f\u001b[42m\u001b[30mProgress: [ 25%]\u001b[49m\u001b[39m [##############............................................] \u001b8Selecting previously unselected package libbs2b0:amd64.\n",
      "Preparing to unpack .../48-libbs2b0_3.1.0+dfsg-2.2build1_amd64.deb ...\n",
      "Unpacking libbs2b0:amd64 (3.1.0+dfsg-2.2build1) ...\n",
      "Selecting previously unselected package libflite1:amd64.\n",
      "Preparing to unpack .../49-libflite1_2.2-3_amd64.deb ...\n",
      "Unpacking libflite1:amd64 (2.2-3) ...\n",
      "\u001b7\u001b[24;0f\u001b[42m\u001b[30mProgress: [ 26%]\u001b[49m\u001b[39m [###############...........................................] \u001b8Selecting previously unselected package libserd-0-0:amd64.\n",
      "Preparing to unpack .../50-libserd-0-0_0.30.10-2_amd64.deb ...\n",
      "Unpacking libserd-0-0:amd64 (0.30.10-2) ...\n",
      "Selecting previously unselected package libsord-0-0:amd64.\n",
      "Preparing to unpack .../51-libsord-0-0_0.16.8-2_amd64.deb ...\n",
      "\u001b7\u001b[24;0f\u001b[42m\u001b[30mProgress: [ 27%]\u001b[49m\u001b[39m [###############...........................................] \u001b8Unpacking libsord-0-0:amd64 (0.16.8-2) ...\n",
      "Selecting previously unselected package libsratom-0-0:amd64.\n",
      "Preparing to unpack .../52-libsratom-0-0_0.6.8-1_amd64.deb ...\n",
      "Unpacking libsratom-0-0:amd64 (0.6.8-1) ...\n",
      "Selecting previously unselected package liblilv-0-0:amd64.\n",
      "Preparing to unpack .../53-liblilv-0-0_0.24.12-2_amd64.deb ...\n",
      "\u001b7\u001b[24;0f\u001b[42m\u001b[30mProgress: [ 28%]\u001b[49m\u001b[39m [################..........................................] \u001b8Unpacking liblilv-0-0:amd64 (0.24.12-2) ...\n",
      "Selecting previously unselected package libmysofa1:amd64.\n",
      "Preparing to unpack .../54-libmysofa1_1.2.1~dfsg0-1_amd64.deb ...\n",
      "Unpacking libmysofa1:amd64 (1.2.1~dfsg0-1) ...\n",
      "Selecting previously unselected package libblas3:amd64.\n",
      "Preparing to unpack .../55-libblas3_3.10.0-2ubuntu1_amd64.deb ...\n",
      "\u001b7\u001b[24;0f\u001b[42m\u001b[30mProgress: [ 29%]\u001b[49m\u001b[39m [################..........................................] \u001b8Unpacking libblas3:amd64 (3.10.0-2ubuntu1) ...\n",
      "Selecting previously unselected package libgfortran5:amd64.\n",
      "Preparing to unpack .../56-libgfortran5_12.3.0-1ubuntu1~22.04_amd64.deb ...\n",
      "Unpacking libgfortran5:amd64 (12.3.0-1ubuntu1~22.04) ...\n",
      "Selecting previously unselected package liblapack3:amd64.\n",
      "Preparing to unpack .../57-liblapack3_3.10.0-2ubuntu1_amd64.deb ...\n",
      "\u001b7\u001b[24;0f\u001b[42m\u001b[30mProgress: [ 30%]\u001b[49m\u001b[39m [#################.........................................] \u001b8Unpacking liblapack3:amd64 (3.10.0-2ubuntu1) ...\n",
      "Selecting previously unselected package libasyncns0:amd64.\n",
      "Preparing to unpack .../58-libasyncns0_0.8-6build2_amd64.deb ...\n",
      "Unpacking libasyncns0:amd64 (0.8-6build2) ...\n",
      "Selecting previously unselected package libflac8:amd64.\n",
      "Preparing to unpack .../59-libflac8_1.3.3-2ubuntu0.2_amd64.deb ...\n",
      "\u001b7\u001b[24;0f\u001b[42m\u001b[30mProgress: [ 31%]\u001b[49m\u001b[39m [##################........................................] \u001b8Unpacking libflac8:amd64 (1.3.3-2ubuntu0.2) ...\n",
      "Selecting previously unselected package libsndfile1:amd64.\n",
      "Preparing to unpack .../60-libsndfile1_1.0.31-2ubuntu0.2_amd64.deb ...\n",
      "Unpacking libsndfile1:amd64 (1.0.31-2ubuntu0.2) ...\n",
      "\u001b7\u001b[24;0f\u001b[42m\u001b[30mProgress: [ 32%]\u001b[49m\u001b[39m [##################........................................] \u001b8Selecting previously unselected package libpulse0:amd64.\n",
      "Preparing to unpack .../61-libpulse0_1%3a15.99.1+dfsg1-1ubuntu2.2_amd64.deb ...\n",
      "Unpacking libpulse0:amd64 (1:15.99.1+dfsg1-1ubuntu2.2) ...\n",
      "Selecting previously unselected package libsphinxbase3:amd64.\n",
      "Preparing to unpack .../62-libsphinxbase3_0.8+5prealpha+1-13build1_amd64.deb ...\n",
      "Unpacking libsphinxbase3:amd64 (0.8+5prealpha+1-13build1) ...\n",
      "\u001b7\u001b[24;0f\u001b[42m\u001b[30mProgress: [ 33%]\u001b[49m\u001b[39m [###################.......................................] \u001b8Selecting previously unselected package libpocketsphinx3:amd64.\n",
      "Preparing to unpack .../63-libpocketsphinx3_0.8.0+real5prealpha+1-14ubuntu1_amd64.deb ...\n",
      "Unpacking libpocketsphinx3:amd64 (0.8.0+real5prealpha+1-14ubuntu1) ...\n",
      "Selecting previously unselected package libpostproc55:amd64.\n",
      "Preparing to unpack .../64-libpostproc55_7%3a4.4.2-0ubuntu0.22.04.1_amd64.deb ...\n",
      "Unpacking libpostproc55:amd64 (7:4.4.2-0ubuntu0.22.04.1) ...\n",
      "\u001b7\u001b[24;0f\u001b[42m\u001b[30mProgress: [ 34%]\u001b[49m\u001b[39m [###################.......................................] \u001b8Selecting previously unselected package libsamplerate0:amd64.\n",
      "Preparing to unpack .../65-libsamplerate0_0.2.2-1build1_amd64.deb ...\n",
      "Unpacking libsamplerate0:amd64 (0.2.2-1build1) ...\n",
      "Selecting previously unselected package librubberband2:amd64.\n",
      "Preparing to unpack .../66-librubberband2_2.0.0-2_amd64.deb ...\n",
      "Unpacking librubberband2:amd64 (2.0.0-2) ...\n",
      "\u001b7\u001b[24;0f\u001b[42m\u001b[30mProgress: [ 35%]\u001b[49m\u001b[39m [####################......................................] \u001b8Selecting previously unselected package libswscale5:amd64.\n",
      "Preparing to unpack .../67-libswscale5_7%3a4.4.2-0ubuntu0.22.04.1_amd64.deb ...\n",
      "Unpacking libswscale5:amd64 (7:4.4.2-0ubuntu0.22.04.1) ...\n",
      "Selecting previously unselected package libvidstab1.1:amd64.\n",
      "Preparing to unpack .../68-libvidstab1.1_1.1.0-2_amd64.deb ...\n",
      "Unpacking libvidstab1.1:amd64 (1.1.0-2) ...\n",
      "\u001b7\u001b[24;0f\u001b[42m\u001b[30mProgress: [ 36%]\u001b[49m\u001b[39m [#####################.....................................] \u001b8Selecting previously unselected package libzimg2:amd64.\n",
      "Preparing to unpack .../69-libzimg2_3.0.3+ds1-1_amd64.deb ...\n",
      "Unpacking libzimg2:amd64 (3.0.3+ds1-1) ...\n",
      "Selecting previously unselected package libavfilter7:amd64.\n",
      "Preparing to unpack .../70-libavfilter7_7%3a4.4.2-0ubuntu0.22.04.1_amd64.deb ...\n",
      "\u001b7\u001b[24;0f\u001b[42m\u001b[30mProgress: [ 37%]\u001b[49m\u001b[39m [#####################.....................................] \u001b8Unpacking libavfilter7:amd64 (7:4.4.2-0ubuntu0.22.04.1) ...\n",
      "Selecting previously unselected package libcaca0:amd64.\n",
      "Preparing to unpack .../71-libcaca0_0.99.beta19-2.2ubuntu4_amd64.deb ...\n",
      "Unpacking libcaca0:amd64 (0.99.beta19-2.2ubuntu4) ...\n",
      "Selecting previously unselected package libcdio19:amd64.\n",
      "Preparing to unpack .../72-libcdio19_2.1.0-3ubuntu0.2_amd64.deb ...\n",
      "\u001b7\u001b[24;0f\u001b[42m\u001b[30mProgress: [ 38%]\u001b[49m\u001b[39m [######################....................................] \u001b8Unpacking libcdio19:amd64 (2.1.0-3ubuntu0.2) ...\n",
      "Selecting previously unselected package libcdio-cdda2:amd64.\n",
      "Preparing to unpack .../73-libcdio-cdda2_10.2+2.0.0-1build3_amd64.deb ...\n",
      "Unpacking libcdio-cdda2:amd64 (10.2+2.0.0-1build3) ...\n",
      "Selecting previously unselected package libcdio-paranoia2:amd64.\n",
      "Preparing to unpack .../74-libcdio-paranoia2_10.2+2.0.0-1build3_amd64.deb ...\n",
      "\u001b7\u001b[24;0f\u001b[42m\u001b[30mProgress: [ 39%]\u001b[49m\u001b[39m [######################....................................] \u001b8Unpacking libcdio-paranoia2:amd64 (10.2+2.0.0-1build3) ...\n",
      "Selecting previously unselected package libdc1394-25:amd64.\n",
      "Preparing to unpack .../75-libdc1394-25_2.2.6-4_amd64.deb ...\n",
      "Unpacking libdc1394-25:amd64 (2.2.6-4) ...\n",
      "Selecting previously unselected package libiec61883-0:amd64.\n",
      "Preparing to unpack .../76-libiec61883-0_1.2.0-4build3_amd64.deb ...\n",
      "\u001b7\u001b[24;0f\u001b[42m\u001b[30mProgress: [ 40%]\u001b[49m\u001b[39m [#######################...................................] \u001b8Unpacking libiec61883-0:amd64 (1.2.0-4build3) ...\n",
      "Selecting previously unselected package libjack-jackd2-0:amd64.\n",
      "Preparing to unpack .../77-libjack-jackd2-0_1.9.20~dfsg-1_amd64.deb ...\n",
      "Unpacking libjack-jackd2-0:amd64 (1.9.20~dfsg-1) ...\n",
      "Selecting previously unselected package libopenal-data.\n",
      "Preparing to unpack .../78-libopenal-data_1%3a1.19.1-2build3_all.deb ...\n",
      "\u001b7\u001b[24;0f\u001b[42m\u001b[30mProgress: [ 41%]\u001b[49m\u001b[39m [#######################...................................] \u001b8Unpacking libopenal-data (1:1.19.1-2build3) ...\n",
      "Selecting previously unselected package libsndio7.0:amd64.\n",
      "Preparing to unpack .../79-libsndio7.0_1.8.1-1.1_amd64.deb ...\n",
      "Unpacking libsndio7.0:amd64 (1.8.1-1.1) ...\n",
      "Selecting previously unselected package libopenal1:amd64.\n",
      "Preparing to unpack .../80-libopenal1_1%3a1.19.1-2build3_amd64.deb ...\n",
      "\u001b7\u001b[24;0f\u001b[42m\u001b[30mProgress: [ 42%]\u001b[49m\u001b[39m [########################..................................] \u001b8Unpacking libopenal1:amd64 (1:1.19.1-2build3) ...\n",
      "Selecting previously unselected package libdecor-0-0:amd64.\n",
      "Preparing to unpack .../81-libdecor-0-0_0.1.0-3build1_amd64.deb ...\n",
      "Unpacking libdecor-0-0:amd64 (0.1.0-3build1) ...\n",
      "\u001b7\u001b[24;0f\u001b[42m\u001b[30mProgress: [ 43%]\u001b[49m\u001b[39m [########################..................................] \u001b8Selecting previously unselected package libxss1:amd64.\n",
      "Preparing to unpack .../82-libxss1_1%3a1.2.3-1build2_amd64.deb ...\n",
      "Unpacking libxss1:amd64 (1:1.2.3-1build2) ...\n",
      "Selecting previously unselected package libsdl2-2.0-0:amd64.\n",
      "Preparing to unpack .../83-libsdl2-2.0-0_2.0.20+dfsg-2ubuntu1.22.04.1_amd64.deb ...\n",
      "Unpacking libsdl2-2.0-0:amd64 (2.0.20+dfsg-2ubuntu1.22.04.1) ...\n",
      "\u001b7\u001b[24;0f\u001b[42m\u001b[30mProgress: [ 44%]\u001b[49m\u001b[39m [#########################.................................] \u001b8Selecting previously unselected package libavdevice58:amd64.\n",
      "Preparing to unpack .../84-libavdevice58_7%3a4.4.2-0ubuntu0.22.04.1_amd64.deb ...\n",
      "Unpacking libavdevice58:amd64 (7:4.4.2-0ubuntu0.22.04.1) ...\n",
      "Selecting previously unselected package ffmpeg.\n",
      "Preparing to unpack .../85-ffmpeg_7%3a4.4.2-0ubuntu0.22.04.1_amd64.deb ...\n",
      "Unpacking ffmpeg (7:4.4.2-0ubuntu0.22.04.1) ...\n",
      "\u001b7\u001b[24;0f\u001b[42m\u001b[30mProgress: [ 45%]\u001b[49m\u001b[39m [##########################................................] \u001b8Selecting previously unselected package libigdgmm12:amd64.\n",
      "Preparing to unpack .../86-libigdgmm12_22.1.2+ds1-1_amd64.deb ...\n",
      "Unpacking libigdgmm12:amd64 (22.1.2+ds1-1) ...\n",
      "Selecting previously unselected package intel-media-va-driver:amd64.\n",
      "Preparing to unpack .../87-intel-media-va-driver_22.3.1+dfsg1-1ubuntu2_amd64.deb ...\n",
      "Unpacking intel-media-va-driver:amd64 (22.3.1+dfsg1-1ubuntu2) ...\n",
      "\u001b7\u001b[24;0f\u001b[42m\u001b[30mProgress: [ 46%]\u001b[49m\u001b[39m [##########################................................] \u001b8Selecting previously unselected package libaacs0:amd64.\n",
      "Preparing to unpack .../88-libaacs0_0.11.1-1_amd64.deb ...\n",
      "Unpacking libaacs0:amd64 (0.11.1-1) ...\n",
      "Selecting previously unselected package libbdplus0:amd64.\n",
      "Preparing to unpack .../89-libbdplus0_0.2.0-1_amd64.deb ...\n",
      "Unpacking libbdplus0:amd64 (0.2.0-1) ...\n",
      "\u001b7\u001b[24;0f\u001b[42m\u001b[30mProgress: [ 47%]\u001b[49m\u001b[39m [###########################...............................] \u001b8Selecting previously unselected package libdecor-0-plugin-1-cairo:amd64.\n",
      "Preparing to unpack .../90-libdecor-0-plugin-1-cairo_0.1.0-3build1_amd64.deb ...\n",
      "Unpacking libdecor-0-plugin-1-cairo:amd64 (0.1.0-3build1) ...\n",
      "Selecting previously unselected package mesa-va-drivers:amd64.\n",
      "Preparing to unpack .../91-mesa-va-drivers_23.2.1-1ubuntu3.1~22.04.3_amd64.deb ...\n",
      "\u001b7\u001b[24;0f\u001b[42m\u001b[30mProgress: [ 48%]\u001b[49m\u001b[39m [###########################...............................] \u001b8Unpacking mesa-va-drivers:amd64 (23.2.1-1ubuntu3.1~22.04.3) ...\n",
      "Selecting previously unselected package i965-va-driver:amd64.\n",
      "Preparing to unpack .../92-i965-va-driver_2.4.1+dfsg1-1_amd64.deb ...\n",
      "Unpacking i965-va-driver:amd64 (2.4.1+dfsg1-1) ...\n",
      "Selecting previously unselected package va-driver-all:amd64.\n",
      "Preparing to unpack .../93-va-driver-all_2.14.0-1_amd64.deb ...\n",
      "\u001b7\u001b[24;0f\u001b[42m\u001b[30mProgress: [ 49%]\u001b[49m\u001b[39m [############################..............................] \u001b8Unpacking va-driver-all:amd64 (2.14.0-1) ...\n",
      "Selecting previously unselected package pocketsphinx-en-us.\n",
      "Preparing to unpack .../94-pocketsphinx-en-us_0.8.0+real5prealpha+1-14ubuntu1_all.deb ...\n",
      "Unpacking pocketsphinx-en-us (0.8.0+real5prealpha+1-14ubuntu1) ...\n",
      "Setting up libgme0:amd64 (0.6.3-2) ...\n",
      "\u001b7\u001b[24;0f\u001b[42m\u001b[30mProgress: [ 50%]\u001b[49m\u001b[39m [#############################.............................] \u001b8Setting up libssh-gcrypt-4:amd64 (0.9.6-2ubuntu0.22.04.3) ...\n",
      "Setting up libsrt1.4-gnutls:amd64 (1.4.4-4) ...\n",
      "\u001b7\u001b[24;0f\u001b[42m\u001b[30mProgress: [ 51%]\u001b[49m\u001b[39m [#############################.............................] \u001b8Setting up libudfread0:amd64 (1.1.2-1) ...\n",
      "Setting up libaom3:amd64 (3.3.0-1ubuntu0.1) ...\n",
      "\u001b7\u001b[24;0f\u001b[42m\u001b[30mProgress: [ 52%]\u001b[49m\u001b[39m [##############################............................] \u001b8Setting up librabbitmq4:amd64 (0.10.0-1ubuntu2) ...\n",
      "\u001b7\u001b[24;0f\u001b[42m\u001b[30mProgress: [ 53%]\u001b[49m\u001b[39m [##############################............................] \u001b8Setting up libraw1394-11:amd64 (2.1.2-2build2) ...\n",
      "Setting up libcodec2-1.0:amd64 (1.0.1-3) ...\n",
      "\u001b7\u001b[24;0f\u001b[42m\u001b[30mProgress: [ 54%]\u001b[49m\u001b[39m [###############################...........................] \u001b8Setting up libmpg123-0:amd64 (1.29.3-1ubuntu0.1) ...\n",
      "Setting up libogg0:amd64 (1.3.5-0ubuntu3) ...\n",
      "\u001b7\u001b[24;0f\u001b[42m\u001b[30mProgress: [ 55%]\u001b[49m\u001b[39m [###############################...........................] \u001b8Setting up libspeex1:amd64 (1.2~rc1.2-1.1ubuntu3) ...\n",
      "Setting up libshine3:amd64 (3.1.1-2) ...\n",
      "\u001b7\u001b[24;0f\u001b[42m\u001b[30mProgress: [ 56%]\u001b[49m\u001b[39m [################################..........................] \u001b8Setting up libcaca0:amd64 (0.99.beta19-2.2ubuntu4) ...\n",
      "Setting up libtwolame0:amd64 (0.4.0-2build2) ...\n",
      "\u001b7\u001b[24;0f\u001b[42m\u001b[30mProgress: [ 57%]\u001b[49m\u001b[39m [#################################.........................] \u001b8Setting up libgsm1:amd64 (1.0.19-1) ...\n",
      "Setting up libsoxr0:amd64 (0.1.3-4build2) ...\n",
      "\u001b7\u001b[24;0f\u001b[42m\u001b[30mProgress: [ 58%]\u001b[49m\u001b[39m [#################################.........................] \u001b8Setting up libpgm-5.3-0:amd64 (5.3.128~dfsg-2) ...\n",
      "Setting up libnorm1:amd64 (1.5.9+dfsg-2) ...\n",
      "\u001b7\u001b[24;0f\u001b[42m\u001b[30mProgress: [ 59%]\u001b[49m\u001b[39m [##################################........................] \u001b8Setting up libmysofa1:amd64 (1.2.1~dfsg0-1) ...\n",
      "Setting up libigdgmm12:amd64 (22.1.2+ds1-1) ...\n",
      "\u001b7\u001b[24;0f\u001b[42m\u001b[30mProgress: [ 60%]\u001b[49m\u001b[39m [##################################........................] \u001b8Setting up libcdio19:amd64 (2.1.0-3ubuntu0.2) ...\n",
      "Setting up libxvidcore4:amd64 (2:1.3.7-1) ...\n",
      "\u001b7\u001b[24;0f\u001b[42m\u001b[30mProgress: [ 61%]\u001b[49m\u001b[39m [###################################.......................] \u001b8Setting up libsnappy1v5:amd64 (1.1.8-1build3) ...\n",
      "Setting up libflac8:amd64 (1.3.3-2ubuntu0.2) ...\n",
      "\u001b7\u001b[24;0f\u001b[42m\u001b[30mProgress: [ 62%]\u001b[49m\u001b[39m [####################################......................] \u001b8Setting up libblas3:amd64 (3.10.0-2ubuntu1) ...\n",
      "update-alternatives: using /usr/lib/x86_64-linux-gnu/blas/libblas.so.3 to provide /usr/lib/x86_64-linux-gnu/libblas.so.3 (libblas.so.3-x86_64-linux-gnu) in auto mode\n",
      "Setting up libass9:amd64 (1:0.15.2-1) ...\n",
      "\u001b7\u001b[24;0f\u001b[42m\u001b[30mProgress: [ 63%]\u001b[49m\u001b[39m [####################################......................] \u001b8Setting up libva2:amd64 (2.14.0-1) ...\n",
      "\u001b7\u001b[24;0f\u001b[42m\u001b[30mProgress: [ 64%]\u001b[49m\u001b[39m [#####################################.....................] \u001b8Setting up libx264-163:amd64 (2:0.163.3060+git5db6aa6-2build1) ...\n",
      "Setting up libopus0:amd64 (1.3.1-0.1build2) ...\n",
      "\u001b7\u001b[24;0f\u001b[42m\u001b[30mProgress: [ 65%]\u001b[49m\u001b[39m [#####################################.....................] \u001b8Setting up libdc1394-25:amd64 (2.2.6-4) ...\n",
      "Setting up intel-media-va-driver:amd64 (22.3.1+dfsg1-1ubuntu2) ...\n",
      "\u001b7\u001b[24;0f\u001b[42m\u001b[30mProgress: [ 66%]\u001b[49m\u001b[39m [######################################....................] \u001b8Setting up libvorbis0a:amd64 (1.3.7-1build2) ...\n",
      "Setting up libaacs0:amd64 (0.11.1-1) ...\n",
      "\u001b7\u001b[24;0f\u001b[42m\u001b[30mProgress: [ 67%]\u001b[49m\u001b[39m [######################################....................] \u001b8Setting up pocketsphinx-en-us (0.8.0+real5prealpha+1-14ubuntu1) ...\n",
      "Setting up libgfortran5:amd64 (12.3.0-1ubuntu1~22.04) ...\n",
      "\u001b7\u001b[24;0f\u001b[42m\u001b[30mProgress: [ 68%]\u001b[49m\u001b[39m [#######################################...................] \u001b8Setting up libx265-199:amd64 (3.5-2) ...\n",
      "Setting up libsndio7.0:amd64 (1.8.1-1.1) ...\n",
      "\u001b7\u001b[24;0f\u001b[42m\u001b[30mProgress: [ 69%]\u001b[49m\u001b[39m [########################################..................] \u001b8Setting up libbdplus0:amd64 (0.2.0-1) ...\n",
      "Setting up libvidstab1.1:amd64 (1.1.0-2) ...\n",
      "\u001b7\u001b[24;0f\u001b[42m\u001b[30mProgress: [ 70%]\u001b[49m\u001b[39m [########################################..................] \u001b8Setting up libflite1:amd64 (2.2-3) ...\n",
      "Setting up libva-drm2:amd64 (2.14.0-1) ...\n",
      "\u001b7\u001b[24;0f\u001b[42m\u001b[30mProgress: [ 71%]\u001b[49m\u001b[39m [#########################################.................] \u001b8Setting up ocl-icd-libopencl1:amd64 (2.2.14-3) ...\n",
      "Setting up libasyncns0:amd64 (0.8-6build2) ...\n",
      "\u001b7\u001b[24;0f\u001b[42m\u001b[30mProgress: [ 72%]\u001b[49m\u001b[39m [#########################################.................] \u001b8Setting up libbs2b0:amd64 (3.1.0+dfsg-2.2build1) ...\n",
      "Setting up libtheora0:amd64 (1.1.1+dfsg.1-15ubuntu4) ...\n",
      "\u001b7\u001b[24;0f\u001b[42m\u001b[30mProgress: [ 73%]\u001b[49m\u001b[39m [##########################################................] \u001b8Setting up libdecor-0-0:amd64 (0.1.0-3build1) ...\n",
      "\u001b7\u001b[24;0f\u001b[42m\u001b[30mProgress: [ 74%]\u001b[49m\u001b[39m [##########################################................] \u001b8Setting up libzimg2:amd64 (3.0.3+ds1-1) ...\n",
      "Setting up libopenjp2-7:amd64 (2.4.0-6ubuntu0.3) ...\n",
      "\u001b7\u001b[24;0f\u001b[42m\u001b[30mProgress: [ 75%]\u001b[49m\u001b[39m [###########################################...............] \u001b8Setting up libopenal-data (1:1.19.1-2build3) ...\n",
      "Setting up libvpx7:amd64 (1.11.0-2ubuntu2.3) ...\n",
      "\u001b7\u001b[24;0f\u001b[42m\u001b[30mProgress: [ 76%]\u001b[49m\u001b[39m [############################################..............] \u001b8Setting up libxss1:amd64 (1:1.2.3-1build2) ...\n",
      "Setting up mesa-va-drivers:amd64 (23.2.1-1ubuntu3.1~22.04.3) ...\n",
      "\u001b7\u001b[24;0f\u001b[42m\u001b[30mProgress: [ 77%]\u001b[49m\u001b[39m [############################################..............] \u001b8Setting up libdav1d5:amd64 (0.9.2-1) ...\n",
      "Setting up libmfx1:amd64 (22.3.0-1) ...\n",
      "\u001b7\u001b[24;0f\u001b[42m\u001b[30mProgress: [ 78%]\u001b[49m\u001b[39m [#############################################.............] \u001b8Setting up libbluray2:amd64 (1:1.3.1-1) ...\n",
      "Setting up libsamplerate0:amd64 (0.2.2-1build1) ...\n",
      "\u001b7\u001b[24;0f\u001b[42m\u001b[30mProgress: [ 79%]\u001b[49m\u001b[39m [#############################################.............] \u001b8Setting up libva-x11-2:amd64 (2.14.0-1) ...\n",
      "Setting up libwebpmux3:amd64 (1.2.2-2ubuntu0.22.04.2) ...\n",
      "\u001b7\u001b[24;0f\u001b[42m\u001b[30mProgress: [ 80%]\u001b[49m\u001b[39m [##############################################............] \u001b8Setting up libzvbi-common (0.2.35-19) ...\n",
      "Setting up libmp3lame0:amd64 (3.100-3build2) ...\n",
      "\u001b7\u001b[24;0f\u001b[42m\u001b[30mProgress: [ 81%]\u001b[49m\u001b[39m [###############################################...........] \u001b8Setting up i965-va-driver:amd64 (2.4.1+dfsg1-1) ...\n",
      "Setting up libvorbisenc2:amd64 (1.3.7-1build2) ...\n",
      "\u001b7\u001b[24;0f\u001b[42m\u001b[30mProgress: [ 82%]\u001b[49m\u001b[39m [###############################################...........] \u001b8Setting up libiec61883-0:amd64 (1.2.0-4build3) ...\n",
      "Setting up libserd-0-0:amd64 (0.30.10-2) ...\n",
      "\u001b7\u001b[24;0f\u001b[42m\u001b[30mProgress: [ 83%]\u001b[49m\u001b[39m [################################################..........] \u001b8Setting up libavc1394-0:amd64 (0.5.4-5build2) ...\n",
      "Setting up libzvbi0:amd64 (0.2.35-19) ...\n",
      "\u001b7\u001b[24;0f\u001b[42m\u001b[30mProgress: [ 84%]\u001b[49m\u001b[39m [################################################..........] \u001b8Setting up liblapack3:amd64 (3.10.0-2ubuntu1) ...\n",
      "update-alternatives: using /usr/lib/x86_64-linux-gnu/lapack/liblapack.so.3 to provide /usr/lib/x86_64-linux-gnu/liblapack.so.3 (liblapack.so.3-x86_64-linux-gnu) in auto mode\n",
      "\u001b7\u001b[24;0f\u001b[42m\u001b[30mProgress: [ 85%]\u001b[49m\u001b[39m [#################################################.........] \u001b8Setting up libzmq5:amd64 (4.3.4-2) ...\n",
      "Setting up libcdio-cdda2:amd64 (10.2+2.0.0-1build3) ...\n",
      "\u001b7\u001b[24;0f\u001b[42m\u001b[30mProgress: [ 86%]\u001b[49m\u001b[39m [#################################################.........] \u001b8Setting up libcdio-paranoia2:amd64 (10.2+2.0.0-1build3) ...\n",
      "Setting up libopenal1:amd64 (1:1.19.1-2build3) ...\n",
      "\u001b7\u001b[24;0f\u001b[42m\u001b[30mProgress: [ 87%]\u001b[49m\u001b[39m [##################################################........] \u001b8Setting up libavutil56:amd64 (7:4.4.2-0ubuntu0.22.04.1) ...\n",
      "Setting up libvorbisfile3:amd64 (1.3.7-1build2) ...\n",
      "\u001b7\u001b[24;0f\u001b[42m\u001b[30mProgress: [ 88%]\u001b[49m\u001b[39m [###################################################.......] \u001b8Setting up va-driver-all:amd64 (2.14.0-1) ...\n",
      "Setting up libdecor-0-plugin-1-cairo:amd64 (0.1.0-3build1) ...\n",
      "\u001b7\u001b[24;0f\u001b[42m\u001b[30mProgress: [ 89%]\u001b[49m\u001b[39m [###################################################.......] \u001b8Setting up libpostproc55:amd64 (7:4.4.2-0ubuntu0.22.04.1) ...\n",
      "Setting up librubberband2:amd64 (2.0.0-2) ...\n",
      "\u001b7\u001b[24;0f\u001b[42m\u001b[30mProgress: [ 90%]\u001b[49m\u001b[39m [####################################################......] \u001b8Setting up libjack-jackd2-0:amd64 (1.9.20~dfsg-1) ...\n",
      "Setting up libsord-0-0:amd64 (0.16.8-2) ...\n",
      "\u001b7\u001b[24;0f\u001b[42m\u001b[30mProgress: [ 91%]\u001b[49m\u001b[39m [####################################################......] \u001b8Setting up libsratom-0-0:amd64 (0.6.8-1) ...\n",
      "Setting up libswscale5:amd64 (7:4.4.2-0ubuntu0.22.04.1) ...\n",
      "\u001b7\u001b[24;0f\u001b[42m\u001b[30mProgress: [ 92%]\u001b[49m\u001b[39m [#####################################################.....] \u001b8Setting up libsndfile1:amd64 (1.0.31-2ubuntu0.2) ...\n",
      "Setting up liblilv-0-0:amd64 (0.24.12-2) ...\n",
      "\u001b7\u001b[24;0f\u001b[42m\u001b[30mProgress: [ 93%]\u001b[49m\u001b[39m [######################################################....] \u001b8Setting up libopenmpt0:amd64 (0.6.1-1) ...\n",
      "Setting up libpulse0:amd64 (1:15.99.1+dfsg1-1ubuntu2.2) ...\n",
      "\u001b7\u001b[24;0f\u001b[42m\u001b[30mProgress: [ 94%]\u001b[49m\u001b[39m [######################################################....] \u001b8Setting up libswresample3:amd64 (7:4.4.2-0ubuntu0.22.04.1) ...\n",
      "\u001b7\u001b[24;0f\u001b[42m\u001b[30mProgress: [ 95%]\u001b[49m\u001b[39m [#######################################################...] \u001b8Setting up libavcodec58:amd64 (7:4.4.2-0ubuntu0.22.04.1) ...\n",
      "Setting up libsdl2-2.0-0:amd64 (2.0.20+dfsg-2ubuntu1.22.04.1) ...\n",
      "\u001b7\u001b[24;0f\u001b[42m\u001b[30mProgress: [ 96%]\u001b[49m\u001b[39m [#######################################################...] \u001b8Setting up libchromaprint1:amd64 (1.5.1-2) ...\n",
      "Setting up libsphinxbase3:amd64 (0.8+5prealpha+1-13build1) ...\n",
      "\u001b7\u001b[24;0f\u001b[42m\u001b[30mProgress: [ 97%]\u001b[49m\u001b[39m [########################################################..] \u001b8Setting up libavformat58:amd64 (7:4.4.2-0ubuntu0.22.04.1) ...\n",
      "Setting up libpocketsphinx3:amd64 (0.8.0+real5prealpha+1-14ubuntu1) ...\n",
      "\u001b7\u001b[24;0f\u001b[42m\u001b[30mProgress: [ 98%]\u001b[49m\u001b[39m [########################################################..] \u001b8Setting up libavfilter7:amd64 (7:4.4.2-0ubuntu0.22.04.1) ...\n",
      "Setting up libavdevice58:amd64 (7:4.4.2-0ubuntu0.22.04.1) ...\n",
      "\u001b7\u001b[24;0f\u001b[42m\u001b[30mProgress: [ 99%]\u001b[49m\u001b[39m [#########################################################.] \u001b8Setting up ffmpeg (7:4.4.2-0ubuntu0.22.04.1) ...\n",
      "Processing triggers for man-db (2.10.2-1) ...\n",
      "Processing triggers for libc-bin (2.35-0ubuntu3.7) ...\n",
      "\n",
      "Scanning processes...                                                                            ]\n",
      "Scanning linux images...                                                        \n",
      "\n",
      "Running kernel seems to be up-to-date.\n",
      "\n",
      "No services need to be restarted.\n",
      "\n",
      "No containers need to be restarted.\n",
      "\n",
      "No user sessions are running outdated binaries.\n",
      "\n",
      "No VM guests are running outdated hypervisor (qemu) binaries on this host.\n"
     ]
    }
   ],
   "source": [
    "!sudo apt update\n",
    "!sudo apt install ffmpeg -y"
   ]
  },
  {
   "cell_type": "code",
   "execution_count": 5,
   "metadata": {},
   "outputs": [
    {
     "name": "stdout",
     "output_type": "stream",
     "text": [
      "Looking in indexes: https://pypi.tuna.tsinghua.edu.cn/simple\n",
      "Collecting ffmpeg-python\n",
      "  Downloading https://pypi.tuna.tsinghua.edu.cn/packages/d7/0c/56be52741f75bad4dc6555991fabd2e07b432d333da82c11ad701123888a/ffmpeg_python-0.2.0-py3-none-any.whl (25 kB)\n",
      "Collecting future (from ffmpeg-python)\n",
      "  Downloading https://pypi.tuna.tsinghua.edu.cn/packages/da/71/ae30dadffc90b9006d77af76b393cb9dfbfc9629f339fc1574a1c52e6806/future-1.0.0-py3-none-any.whl (491 kB)\n",
      "\u001b[2K     \u001b[90m━━━━━━━━━━━━━━━━━━━━━━━━━━━━━━━━━━━━━━\u001b[0m \u001b[32m491.3/491.3 kB\u001b[0m \u001b[31m50.4 MB/s\u001b[0m eta \u001b[36m0:00:00\u001b[0m\n",
      "\u001b[?25hInstalling collected packages: future, ffmpeg-python\n",
      "Successfully installed ffmpeg-python-0.2.0 future-1.0.0\n"
     ]
    }
   ],
   "source": [
    "!pip install ffmpeg-python"
   ]
  },
  {
   "cell_type": "code",
   "execution_count": 6,
   "metadata": {},
   "outputs": [],
   "source": [
    "import librosa\n",
    "import librosa.display\n",
    "import numpy as np\n",
    "import pandas as pd\n",
    "import ffmpeg as ff\n",
    "import os\n",
    "from typing import List, Tuple, Dict\n",
    "import matplotlib.pyplot as plt\n",
    "import random\n",
    "import cv2\n",
    "import pickle\n",
    "import datetime"
   ]
  },
  {
   "cell_type": "code",
   "execution_count": 7,
   "metadata": {},
   "outputs": [],
   "source": [
    "def extract_audio_from_video(file_path: str) -> np.ndarray:\n",
    "    inputfile = ff.input(file_path)\n",
    "    out = inputfile.output('-', format='f32le', acodec='pcm_f32le', ac=1, ar='44100')\n",
    "    raw = out.run(capture_stdout=True)\n",
    "    del inputfile, out\n",
    "    return np.frombuffer(raw[0],np.float32)"
   ]
  },
  {
   "cell_type": "code",
   "execution_count": 8,
   "metadata": {},
   "outputs": [],
   "source": [
    "def preprocess_audio_series(raw_data: np.ndarray) -> np.ndarray:\n",
    "    N, M = 24, 1319\n",
    "    # 使用关键字参数传递音频数据\n",
    "    mfcc_data = librosa.feature.mfcc(y=raw_data, n_mfcc=24)\n",
    "    \n",
    "    # Standardizing MFCC (zero mean and unit variance)\n",
    "    mfcc_data_standardized = (mfcc_data - np.mean(mfcc_data)) / np.std(mfcc_data)\n",
    "    \n",
    "    # Use pre-padding (Note: with 0, which is also the mean after standardization) to unify the length of the samples.\n",
    "    number_of_columns_to_fill = M - mfcc_data_standardized.shape[1]\n",
    "    padding = np.zeros((N, number_of_columns_to_fill))\n",
    "    \n",
    "    padded_data = np.hstack((padding, mfcc_data_standardized))\n",
    "    \n",
    "    # Reshaping to N,M,1\n",
    "    return padded_data.reshape(N, M, 1)"
   ]
  },
  {
   "cell_type": "code",
   "execution_count": 9,
   "metadata": {},
   "outputs": [],
   "source": [
    "def get_number_of_frames(file_path: str) -> int:\n",
    "    probe = ff.probe(filePath)\n",
    "    video_streams = [stream for stream in probe[\"streams\"] if stream[\"codec_type\"] == \"video\"]\n",
    "    #width = video_streams[0]['coded_width']\n",
    "    #height = video_streams[0]['coded_height']\n",
    "    del probe\n",
    "    return video_streams[0]['nb_frames']"
   ]
  },
  {
   "cell_type": "code",
   "execution_count": 10,
   "metadata": {},
   "outputs": [],
   "source": [
    "def extract_N_video_frames(file_path: str, number_of_samples: int = 6) -> List[np.ndarray]:\n",
    "    nb_frames = int(get_number_of_frames(file_path= filePath))\n",
    "    \n",
    "    video_frames = []\n",
    "    random_indexes = random.sample(range(0, nb_frames), number_of_samples)\n",
    "    \n",
    "    cap = cv2.VideoCapture(filePath)\n",
    "    for ind in random_indexes:\n",
    "        cap.set(1,ind)\n",
    "        res, frame = cap.read()\n",
    "        video_frames.append(cv2.cvtColor(frame, cv2.COLOR_BGR2RGB))\n",
    "    cap.release()\n",
    "    del cap, random_indexes\n",
    "    return video_frames"
   ]
  },
  {
   "cell_type": "code",
   "execution_count": 11,
   "metadata": {},
   "outputs": [],
   "source": [
    "def resize_image(image: np.ndarray, new_size: Tuple[int,int]) -> np.ndarray:\n",
    "    return cv2.resize(image, new_size, interpolation = cv2.INTER_AREA)"
   ]
  },
  {
   "cell_type": "code",
   "execution_count": 12,
   "metadata": {},
   "outputs": [],
   "source": [
    "def crop_image_window(image: np.ndarray, training: bool = True) -> np.ndarray:\n",
    "    height, width, _ = image.shape\n",
    "    if training:\n",
    "        MAX_N = height - 128\n",
    "        MAX_M = width - 128\n",
    "        rand_N_index, rand_M_index = random.randint(0, MAX_N) , random.randint(0, MAX_M)\n",
    "        return image[rand_N_index:(rand_N_index+128),rand_M_index:(rand_M_index+128),:]\n",
    "    else:\n",
    "        N_index = (height - 128) // 2\n",
    "        M_index = (width - 128) // 2\n",
    "        return image[N_index:(N_index+128),M_index:(M_index+128),:]"
   ]
  },
  {
   "cell_type": "code",
   "execution_count": 13,
   "metadata": {},
   "outputs": [],
   "source": [
    "def reading_label_data(file_name: str, dictionary: Dict[str,str]) -> np.ndarray:\n",
    "    features = ['extraversion', 'neuroticism', 'agreeableness', 'conscientiousness', 'openness']\n",
    "    extracted_data = [float(dictionary[label][file_name]) for label in features]\n",
    "    return np.stack(extracted_data).reshape(5,1)"
   ]
  },
  {
   "cell_type": "code",
   "execution_count": 14,
   "metadata": {},
   "outputs": [],
   "source": [
    "def preprocessing_input(file_path: str, file_name: str, dictionary: Dict[str,str], training: bool = True) -> Tuple[np.ndarray,np.ndarray,np.ndarray]:\n",
    "    #Audio\n",
    "    extracted_audio_raw = extract_audio_from_video(file_path= filePath)\n",
    "    preprocessed_audio = preprocess_audio_series(raw_data= extracted_audio_raw)\n",
    "    \n",
    "    #Video\n",
    "    sampled = extract_N_video_frames(file_path= filePath, number_of_samples= 6)\n",
    "    resized_images = [resize_image(image= im, new_size= (248,140)) for im in sampled]\n",
    "    cropped_images = [crop_image_window(image= resi,training= training) / 255.0 for resi in resized_images]\n",
    "    preprocessed_video = np.stack(cropped_images)\n",
    "    \n",
    "    #Ground Truth\n",
    "    video_gt = reading_label_data(file_name= file_name, dictionary= dictionary)\n",
    "    del extracted_audio_raw, sampled, resized_images, cropped_images\n",
    "    return (preprocessed_audio, preprocessed_video, video_gt)"
   ]
  },
  {
   "cell_type": "markdown",
   "metadata": {},
   "source": [
    "### Getting train set"
   ]
  },
  {
   "cell_type": "code",
   "execution_count": 21,
   "metadata": {},
   "outputs": [
    {
     "name": "stderr",
     "output_type": "stream",
     "text": [
      "Processing files: 100%|██████████████████████████████████████████████████████████| 6000/6000 [1:45:55<00:00,  1.06s/it]"
     ]
    },
    {
     "name": "stdout",
     "output_type": "stream",
     "text": [
      "Elapsed time: 1:45:55.467915\n"
     ]
    },
    {
     "name": "stderr",
     "output_type": "stream",
     "text": [
      "\n"
     ]
    }
   ],
   "source": [
    "from tqdm import tqdm\n",
    "import os\n",
    "import pickle\n",
    "import datetime\n",
    "\n",
    "training_set_data = []\n",
    "path = r\"C:\\Users\\50597\\Desktop\\data - 副本\\trainall\"\n",
    "gt = pickle.load(open(r\"C:\\Users\\50597\\Desktop\\data - 副本\\pkl\\train-annotation\\annotation_training.pkl\", \"rb\"), encoding='latin1')\n",
    "t1 = datetime.datetime.utcnow()\n",
    "\n",
    "# 获取文件夹中的所有文件名\n",
    "filenames = os.listdir(path)\n",
    "\n",
    "# 使用 tqdm 创建进度条\n",
    "for filename in tqdm(filenames, desc='Processing files'):\n",
    "    filePath = os.path.join(path, filename)\n",
    "    training_set_data.append(preprocessing_input(file_path=filePath, file_name=filename, dictionary=gt, training=True))\n",
    "\n",
    "t2 = datetime.datetime.utcnow()\n",
    "# 计算执行时间\n",
    "print('Elapsed time: ' + str(t2 - t1))"
   ]
  },
  {
   "cell_type": "code",
   "execution_count": 23,
   "metadata": {},
   "outputs": [],
   "source": [
    "savename = \"training_set.dat\"\n",
    "with open(savename, \"wb\") as f:\n",
    "    pickle.dump(training_set_data, f)"
   ]
  },
  {
   "cell_type": "markdown",
   "metadata": {},
   "source": [
    "### Getting validation set"
   ]
  },
  {
   "cell_type": "code",
   "execution_count": 22,
   "metadata": {},
   "outputs": [
    {
     "name": "stderr",
     "output_type": "stream",
     "text": [
      "Processing files: 100%|████████████████████████████████████████████████████████████| 2000/2000 [36:57<00:00,  1.11s/it]"
     ]
    },
    {
     "name": "stdout",
     "output_type": "stream",
     "text": [
      "Elapsed time: 0:36:57.343482\n"
     ]
    },
    {
     "name": "stderr",
     "output_type": "stream",
     "text": [
      "\n"
     ]
    }
   ],
   "source": [
    "validation_set_data = []\n",
    "path = r\"C:\\Users\\50597\\Desktop\\data - 副本\\valall\"\n",
    "gt = pickle.load( open( r\"C:\\Users\\50597\\Desktop\\data - 副本\\pkl\\val-annotation-e\\annotation_validation.pkl\", \"rb\" ), encoding='latin1' )\n",
    "t1 = datetime.datetime.utcnow()\n",
    "\n",
    "# 获取文件夹中的所有文件名\n",
    "filenames = os.listdir(path)\n",
    "\n",
    "# 使用 tqdm 创建进度条\n",
    "for filename in tqdm(filenames, desc='Processing files'):\n",
    "    filePath = os.path.join(path, filename)\n",
    "    validation_set_data.append(preprocessing_input(file_path=filePath, file_name=filename, dictionary=gt, training=True))\n",
    "\n",
    "t2 = datetime.datetime.utcnow()\n",
    "# 计算执行时间\n",
    "print('Elapsed time: ' + str(t2 - t1))"
   ]
  },
  {
   "cell_type": "code",
   "execution_count": 24,
   "metadata": {},
   "outputs": [],
   "source": [
    "savename = \"validation_set.dat\"\n",
    "with open(savename, \"wb\") as f:\n",
    "    pickle.dump(validation_set_data, f)"
   ]
  },
  {
   "cell_type": "markdown",
   "metadata": {},
   "source": [
    "### Getting test set"
   ]
  },
  {
   "cell_type": "code",
   "execution_count": 25,
   "metadata": {},
   "outputs": [
    {
     "name": "stderr",
     "output_type": "stream",
     "text": [
      "Processing files: 100%|████████████████████████████████████████████████████████████| 2000/2000 [33:29<00:00,  1.00s/it]"
     ]
    },
    {
     "name": "stdout",
     "output_type": "stream",
     "text": [
      "Elapsed time: 0:33:29.209434\n"
     ]
    },
    {
     "name": "stderr",
     "output_type": "stream",
     "text": [
      "\n"
     ]
    }
   ],
   "source": [
    "test_set_data = []\n",
    "path = r\"C:\\Users\\50597\\Desktop\\data - 副本\\testall\"\n",
    "gt = pickle.load( open( r\"C:\\Users\\50597\\Desktop\\data - 副本\\pkl\\test-annotation-e\\annotation_test.pkl\", \"rb\" ), encoding='latin1' )\n",
    "t1 = datetime.datetime.utcnow()\n",
    "\n",
    "filenames = os.listdir(path)\n",
    "\n",
    "# 使用 tqdm 创建进度条\n",
    "for filename in tqdm(filenames, desc='Processing files'):\n",
    "    filePath = os.path.join(path, filename)\n",
    "    test_set_data.append(preprocessing_input(file_path=filePath, file_name=filename, dictionary=gt, training=True))\n",
    "\n",
    "t2 = datetime.datetime.utcnow()\n",
    "# 计算执行时间\n",
    "print('Elapsed time: ' + str(t2 - t1))"
   ]
  },
  {
   "cell_type": "code",
   "execution_count": 26,
   "metadata": {},
   "outputs": [],
   "source": [
    "savename = \"test_set.dat\"\n",
    "with open(savename, \"wb\") as f:\n",
    "    pickle.dump(test_set_data, f)"
   ]
  },
  {
   "cell_type": "markdown",
   "metadata": {},
   "source": [
    "### Restarting kernel to free up memory, and then load data"
   ]
  },
  {
   "cell_type": "code",
   "execution_count": 15,
   "metadata": {},
   "outputs": [],
   "source": [
    "with open('training_set.dat', \"rb\") as training_file:\n",
    "    train_set_data = pickle.load(training_file)"
   ]
  },
  {
   "cell_type": "code",
   "execution_count": 20,
   "metadata": {},
   "outputs": [],
   "source": [
    "with open(\"validation_set.dat\", \"rb\") as validation_file:\n",
    "    validation_set_data = pickle.load(validation_file)"
   ]
  },
  {
   "cell_type": "code",
   "execution_count": 21,
   "metadata": {},
   "outputs": [],
   "source": [
    "with open(\"test_set.dat\", \"rb\") as test_file:\n",
    "    test_set_data = pickle.load(test_file)"
   ]
  },
  {
   "cell_type": "code",
   "execution_count": 22,
   "metadata": {},
   "outputs": [
    {
     "data": {
      "text/plain": [
       "<Axes: ylabel='Density'>"
      ]
     },
     "execution_count": 22,
     "metadata": {},
     "output_type": "execute_result"
    },
    {
     "data": {
      "image/png": "[encoded data removed]",
      "text/plain": [
       "<Figure size 640x480 with 1 Axes>"
      ]
     },
     "metadata": {},
     "output_type": "display_data"
    }
   ],
   "source": [
    "gt = pickle.load( open(\"annotation_training.pkl\", \"rb\" ), encoding='latin1' )\n",
    "neuroticism = list(gt['neuroticism'].values())\n",
    "extraversion = list(gt['extraversion'].values())\n",
    "agreeableness = list(gt['agreeableness'].values())\n",
    "conscientiousness = list(gt['conscientiousness'].values())\n",
    "openness = list(gt['openness'].values())\n",
    "\n",
    "df = pd.DataFrame({'neuroticism': neuroticism,'extraversion': extraversion,'agreeableness':agreeableness,'conscientiousness':conscientiousness,'openness':openness})\n",
    "df.plot(kind='density',xlim=(0,1))"
   ]
  },
  {
   "cell_type": "code",
   "execution_count": 23,
   "metadata": {},
   "outputs": [
    {
     "data": {
      "text/html": [
       "<div>\n",
       "<style scoped>\n",
       "    .dataframe tbody tr th:only-of-type {\n",
       "        vertical-align: middle;\n",
       "    }\n",
       "\n",
       "    .dataframe tbody tr th {\n",
       "        vertical-align: top;\n",
       "    }\n",
       "\n",
       "    .dataframe thead th {\n",
       "        text-align: right;\n",
       "    }\n",
       "</style>\n",
       "<table border=\"1\" class=\"dataframe\">\n",
       "  <thead>\n",
       "    <tr style=\"text-align: right;\">\n",
       "      <th></th>\n",
       "      <th>neuroticism</th>\n",
       "      <th>extraversion</th>\n",
       "      <th>agreeableness</th>\n",
       "      <th>conscientiousness</th>\n",
       "      <th>openness</th>\n",
       "    </tr>\n",
       "  </thead>\n",
       "  <tbody>\n",
       "    <tr>\n",
       "      <th>0</th>\n",
       "      <td>0.552083</td>\n",
       "      <td>0.523364</td>\n",
       "      <td>0.626374</td>\n",
       "      <td>0.601942</td>\n",
       "      <td>0.488889</td>\n",
       "    </tr>\n",
       "    <tr>\n",
       "      <th>1</th>\n",
       "      <td>0.375000</td>\n",
       "      <td>0.345794</td>\n",
       "      <td>0.472527</td>\n",
       "      <td>0.582524</td>\n",
       "      <td>0.366667</td>\n",
       "    </tr>\n",
       "    <tr>\n",
       "      <th>2</th>\n",
       "      <td>0.291667</td>\n",
       "      <td>0.252336</td>\n",
       "      <td>0.406593</td>\n",
       "      <td>0.485437</td>\n",
       "      <td>0.511111</td>\n",
       "    </tr>\n",
       "    <tr>\n",
       "      <th>3</th>\n",
       "      <td>0.489583</td>\n",
       "      <td>0.457944</td>\n",
       "      <td>0.505495</td>\n",
       "      <td>0.398058</td>\n",
       "      <td>0.377778</td>\n",
       "    </tr>\n",
       "    <tr>\n",
       "      <th>4</th>\n",
       "      <td>0.489583</td>\n",
       "      <td>0.607477</td>\n",
       "      <td>0.406593</td>\n",
       "      <td>0.621359</td>\n",
       "      <td>0.622222</td>\n",
       "    </tr>\n",
       "    <tr>\n",
       "      <th>...</th>\n",
       "      <td>...</td>\n",
       "      <td>...</td>\n",
       "      <td>...</td>\n",
       "      <td>...</td>\n",
       "      <td>...</td>\n",
       "    </tr>\n",
       "    <tr>\n",
       "      <th>5995</th>\n",
       "      <td>0.479167</td>\n",
       "      <td>0.523364</td>\n",
       "      <td>0.626374</td>\n",
       "      <td>0.621359</td>\n",
       "      <td>0.544444</td>\n",
       "    </tr>\n",
       "    <tr>\n",
       "      <th>5996</th>\n",
       "      <td>0.760417</td>\n",
       "      <td>0.728972</td>\n",
       "      <td>0.582418</td>\n",
       "      <td>0.524272</td>\n",
       "      <td>0.822222</td>\n",
       "    </tr>\n",
       "    <tr>\n",
       "      <th>5997</th>\n",
       "      <td>0.770833</td>\n",
       "      <td>0.700935</td>\n",
       "      <td>0.747253</td>\n",
       "      <td>0.699029</td>\n",
       "      <td>0.788889</td>\n",
       "    </tr>\n",
       "    <tr>\n",
       "      <th>5998</th>\n",
       "      <td>0.531250</td>\n",
       "      <td>0.317757</td>\n",
       "      <td>0.582418</td>\n",
       "      <td>0.679612</td>\n",
       "      <td>0.588889</td>\n",
       "    </tr>\n",
       "    <tr>\n",
       "      <th>5999</th>\n",
       "      <td>0.500000</td>\n",
       "      <td>0.401869</td>\n",
       "      <td>0.461538</td>\n",
       "      <td>0.543689</td>\n",
       "      <td>0.588889</td>\n",
       "    </tr>\n",
       "  </tbody>\n",
       "</table>\n",
       "<p>6000 rows × 5 columns</p>\n",
       "</div>"
      ],
      "text/plain": [
       "      neuroticism  extraversion  agreeableness  conscientiousness  openness\n",
       "0        0.552083      0.523364       0.626374           0.601942  0.488889\n",
       "1        0.375000      0.345794       0.472527           0.582524  0.366667\n",
       "2        0.291667      0.252336       0.406593           0.485437  0.511111\n",
       "3        0.489583      0.457944       0.505495           0.398058  0.377778\n",
       "4        0.489583      0.607477       0.406593           0.621359  0.622222\n",
       "...           ...           ...            ...                ...       ...\n",
       "5995     0.479167      0.523364       0.626374           0.621359  0.544444\n",
       "5996     0.760417      0.728972       0.582418           0.524272  0.822222\n",
       "5997     0.770833      0.700935       0.747253           0.699029  0.788889\n",
       "5998     0.531250      0.317757       0.582418           0.679612  0.588889\n",
       "5999     0.500000      0.401869       0.461538           0.543689  0.588889\n",
       "\n",
       "[6000 rows x 5 columns]"
      ]
     },
     "execution_count": 23,
     "metadata": {},
     "output_type": "execute_result"
    }
   ],
   "source": [
    "df"
   ]
  },
  {
   "cell_type": "markdown",
   "metadata": {},
   "source": [
    "### Plotting number of samples in each set"
   ]
  },
  {
   "cell_type": "code",
   "execution_count": 24,
   "metadata": {},
   "outputs": [
    {
     "name": "stdout",
     "output_type": "stream",
     "text": [
      "6000\n",
      "2000\n",
      "2000\n"
     ]
    }
   ],
   "source": [
    "print(len(train_set_data))\n",
    "print(len(validation_set_data))\n",
    "print(len(test_set_data))"
   ]
  },
  {
   "cell_type": "code",
   "execution_count": 25,
   "metadata": {},
   "outputs": [],
   "source": [
    "train_random_index = random.randint(0, len(train_set_data)-1)\n",
    "validation_random_index = random.randint(0, len(validation_set_data)-1)\n",
    "test_random_index = random.randint(0, len(test_set_data)-1)"
   ]
  },
  {
   "cell_type": "code",
   "execution_count": 26,
   "metadata": {},
   "outputs": [],
   "source": [
    "shape = train_set_data[train_random_index][0].shape\n",
    "mfcc_train = train_set_data[train_random_index][0].reshape(shape[0],shape[1])\n",
    "\n",
    "shape = validation_set_data[validation_random_index][0].shape\n",
    "mfcc_validation = validation_set_data[validation_random_index][0].reshape(shape[0],shape[1])\n",
    "\n",
    "shape = test_set_data[test_random_index][0].shape\n",
    "mfcc_train = test_set_data[test_random_index][0].reshape(shape[0],shape[1])\n",
    "\n",
    "mfccs = [mfcc_train,mfcc_validation,mfcc_train]"
   ]
  },
  {
   "cell_type": "markdown",
   "metadata": {},
   "source": [
    "### Displaying 3 video samples from train,validation and test sets"
   ]
  },
  {
   "cell_type": "code",
   "execution_count": 27,
   "metadata": {},
   "outputs": [
    {
     "ename": "ValueError",
     "evalue": "arrays must be of dtype byte, short, float32 or float64",
     "output_type": "error",
     "traceback": [
      "\u001b[0;31m---------------------------------------------------------------------------\u001b[0m",
      "\u001b[0;31mValueError\u001b[0m                                Traceback (most recent call last)",
      "File \u001b[0;32m/environment/miniconda3/lib/python3.11/site-packages/IPython/core/formatters.py:343\u001b[0m, in \u001b[0;36mBaseFormatter.__call__\u001b[0;34m(self, obj)\u001b[0m\n\u001b[1;32m    341\u001b[0m     \u001b[38;5;28;01mpass\u001b[39;00m\n\u001b[1;32m    342\u001b[0m \u001b[38;5;28;01melse\u001b[39;00m:\n\u001b[0;32m--> 343\u001b[0m     \u001b[38;5;28;01mreturn\u001b[39;00m \u001b[43mprinter\u001b[49m\u001b[43m(\u001b[49m\u001b[43mobj\u001b[49m\u001b[43m)\u001b[49m\n\u001b[1;32m    344\u001b[0m \u001b[38;5;66;03m# Finally look for special method names\u001b[39;00m\n\u001b[1;32m    345\u001b[0m method \u001b[38;5;241m=\u001b[39m get_real_method(obj, \u001b[38;5;28mself\u001b[39m\u001b[38;5;241m.\u001b[39mprint_method)\n",
      "File \u001b[0;32m/environment/miniconda3/lib/python3.11/site-packages/IPython/core/pylabtools.py:152\u001b[0m, in \u001b[0;36mprint_figure\u001b[0;34m(fig, fmt, bbox_inches, base64, **kwargs)\u001b[0m\n\u001b[1;32m    149\u001b[0m     \u001b[38;5;28;01mfrom\u001b[39;00m \u001b[38;5;21;01mmatplotlib\u001b[39;00m\u001b[38;5;21;01m.\u001b[39;00m\u001b[38;5;21;01mbackend_bases\u001b[39;00m \u001b[38;5;28;01mimport\u001b[39;00m FigureCanvasBase\n\u001b[1;32m    150\u001b[0m     FigureCanvasBase(fig)\n\u001b[0;32m--> 152\u001b[0m \u001b[43mfig\u001b[49m\u001b[38;5;241;43m.\u001b[39;49m\u001b[43mcanvas\u001b[49m\u001b[38;5;241;43m.\u001b[39;49m\u001b[43mprint_figure\u001b[49m\u001b[43m(\u001b[49m\u001b[43mbytes_io\u001b[49m\u001b[43m,\u001b[49m\u001b[43m \u001b[49m\u001b[38;5;241;43m*\u001b[39;49m\u001b[38;5;241;43m*\u001b[39;49m\u001b[43mkw\u001b[49m\u001b[43m)\u001b[49m\n\u001b[1;32m    153\u001b[0m data \u001b[38;5;241m=\u001b[39m bytes_io\u001b[38;5;241m.\u001b[39mgetvalue()\n\u001b[1;32m    154\u001b[0m \u001b[38;5;28;01mif\u001b[39;00m fmt \u001b[38;5;241m==\u001b[39m \u001b[38;5;124m'\u001b[39m\u001b[38;5;124msvg\u001b[39m\u001b[38;5;124m'\u001b[39m:\n",
      "File \u001b[0;32m/environment/miniconda3/lib/python3.11/site-packages/matplotlib/backend_bases.py:2189\u001b[0m, in \u001b[0;36mFigureCanvasBase.print_figure\u001b[0;34m(self, filename, dpi, facecolor, edgecolor, orientation, format, bbox_inches, pad_inches, bbox_extra_artists, backend, **kwargs)\u001b[0m\n\u001b[1;32m   2186\u001b[0m     \u001b[38;5;66;03m# we do this instead of `self.figure.draw_without_rendering`\u001b[39;00m\n\u001b[1;32m   2187\u001b[0m     \u001b[38;5;66;03m# so that we can inject the orientation\u001b[39;00m\n\u001b[1;32m   2188\u001b[0m     \u001b[38;5;28;01mwith\u001b[39;00m \u001b[38;5;28mgetattr\u001b[39m(renderer, \u001b[38;5;124m\"\u001b[39m\u001b[38;5;124m_draw_disabled\u001b[39m\u001b[38;5;124m\"\u001b[39m, nullcontext)():\n\u001b[0;32m-> 2189\u001b[0m         \u001b[38;5;28;43mself\u001b[39;49m\u001b[38;5;241;43m.\u001b[39;49m\u001b[43mfigure\u001b[49m\u001b[38;5;241;43m.\u001b[39;49m\u001b[43mdraw\u001b[49m\u001b[43m(\u001b[49m\u001b[43mrenderer\u001b[49m\u001b[43m)\u001b[49m\n\u001b[1;32m   2190\u001b[0m \u001b[38;5;28;01mif\u001b[39;00m bbox_inches:\n\u001b[1;32m   2191\u001b[0m     \u001b[38;5;28;01mif\u001b[39;00m bbox_inches \u001b[38;5;241m==\u001b[39m \u001b[38;5;124m\"\u001b[39m\u001b[38;5;124mtight\u001b[39m\u001b[38;5;124m\"\u001b[39m:\n",
      "File \u001b[0;32m/environment/miniconda3/lib/python3.11/site-packages/matplotlib/artist.py:95\u001b[0m, in \u001b[0;36m_finalize_rasterization.<locals>.draw_wrapper\u001b[0;34m(artist, renderer, *args, **kwargs)\u001b[0m\n\u001b[1;32m     93\u001b[0m \u001b[38;5;129m@wraps\u001b[39m(draw)\n\u001b[1;32m     94\u001b[0m \u001b[38;5;28;01mdef\u001b[39;00m \u001b[38;5;21mdraw_wrapper\u001b[39m(artist, renderer, \u001b[38;5;241m*\u001b[39margs, \u001b[38;5;241m*\u001b[39m\u001b[38;5;241m*\u001b[39mkwargs):\n\u001b[0;32m---> 95\u001b[0m     result \u001b[38;5;241m=\u001b[39m \u001b[43mdraw\u001b[49m\u001b[43m(\u001b[49m\u001b[43martist\u001b[49m\u001b[43m,\u001b[49m\u001b[43m \u001b[49m\u001b[43mrenderer\u001b[49m\u001b[43m,\u001b[49m\u001b[43m \u001b[49m\u001b[38;5;241;43m*\u001b[39;49m\u001b[43margs\u001b[49m\u001b[43m,\u001b[49m\u001b[43m \u001b[49m\u001b[38;5;241;43m*\u001b[39;49m\u001b[38;5;241;43m*\u001b[39;49m\u001b[43mkwargs\u001b[49m\u001b[43m)\u001b[49m\n\u001b[1;32m     96\u001b[0m     \u001b[38;5;28;01mif\u001b[39;00m renderer\u001b[38;5;241m.\u001b[39m_rasterizing:\n\u001b[1;32m     97\u001b[0m         renderer\u001b[38;5;241m.\u001b[39mstop_rasterizing()\n",
      "File \u001b[0;32m/environment/miniconda3/lib/python3.11/site-packages/matplotlib/artist.py:72\u001b[0m, in \u001b[0;36mallow_rasterization.<locals>.draw_wrapper\u001b[0;34m(artist, renderer)\u001b[0m\n\u001b[1;32m     69\u001b[0m     \u001b[38;5;28;01mif\u001b[39;00m artist\u001b[38;5;241m.\u001b[39mget_agg_filter() \u001b[38;5;129;01mis\u001b[39;00m \u001b[38;5;129;01mnot\u001b[39;00m \u001b[38;5;28;01mNone\u001b[39;00m:\n\u001b[1;32m     70\u001b[0m         renderer\u001b[38;5;241m.\u001b[39mstart_filter()\n\u001b[0;32m---> 72\u001b[0m     \u001b[38;5;28;01mreturn\u001b[39;00m \u001b[43mdraw\u001b[49m\u001b[43m(\u001b[49m\u001b[43martist\u001b[49m\u001b[43m,\u001b[49m\u001b[43m \u001b[49m\u001b[43mrenderer\u001b[49m\u001b[43m)\u001b[49m\n\u001b[1;32m     73\u001b[0m \u001b[38;5;28;01mfinally\u001b[39;00m:\n\u001b[1;32m     74\u001b[0m     \u001b[38;5;28;01mif\u001b[39;00m artist\u001b[38;5;241m.\u001b[39mget_agg_filter() \u001b[38;5;129;01mis\u001b[39;00m \u001b[38;5;129;01mnot\u001b[39;00m \u001b[38;5;28;01mNone\u001b[39;00m:\n",
      "File \u001b[0;32m/environment/miniconda3/lib/python3.11/site-packages/matplotlib/figure.py:3155\u001b[0m, in \u001b[0;36mFigure.draw\u001b[0;34m(self, renderer)\u001b[0m\n\u001b[1;32m   3152\u001b[0m             \u001b[38;5;66;03m# ValueError can occur when resizing a window.\u001b[39;00m\n\u001b[1;32m   3154\u001b[0m     \u001b[38;5;28mself\u001b[39m\u001b[38;5;241m.\u001b[39mpatch\u001b[38;5;241m.\u001b[39mdraw(renderer)\n\u001b[0;32m-> 3155\u001b[0m     \u001b[43mmimage\u001b[49m\u001b[38;5;241;43m.\u001b[39;49m\u001b[43m_draw_list_compositing_images\u001b[49m\u001b[43m(\u001b[49m\n\u001b[1;32m   3156\u001b[0m \u001b[43m        \u001b[49m\u001b[43mrenderer\u001b[49m\u001b[43m,\u001b[49m\u001b[43m \u001b[49m\u001b[38;5;28;43mself\u001b[39;49m\u001b[43m,\u001b[49m\u001b[43m \u001b[49m\u001b[43martists\u001b[49m\u001b[43m,\u001b[49m\u001b[43m \u001b[49m\u001b[38;5;28;43mself\u001b[39;49m\u001b[38;5;241;43m.\u001b[39;49m\u001b[43msuppressComposite\u001b[49m\u001b[43m)\u001b[49m\n\u001b[1;32m   3158\u001b[0m     renderer\u001b[38;5;241m.\u001b[39mclose_group(\u001b[38;5;124m'\u001b[39m\u001b[38;5;124mfigure\u001b[39m\u001b[38;5;124m'\u001b[39m)\n\u001b[1;32m   3159\u001b[0m \u001b[38;5;28;01mfinally\u001b[39;00m:\n",
      "File \u001b[0;32m/environment/miniconda3/lib/python3.11/site-packages/matplotlib/image.py:132\u001b[0m, in \u001b[0;36m_draw_list_compositing_images\u001b[0;34m(renderer, parent, artists, suppress_composite)\u001b[0m\n\u001b[1;32m    130\u001b[0m \u001b[38;5;28;01mif\u001b[39;00m not_composite \u001b[38;5;129;01mor\u001b[39;00m \u001b[38;5;129;01mnot\u001b[39;00m has_images:\n\u001b[1;32m    131\u001b[0m     \u001b[38;5;28;01mfor\u001b[39;00m a \u001b[38;5;129;01min\u001b[39;00m artists:\n\u001b[0;32m--> 132\u001b[0m         \u001b[43ma\u001b[49m\u001b[38;5;241;43m.\u001b[39;49m\u001b[43mdraw\u001b[49m\u001b[43m(\u001b[49m\u001b[43mrenderer\u001b[49m\u001b[43m)\u001b[49m\n\u001b[1;32m    133\u001b[0m \u001b[38;5;28;01melse\u001b[39;00m:\n\u001b[1;32m    134\u001b[0m     \u001b[38;5;66;03m# Composite any adjacent images together\u001b[39;00m\n\u001b[1;32m    135\u001b[0m     image_group \u001b[38;5;241m=\u001b[39m []\n",
      "File \u001b[0;32m/environment/miniconda3/lib/python3.11/site-packages/matplotlib/artist.py:72\u001b[0m, in \u001b[0;36mallow_rasterization.<locals>.draw_wrapper\u001b[0;34m(artist, renderer)\u001b[0m\n\u001b[1;32m     69\u001b[0m     \u001b[38;5;28;01mif\u001b[39;00m artist\u001b[38;5;241m.\u001b[39mget_agg_filter() \u001b[38;5;129;01mis\u001b[39;00m \u001b[38;5;129;01mnot\u001b[39;00m \u001b[38;5;28;01mNone\u001b[39;00m:\n\u001b[1;32m     70\u001b[0m         renderer\u001b[38;5;241m.\u001b[39mstart_filter()\n\u001b[0;32m---> 72\u001b[0m     \u001b[38;5;28;01mreturn\u001b[39;00m \u001b[43mdraw\u001b[49m\u001b[43m(\u001b[49m\u001b[43martist\u001b[49m\u001b[43m,\u001b[49m\u001b[43m \u001b[49m\u001b[43mrenderer\u001b[49m\u001b[43m)\u001b[49m\n\u001b[1;32m     73\u001b[0m \u001b[38;5;28;01mfinally\u001b[39;00m:\n\u001b[1;32m     74\u001b[0m     \u001b[38;5;28;01mif\u001b[39;00m artist\u001b[38;5;241m.\u001b[39mget_agg_filter() \u001b[38;5;129;01mis\u001b[39;00m \u001b[38;5;129;01mnot\u001b[39;00m \u001b[38;5;28;01mNone\u001b[39;00m:\n",
      "File \u001b[0;32m/environment/miniconda3/lib/python3.11/site-packages/matplotlib/axes/_base.py:3109\u001b[0m, in \u001b[0;36m_AxesBase.draw\u001b[0;34m(self, renderer)\u001b[0m\n\u001b[1;32m   3106\u001b[0m \u001b[38;5;28;01mif\u001b[39;00m artists_rasterized:\n\u001b[1;32m   3107\u001b[0m     _draw_rasterized(\u001b[38;5;28mself\u001b[39m\u001b[38;5;241m.\u001b[39mfigure, artists_rasterized, renderer)\n\u001b[0;32m-> 3109\u001b[0m \u001b[43mmimage\u001b[49m\u001b[38;5;241;43m.\u001b[39;49m\u001b[43m_draw_list_compositing_images\u001b[49m\u001b[43m(\u001b[49m\n\u001b[1;32m   3110\u001b[0m \u001b[43m    \u001b[49m\u001b[43mrenderer\u001b[49m\u001b[43m,\u001b[49m\u001b[43m \u001b[49m\u001b[38;5;28;43mself\u001b[39;49m\u001b[43m,\u001b[49m\u001b[43m \u001b[49m\u001b[43martists\u001b[49m\u001b[43m,\u001b[49m\u001b[43m \u001b[49m\u001b[38;5;28;43mself\u001b[39;49m\u001b[38;5;241;43m.\u001b[39;49m\u001b[43mfigure\u001b[49m\u001b[38;5;241;43m.\u001b[39;49m\u001b[43msuppressComposite\u001b[49m\u001b[43m)\u001b[49m\n\u001b[1;32m   3112\u001b[0m renderer\u001b[38;5;241m.\u001b[39mclose_group(\u001b[38;5;124m'\u001b[39m\u001b[38;5;124maxes\u001b[39m\u001b[38;5;124m'\u001b[39m)\n\u001b[1;32m   3113\u001b[0m \u001b[38;5;28mself\u001b[39m\u001b[38;5;241m.\u001b[39mstale \u001b[38;5;241m=\u001b[39m \u001b[38;5;28;01mFalse\u001b[39;00m\n",
      "File \u001b[0;32m/environment/miniconda3/lib/python3.11/site-packages/matplotlib/image.py:132\u001b[0m, in \u001b[0;36m_draw_list_compositing_images\u001b[0;34m(renderer, parent, artists, suppress_composite)\u001b[0m\n\u001b[1;32m    130\u001b[0m \u001b[38;5;28;01mif\u001b[39;00m not_composite \u001b[38;5;129;01mor\u001b[39;00m \u001b[38;5;129;01mnot\u001b[39;00m has_images:\n\u001b[1;32m    131\u001b[0m     \u001b[38;5;28;01mfor\u001b[39;00m a \u001b[38;5;129;01min\u001b[39;00m artists:\n\u001b[0;32m--> 132\u001b[0m         \u001b[43ma\u001b[49m\u001b[38;5;241;43m.\u001b[39;49m\u001b[43mdraw\u001b[49m\u001b[43m(\u001b[49m\u001b[43mrenderer\u001b[49m\u001b[43m)\u001b[49m\n\u001b[1;32m    133\u001b[0m \u001b[38;5;28;01melse\u001b[39;00m:\n\u001b[1;32m    134\u001b[0m     \u001b[38;5;66;03m# Composite any adjacent images together\u001b[39;00m\n\u001b[1;32m    135\u001b[0m     image_group \u001b[38;5;241m=\u001b[39m []\n",
      "File \u001b[0;32m/environment/miniconda3/lib/python3.11/site-packages/matplotlib/artist.py:72\u001b[0m, in \u001b[0;36mallow_rasterization.<locals>.draw_wrapper\u001b[0;34m(artist, renderer)\u001b[0m\n\u001b[1;32m     69\u001b[0m     \u001b[38;5;28;01mif\u001b[39;00m artist\u001b[38;5;241m.\u001b[39mget_agg_filter() \u001b[38;5;129;01mis\u001b[39;00m \u001b[38;5;129;01mnot\u001b[39;00m \u001b[38;5;28;01mNone\u001b[39;00m:\n\u001b[1;32m     70\u001b[0m         renderer\u001b[38;5;241m.\u001b[39mstart_filter()\n\u001b[0;32m---> 72\u001b[0m     \u001b[38;5;28;01mreturn\u001b[39;00m \u001b[43mdraw\u001b[49m\u001b[43m(\u001b[49m\u001b[43martist\u001b[49m\u001b[43m,\u001b[49m\u001b[43m \u001b[49m\u001b[43mrenderer\u001b[49m\u001b[43m)\u001b[49m\n\u001b[1;32m     73\u001b[0m \u001b[38;5;28;01mfinally\u001b[39;00m:\n\u001b[1;32m     74\u001b[0m     \u001b[38;5;28;01mif\u001b[39;00m artist\u001b[38;5;241m.\u001b[39mget_agg_filter() \u001b[38;5;129;01mis\u001b[39;00m \u001b[38;5;129;01mnot\u001b[39;00m \u001b[38;5;28;01mNone\u001b[39;00m:\n",
      "File \u001b[0;32m/environment/miniconda3/lib/python3.11/site-packages/matplotlib/image.py:653\u001b[0m, in \u001b[0;36m_ImageBase.draw\u001b[0;34m(self, renderer)\u001b[0m\n\u001b[1;32m    651\u001b[0m         renderer\u001b[38;5;241m.\u001b[39mdraw_image(gc, l, b, im, trans)\n\u001b[1;32m    652\u001b[0m \u001b[38;5;28;01melse\u001b[39;00m:\n\u001b[0;32m--> 653\u001b[0m     im, l, b, trans \u001b[38;5;241m=\u001b[39m \u001b[38;5;28;43mself\u001b[39;49m\u001b[38;5;241;43m.\u001b[39;49m\u001b[43mmake_image\u001b[49m\u001b[43m(\u001b[49m\n\u001b[1;32m    654\u001b[0m \u001b[43m        \u001b[49m\u001b[43mrenderer\u001b[49m\u001b[43m,\u001b[49m\u001b[43m \u001b[49m\u001b[43mrenderer\u001b[49m\u001b[38;5;241;43m.\u001b[39;49m\u001b[43mget_image_magnification\u001b[49m\u001b[43m(\u001b[49m\u001b[43m)\u001b[49m\u001b[43m)\u001b[49m\n\u001b[1;32m    655\u001b[0m     \u001b[38;5;28;01mif\u001b[39;00m im \u001b[38;5;129;01mis\u001b[39;00m \u001b[38;5;129;01mnot\u001b[39;00m \u001b[38;5;28;01mNone\u001b[39;00m:\n\u001b[1;32m    656\u001b[0m         renderer\u001b[38;5;241m.\u001b[39mdraw_image(gc, l, b, im)\n",
      "File \u001b[0;32m/environment/miniconda3/lib/python3.11/site-packages/matplotlib/image.py:952\u001b[0m, in \u001b[0;36mAxesImage.make_image\u001b[0;34m(self, renderer, magnification, unsampled)\u001b[0m\n\u001b[1;32m    949\u001b[0m transformed_bbox \u001b[38;5;241m=\u001b[39m TransformedBbox(bbox, trans)\n\u001b[1;32m    950\u001b[0m clip \u001b[38;5;241m=\u001b[39m ((\u001b[38;5;28mself\u001b[39m\u001b[38;5;241m.\u001b[39mget_clip_box() \u001b[38;5;129;01mor\u001b[39;00m \u001b[38;5;28mself\u001b[39m\u001b[38;5;241m.\u001b[39maxes\u001b[38;5;241m.\u001b[39mbbox) \u001b[38;5;28;01mif\u001b[39;00m \u001b[38;5;28mself\u001b[39m\u001b[38;5;241m.\u001b[39mget_clip_on()\n\u001b[1;32m    951\u001b[0m         \u001b[38;5;28;01melse\u001b[39;00m \u001b[38;5;28mself\u001b[39m\u001b[38;5;241m.\u001b[39mfigure\u001b[38;5;241m.\u001b[39mbbox)\n\u001b[0;32m--> 952\u001b[0m \u001b[38;5;28;01mreturn\u001b[39;00m \u001b[38;5;28;43mself\u001b[39;49m\u001b[38;5;241;43m.\u001b[39;49m\u001b[43m_make_image\u001b[49m\u001b[43m(\u001b[49m\u001b[38;5;28;43mself\u001b[39;49m\u001b[38;5;241;43m.\u001b[39;49m\u001b[43m_A\u001b[49m\u001b[43m,\u001b[49m\u001b[43m \u001b[49m\u001b[43mbbox\u001b[49m\u001b[43m,\u001b[49m\u001b[43m \u001b[49m\u001b[43mtransformed_bbox\u001b[49m\u001b[43m,\u001b[49m\u001b[43m \u001b[49m\u001b[43mclip\u001b[49m\u001b[43m,\u001b[49m\n\u001b[1;32m    953\u001b[0m \u001b[43m                        \u001b[49m\u001b[43mmagnification\u001b[49m\u001b[43m,\u001b[49m\u001b[43m \u001b[49m\u001b[43munsampled\u001b[49m\u001b[38;5;241;43m=\u001b[39;49m\u001b[43munsampled\u001b[49m\u001b[43m)\u001b[49m\n",
      "File \u001b[0;32m/environment/miniconda3/lib/python3.11/site-packages/matplotlib/image.py:567\u001b[0m, in \u001b[0;36m_ImageBase._make_image\u001b[0;34m(self, A, in_bbox, out_bbox, clip_bbox, magnification, unsampled, round_to_pixel_border)\u001b[0m\n\u001b[1;32m    564\u001b[0m     \u001b[38;5;28;01melse\u001b[39;00m:\n\u001b[1;32m    565\u001b[0m         output_alpha \u001b[38;5;241m=\u001b[39m _resample(  \u001b[38;5;66;03m# resample alpha channel\u001b[39;00m\n\u001b[1;32m    566\u001b[0m             \u001b[38;5;28mself\u001b[39m, A[\u001b[38;5;241m.\u001b[39m\u001b[38;5;241m.\u001b[39m\u001b[38;5;241m.\u001b[39m, \u001b[38;5;241m3\u001b[39m], out_shape, t, alpha\u001b[38;5;241m=\u001b[39malpha)\n\u001b[0;32m--> 567\u001b[0m     output \u001b[38;5;241m=\u001b[39m \u001b[43m_resample\u001b[49m\u001b[43m(\u001b[49m\u001b[43m  \u001b[49m\u001b[38;5;66;43;03m# resample rgb channels\u001b[39;49;00m\n\u001b[1;32m    568\u001b[0m \u001b[43m        \u001b[49m\u001b[38;5;28;43mself\u001b[39;49m\u001b[43m,\u001b[49m\u001b[43m \u001b[49m\u001b[43m_rgb_to_rgba\u001b[49m\u001b[43m(\u001b[49m\u001b[43mA\u001b[49m\u001b[43m[\u001b[49m\u001b[38;5;241;43m.\u001b[39;49m\u001b[38;5;241;43m.\u001b[39;49m\u001b[38;5;241;43m.\u001b[39;49m\u001b[43m,\u001b[49m\u001b[43m \u001b[49m\u001b[43m:\u001b[49m\u001b[38;5;241;43m3\u001b[39;49m\u001b[43m]\u001b[49m\u001b[43m)\u001b[49m\u001b[43m,\u001b[49m\u001b[43m \u001b[49m\u001b[43mout_shape\u001b[49m\u001b[43m,\u001b[49m\u001b[43m \u001b[49m\u001b[43mt\u001b[49m\u001b[43m,\u001b[49m\u001b[43m \u001b[49m\u001b[43malpha\u001b[49m\u001b[38;5;241;43m=\u001b[39;49m\u001b[43malpha\u001b[49m\u001b[43m)\u001b[49m\n\u001b[1;32m    569\u001b[0m     output[\u001b[38;5;241m.\u001b[39m\u001b[38;5;241m.\u001b[39m\u001b[38;5;241m.\u001b[39m, \u001b[38;5;241m3\u001b[39m] \u001b[38;5;241m=\u001b[39m output_alpha  \u001b[38;5;66;03m# recombine rgb and alpha\u001b[39;00m\n\u001b[1;32m    571\u001b[0m \u001b[38;5;66;03m# output is now either a 2D array of normed (int or float) data\u001b[39;00m\n\u001b[1;32m    572\u001b[0m \u001b[38;5;66;03m# or an RGBA array of re-sampled input\u001b[39;00m\n",
      "File \u001b[0;32m/environment/miniconda3/lib/python3.11/site-packages/matplotlib/image.py:208\u001b[0m, in \u001b[0;36m_resample\u001b[0;34m(image_obj, data, out_shape, transform, resample, alpha)\u001b[0m\n\u001b[1;32m    206\u001b[0m \u001b[38;5;28;01mif\u001b[39;00m resample \u001b[38;5;129;01mis\u001b[39;00m \u001b[38;5;28;01mNone\u001b[39;00m:\n\u001b[1;32m    207\u001b[0m     resample \u001b[38;5;241m=\u001b[39m image_obj\u001b[38;5;241m.\u001b[39mget_resample()\n\u001b[0;32m--> 208\u001b[0m \u001b[43m_image\u001b[49m\u001b[38;5;241;43m.\u001b[39;49m\u001b[43mresample\u001b[49m\u001b[43m(\u001b[49m\u001b[43mdata\u001b[49m\u001b[43m,\u001b[49m\u001b[43m \u001b[49m\u001b[43mout\u001b[49m\u001b[43m,\u001b[49m\u001b[43m \u001b[49m\u001b[43mtransform\u001b[49m\u001b[43m,\u001b[49m\n\u001b[1;32m    209\u001b[0m \u001b[43m                \u001b[49m\u001b[43m_interpd_\u001b[49m\u001b[43m[\u001b[49m\u001b[43minterpolation\u001b[49m\u001b[43m]\u001b[49m\u001b[43m,\u001b[49m\n\u001b[1;32m    210\u001b[0m \u001b[43m                \u001b[49m\u001b[43mresample\u001b[49m\u001b[43m,\u001b[49m\n\u001b[1;32m    211\u001b[0m \u001b[43m                \u001b[49m\u001b[43malpha\u001b[49m\u001b[43m,\u001b[49m\n\u001b[1;32m    212\u001b[0m \u001b[43m                \u001b[49m\u001b[43mimage_obj\u001b[49m\u001b[38;5;241;43m.\u001b[39;49m\u001b[43mget_filternorm\u001b[49m\u001b[43m(\u001b[49m\u001b[43m)\u001b[49m\u001b[43m,\u001b[49m\n\u001b[1;32m    213\u001b[0m \u001b[43m                \u001b[49m\u001b[43mimage_obj\u001b[49m\u001b[38;5;241;43m.\u001b[39;49m\u001b[43mget_filterrad\u001b[49m\u001b[43m(\u001b[49m\u001b[43m)\u001b[49m\u001b[43m)\u001b[49m\n\u001b[1;32m    214\u001b[0m \u001b[38;5;28;01mreturn\u001b[39;00m out\n",
      "\u001b[0;31mValueError\u001b[0m: arrays must be of dtype byte, short, float32 or float64"
     ]
    },
    {
     "data": {
      "text/plain": [
       "<Figure size 1800x1100 with 18 Axes>"
      ]
     },
     "metadata": {},
     "output_type": "display_data"
    }
   ],
   "source": [
    "images_to_plot = []\n",
    "images_to_plot.extend([(train_set_data[train_random_index][1])[i,:,:,:] for i in range(0,6)])\n",
    "images_to_plot.extend([(validation_set_data[validation_random_index][1])[i,:,:,:] for i in range(0,6)])\n",
    "images_to_plot.extend([(test_set_data[test_random_index][1])[i,:,:,:] for i in range(0,6)])\n",
    "    \n",
    "\n",
    "plt.figure(figsize=(18,11))\n",
    "\n",
    "for i in range(18):\n",
    "    plt.subplot(3,6,i+1)\n",
    "    plt.imshow(images_to_plot[i])\n",
    "plt.show()"
   ]
  },
  {
   "cell_type": "markdown",
   "metadata": {},
   "source": [
    "### Displaying audio MFCC"
   ]
  },
  {
   "cell_type": "code",
   "execution_count": 28,
   "metadata": {},
   "outputs": [
    {
     "data": {
      "text/plain": [
       "<matplotlib.collections.QuadMesh at 0x7f76cc9e2590>"
      ]
     },
     "execution_count": 28,
     "metadata": {},
     "output_type": "execute_result"
    },
    {
     "data": {
      "image/png": "[encoded data removed]",
      "text/plain": [
       "<Figure size 640x480 with 1 Axes>"
      ]
     },
     "metadata": {},
     "output_type": "display_data"
    }
   ],
   "source": [
    "librosa.display.specshow(mfccs[0], x_axis='time', y_axis='mel')"
   ]
  },
  {
   "cell_type": "code",
   "execution_count": 29,
   "metadata": {},
   "outputs": [
    {
     "data": {
      "text/plain": [
       "<matplotlib.collections.QuadMesh at 0x7f76cc9f2610>"
      ]
     },
     "execution_count": 29,
     "metadata": {},
     "output_type": "execute_result"
    },
    {
     "data": {
      "image/png": "[encoded data removed]",
      "text/plain": [
       "<Figure size 640x480 with 1 Axes>"
      ]
     },
     "metadata": {},
     "output_type": "display_data"
    }
   ],
   "source": [
    "librosa.display.specshow(mfccs[1], x_axis='time', y_axis='mel')"
   ]
  },
  {
   "cell_type": "code",
   "execution_count": 30,
   "metadata": {},
   "outputs": [
    {
     "data": {
      "text/plain": [
       "<matplotlib.collections.QuadMesh at 0x7f76cc8b9c50>"
      ]
     },
     "execution_count": 30,
     "metadata": {},
     "output_type": "execute_result"
    },
    {
     "data": {
      "image/png": "[encoded data removed]",
      "text/plain": [
       "<Figure size 640x480 with 1 Axes>"
      ]
     },
     "metadata": {},
     "output_type": "display_data"
    }
   ],
   "source": [
    "librosa.display.specshow(mfccs[2], x_axis='time', y_axis='mel')"
   ]
  },
  {
   "cell_type": "markdown",
   "metadata": {},
   "source": [
    "### Printing personality traits"
   ]
  },
  {
   "cell_type": "code",
   "execution_count": 31,
   "metadata": {},
   "outputs": [],
   "source": [
    "personality_train = train_set_data[train_random_index][2]\n",
    "personality_validation = validation_set_data[validation_random_index][2]\n",
    "personality_test = test_set_data[test_random_index][2]\n",
    "personalities = ['Neuroticism','Extraversion','Agreeableness','Conscientiousness','Openness']"
   ]
  },
  {
   "cell_type": "markdown",
   "metadata": {},
   "source": [
    "#### Train"
   ]
  },
  {
   "cell_type": "code",
   "execution_count": 32,
   "metadata": {},
   "outputs": [
    {
     "name": "stdout",
     "output_type": "stream",
     "text": [
      "Neuroticism: 0.24299065420560748\n",
      "Extraversion: 0.37499999999999994\n",
      "Agreeableness: 0.4615384615384615\n",
      "Conscientiousness: 0.5048543689320388\n",
      "Openness: 0.45555555555555555\n"
     ]
    }
   ],
   "source": [
    "for label, value in zip(personalities,personality_train):\n",
    "    print(label + ': ' + str(value[0]))"
   ]
  },
  {
   "cell_type": "markdown",
   "metadata": {},
   "source": [
    "#### Validation"
   ]
  },
  {
   "cell_type": "code",
   "execution_count": 33,
   "metadata": {},
   "outputs": [
    {
     "name": "stdout",
     "output_type": "stream",
     "text": [
      "Neuroticism: 0.4299065420560748\n",
      "Extraversion: 0.4375\n",
      "Agreeableness: 0.6153846153846153\n",
      "Conscientiousness: 0.6213592233009709\n",
      "Openness: 0.43333333333333335\n"
     ]
    }
   ],
   "source": [
    "for label, value in zip(personalities,personality_validation):\n",
    "    print(label + ': ' + str(value[0]))"
   ]
  },
  {
   "cell_type": "markdown",
   "metadata": {},
   "source": [
    "#### Test"
   ]
  },
  {
   "cell_type": "code",
   "execution_count": 34,
   "metadata": {},
   "outputs": [
    {
     "name": "stdout",
     "output_type": "stream",
     "text": [
      "Neuroticism: 0.5327102803738318\n",
      "Extraversion: 0.5208333333333334\n",
      "Agreeableness: 0.5164835164835165\n",
      "Conscientiousness: 0.47572815533980584\n",
      "Openness: 0.6444444444444444\n"
     ]
    }
   ],
   "source": [
    "for label, value in zip(personalities,personality_test):\n",
    "    print(label + ': ' + str(value[0]))"
   ]
  },
  {
   "cell_type": "markdown",
   "metadata": {},
   "source": [
    "### Converting sets to model format"
   ]
  },
  {
   "cell_type": "code",
   "execution_count": 35,
   "metadata": {},
   "outputs": [],
   "source": [
    "def reshape_to_expected_input(dataset: List[Tuple[np.ndarray,np.ndarray,np.ndarray]]) -> Tuple[np.ndarray,np.ndarray,np.ndarray]:\n",
    "    \n",
    "    x0_list = []\n",
    "    x1_list = []\n",
    "    y_list = []\n",
    "    for i in range(0,len(dataset)):\n",
    "        x0_list.append(dataset[i][0])\n",
    "        x1_list.append(dataset[i][1])\n",
    "        y_list.append(dataset[i][2])\n",
    "    return (np.stack(x0_list),np.stack(x1_list),np.stack(y_list))"
   ]
  },
  {
   "cell_type": "code",
   "execution_count": 36,
   "metadata": {},
   "outputs": [],
   "source": [
    "train_input = reshape_to_expected_input(dataset= train_set_data)\n",
    "del train_set_data\n",
    "validation_input = reshape_to_expected_input(dataset= validation_set_data)\n",
    "del validation_set_data\n",
    "test_input = reshape_to_expected_input(dataset= test_set_data)\n",
    "del test_set_data"
   ]
  },
  {
   "cell_type": "markdown",
   "metadata": {},
   "source": [
    "## Creating Model"
   ]
  },
  {
   "cell_type": "code",
   "execution_count": 37,
   "metadata": {},
   "outputs": [
    {
     "name": "stderr",
     "output_type": "stream",
     "text": [
      "2025-04-27 16:17:51.200112: I tensorflow/core/util/port.cc:113] oneDNN custom operations are on. You may see slightly different numerical results due to floating-point round-off errors from different computation orders. To turn them off, set the environment variable `TF_ENABLE_ONEDNN_OPTS=0`.\n",
      "2025-04-27 16:17:52.075243: I tensorflow/core/platform/cpu_feature_guard.cc:210] This TensorFlow binary is optimized to use available CPU instructions in performance-critical operations.\n",
      "To enable the following instructions: AVX2 AVX512F AVX512_VNNI AVX512_BF16 FMA, in other operations, rebuild TensorFlow with the appropriate compiler flags.\n",
      "2025-04-27 16:17:53.629761: W tensorflow/compiler/tf2tensorrt/utils/py_utils.cc:38] TF-TRT Warning: Could not find TensorRT\n"
     ]
    }
   ],
   "source": [
    "from tensorflow.keras.models import Sequential, Model\n",
    "from tensorflow.keras.layers import Dense, Flatten, Input, LSTM, Bidirectional, Lambda, Dropout, Concatenate\n",
    "from tensorflow.keras.layers import Conv2D, MaxPooling2D\n",
    "from tensorflow.keras.layers import BatchNormalization\n",
    "from tensorflow.keras.layers import TimeDistributed"
   ]
  },
  {
   "cell_type": "markdown",
   "metadata": {},
   "source": [
    "### Audio subnetwork"
   ]
  },
  {
   "cell_type": "code",
   "execution_count": 38,
   "metadata": {},
   "outputs": [
    {
     "name": "stderr",
     "output_type": "stream",
     "text": [
      "2025-04-27 16:17:59.436046: I external/local_xla/xla/stream_executor/cuda/cuda_executor.cc:998] successful NUMA node read from SysFS had negative value (-1), but there must be at least one NUMA node, so returning NUMA node zero. See more at https://github.com/torvalds/linux/blob/v6.0/Documentation/ABI/testing/sysfs-bus-pci#L344-L355\n",
      "2025-04-27 16:17:59.731380: I external/local_xla/xla/stream_executor/cuda/cuda_executor.cc:998] successful NUMA node read from SysFS had negative value (-1), but there must be at least one NUMA node, so returning NUMA node zero. See more at https://github.com/torvalds/linux/blob/v6.0/Documentation/ABI/testing/sysfs-bus-pci#L344-L355\n",
      "2025-04-27 16:17:59.733882: I external/local_xla/xla/stream_executor/cuda/cuda_executor.cc:998] successful NUMA node read from SysFS had negative value (-1), but there must be at least one NUMA node, so returning NUMA node zero. See more at https://github.com/torvalds/linux/blob/v6.0/Documentation/ABI/testing/sysfs-bus-pci#L344-L355\n",
      "2025-04-27 16:17:59.738768: I external/local_xla/xla/stream_executor/cuda/cuda_executor.cc:998] successful NUMA node read from SysFS had negative value (-1), but there must be at least one NUMA node, so returning NUMA node zero. See more at https://github.com/torvalds/linux/blob/v6.0/Documentation/ABI/testing/sysfs-bus-pci#L344-L355\n",
      "2025-04-27 16:17:59.741195: I external/local_xla/xla/stream_executor/cuda/cuda_executor.cc:998] successful NUMA node read from SysFS had negative value (-1), but there must be at least one NUMA node, so returning NUMA node zero. See more at https://github.com/torvalds/linux/blob/v6.0/Documentation/ABI/testing/sysfs-bus-pci#L344-L355\n",
      "2025-04-27 16:17:59.743439: I external/local_xla/xla/stream_executor/cuda/cuda_executor.cc:998] successful NUMA node read from SysFS had negative value (-1), but there must be at least one NUMA node, so returning NUMA node zero. See more at https://github.com/torvalds/linux/blob/v6.0/Documentation/ABI/testing/sysfs-bus-pci#L344-L355\n",
      "2025-04-27 16:17:59.857460: I external/local_xla/xla/stream_executor/cuda/cuda_executor.cc:998] successful NUMA node read from SysFS had negative value (-1), but there must be at least one NUMA node, so returning NUMA node zero. See more at https://github.com/torvalds/linux/blob/v6.0/Documentation/ABI/testing/sysfs-bus-pci#L344-L355\n",
      "2025-04-27 16:17:59.858430: I external/local_xla/xla/stream_executor/cuda/cuda_executor.cc:998] successful NUMA node read from SysFS had negative value (-1), but there must be at least one NUMA node, so returning NUMA node zero. See more at https://github.com/torvalds/linux/blob/v6.0/Documentation/ABI/testing/sysfs-bus-pci#L344-L355\n",
      "2025-04-27 16:17:59.859315: W tensorflow/core/common_runtime/gpu/gpu_bfc_allocator.cc:47] Overriding orig_value setting because the TF_FORCE_GPU_ALLOW_GROWTH environment variable is set. Original config value was 0.\n",
      "2025-04-27 16:17:59.859375: I external/local_xla/xla/stream_executor/cuda/cuda_executor.cc:998] successful NUMA node read from SysFS had negative value (-1), but there must be at least one NUMA node, so returning NUMA node zero. See more at https://github.com/torvalds/linux/blob/v6.0/Documentation/ABI/testing/sysfs-bus-pci#L344-L355\n",
      "2025-04-27 16:17:59.861006: I tensorflow/core/common_runtime/gpu/gpu_device.cc:1928] Created device /job:localhost/replica:0/task:0/device:GPU:0 with 22181 MB memory:  -> device: 0, name: NVIDIA GeForce RTX 4090, pci bus id: 0000:10:00.0, compute capability: 8.9\n"
     ]
    }
   ],
   "source": [
    "audio_input = Input(shape=(24,1319,1))\n",
    "audio_model = Conv2D(32, kernel_size=(3,3),activation='relu')(audio_input)\n",
    "audio_model = BatchNormalization()(audio_model)\n",
    "audio_model = MaxPooling2D(pool_size=(2, 2))(audio_model)\n",
    "audio_model = Conv2D(32, kernel_size=(3,3),activation='relu')(audio_model)\n",
    "audio_model = BatchNormalization()(audio_model)\n",
    "audio_model = MaxPooling2D(pool_size=(2, 2))(audio_model)\n",
    "audio_model = Flatten()(audio_model)\n",
    "audio_model = Dense(128, activation='relu')(audio_model)\n",
    "audio_subnetwork = Model(inputs=audio_input,outputs=audio_model)"
   ]
  },
  {
   "cell_type": "markdown",
   "metadata": {},
   "source": [
    "### Visual subnetwork"
   ]
  },
  {
   "cell_type": "code",
   "execution_count": 39,
   "metadata": {},
   "outputs": [],
   "source": [
    "from keras.applications import vgg16"
   ]
  },
  {
   "cell_type": "code",
   "execution_count": 40,
   "metadata": {},
   "outputs": [
    {
     "name": "stdout",
     "output_type": "stream",
     "text": [
      "Downloading data from https://storage.googleapis.com/tensorflow/keras-applications/vgg16/vgg16_weights_tf_dim_ordering_tf_kernels_notop.h5\n",
      "\u001b[1m58889256/58889256\u001b[0m \u001b[32m━━━━━━━━━━━━━━━━━━━━\u001b[0m\u001b[37m\u001b[0m \u001b[1m2s\u001b[0m 0us/step\n"
     ]
    }
   ],
   "source": [
    "visual_model = Input(shape=(6,128,128,3))\n",
    "\n",
    "cnn = vgg16.VGG16(weights=\"imagenet\", include_top=False, pooling='max')\n",
    "cnn.trainable = False"
   ]
  },
  {
   "cell_type": "code",
   "execution_count": 41,
   "metadata": {},
   "outputs": [],
   "source": [
    "encoded_frame = TimeDistributed(Lambda(lambda x: cnn(x)))(visual_model)\n",
    "encoded_vid = LSTM(64)(encoded_frame)\n",
    "\n",
    "visual_subnetwork = Model(inputs=visual_model,outputs=encoded_vid)"
   ]
  },
  {
   "cell_type": "code",
   "execution_count": 42,
   "metadata": {},
   "outputs": [],
   "source": [
    "combined = Concatenate()([audio_subnetwork.output, visual_subnetwork.output])\n",
    "final1 = Dense(256, activation='relu')(combined)\n",
    "final2 = Dense(5, activation='linear')(final1)"
   ]
  },
  {
   "cell_type": "code",
   "execution_count": 43,
   "metadata": {},
   "outputs": [
    {
     "data": {
      "text/html": [
       "<pre style=\"white-space:pre;overflow-x:auto;line-height:normal;font-family:Menlo,'DejaVu Sans Mono',consolas,'Courier New',monospace\"><span style=\"font-weight: bold\">Model: \"functional_5\"</span>\n",
       "</pre>\n"
      ],
      "text/plain": [
       "\u001b[1mModel: \"functional_5\"\u001b[0m\n"
      ]
     },
     "metadata": {},
     "output_type": "display_data"
    },
    {
     "data": {
      "text/html": [
       "<pre style=\"white-space:pre;overflow-x:auto;line-height:normal;font-family:Menlo,'DejaVu Sans Mono',consolas,'Courier New',monospace\">┏━━━━━━━━━━━━━━━━━━━━━┳━━━━━━━━━━━━━━━━━━━┳━━━━━━━━━━━━┳━━━━━━━━━━━━━━━━━━━┓\n",
       "┃<span style=\"font-weight: bold\"> Layer (type)        </span>┃<span style=\"font-weight: bold\"> Output Shape      </span>┃<span style=\"font-weight: bold\">    Param # </span>┃<span style=\"font-weight: bold\"> Connected to      </span>┃\n",
       "┡━━━━━━━━━━━━━━━━━━━━━╇━━━━━━━━━━━━━━━━━━━╇━━━━━━━━━━━━╇━━━━━━━━━━━━━━━━━━━┩\n",
       "│ input_layer         │ (<span style=\"color: #00d7ff; text-decoration-color: #00d7ff\">None</span>, <span style=\"color: #00af00; text-decoration-color: #00af00\">24</span>, <span style=\"color: #00af00; text-decoration-color: #00af00\">1319</span>,  │          <span style=\"color: #00af00; text-decoration-color: #00af00\">0</span> │ -                 │\n",
       "│ (<span style=\"color: #0087ff; text-decoration-color: #0087ff\">InputLayer</span>)        │ <span style=\"color: #00af00; text-decoration-color: #00af00\">1</span>)                │            │                   │\n",
       "├─────────────────────┼───────────────────┼────────────┼───────────────────┤\n",
       "│ conv2d (<span style=\"color: #0087ff; text-decoration-color: #0087ff\">Conv2D</span>)     │ (<span style=\"color: #00d7ff; text-decoration-color: #00d7ff\">None</span>, <span style=\"color: #00af00; text-decoration-color: #00af00\">22</span>, <span style=\"color: #00af00; text-decoration-color: #00af00\">1317</span>,  │        <span style=\"color: #00af00; text-decoration-color: #00af00\">320</span> │ input_layer[<span style=\"color: #00af00; text-decoration-color: #00af00\">0</span>][<span style=\"color: #00af00; text-decoration-color: #00af00\">0</span>] │\n",
       "│                     │ <span style=\"color: #00af00; text-decoration-color: #00af00\">32</span>)               │            │                   │\n",
       "├─────────────────────┼───────────────────┼────────────┼───────────────────┤\n",
       "│ batch_normalization │ (<span style=\"color: #00d7ff; text-decoration-color: #00d7ff\">None</span>, <span style=\"color: #00af00; text-decoration-color: #00af00\">22</span>, <span style=\"color: #00af00; text-decoration-color: #00af00\">1317</span>,  │        <span style=\"color: #00af00; text-decoration-color: #00af00\">128</span> │ conv2d[<span style=\"color: #00af00; text-decoration-color: #00af00\">0</span>][<span style=\"color: #00af00; text-decoration-color: #00af00\">0</span>]      │\n",
       "│ (<span style=\"color: #0087ff; text-decoration-color: #0087ff\">BatchNormalizatio…</span> │ <span style=\"color: #00af00; text-decoration-color: #00af00\">32</span>)               │            │                   │\n",
       "├─────────────────────┼───────────────────┼────────────┼───────────────────┤\n",
       "│ max_pooling2d       │ (<span style=\"color: #00d7ff; text-decoration-color: #00d7ff\">None</span>, <span style=\"color: #00af00; text-decoration-color: #00af00\">11</span>, <span style=\"color: #00af00; text-decoration-color: #00af00\">658</span>,   │          <span style=\"color: #00af00; text-decoration-color: #00af00\">0</span> │ batch_normalizat… │\n",
       "│ (<span style=\"color: #0087ff; text-decoration-color: #0087ff\">MaxPooling2D</span>)      │ <span style=\"color: #00af00; text-decoration-color: #00af00\">32</span>)               │            │                   │\n",
       "├─────────────────────┼───────────────────┼────────────┼───────────────────┤\n",
       "│ conv2d_1 (<span style=\"color: #0087ff; text-decoration-color: #0087ff\">Conv2D</span>)   │ (<span style=\"color: #00d7ff; text-decoration-color: #00d7ff\">None</span>, <span style=\"color: #00af00; text-decoration-color: #00af00\">9</span>, <span style=\"color: #00af00; text-decoration-color: #00af00\">656</span>,    │      <span style=\"color: #00af00; text-decoration-color: #00af00\">9,248</span> │ max_pooling2d[<span style=\"color: #00af00; text-decoration-color: #00af00\">0</span>]… │\n",
       "│                     │ <span style=\"color: #00af00; text-decoration-color: #00af00\">32</span>)               │            │                   │\n",
       "├─────────────────────┼───────────────────┼────────────┼───────────────────┤\n",
       "│ batch_normalizatio… │ (<span style=\"color: #00d7ff; text-decoration-color: #00d7ff\">None</span>, <span style=\"color: #00af00; text-decoration-color: #00af00\">9</span>, <span style=\"color: #00af00; text-decoration-color: #00af00\">656</span>,    │        <span style=\"color: #00af00; text-decoration-color: #00af00\">128</span> │ conv2d_1[<span style=\"color: #00af00; text-decoration-color: #00af00\">0</span>][<span style=\"color: #00af00; text-decoration-color: #00af00\">0</span>]    │\n",
       "│ (<span style=\"color: #0087ff; text-decoration-color: #0087ff\">BatchNormalizatio…</span> │ <span style=\"color: #00af00; text-decoration-color: #00af00\">32</span>)               │            │                   │\n",
       "├─────────────────────┼───────────────────┼────────────┼───────────────────┤\n",
       "│ max_pooling2d_1     │ (<span style=\"color: #00d7ff; text-decoration-color: #00d7ff\">None</span>, <span style=\"color: #00af00; text-decoration-color: #00af00\">4</span>, <span style=\"color: #00af00; text-decoration-color: #00af00\">328</span>,    │          <span style=\"color: #00af00; text-decoration-color: #00af00\">0</span> │ batch_normalizat… │\n",
       "│ (<span style=\"color: #0087ff; text-decoration-color: #0087ff\">MaxPooling2D</span>)      │ <span style=\"color: #00af00; text-decoration-color: #00af00\">32</span>)               │            │                   │\n",
       "├─────────────────────┼───────────────────┼────────────┼───────────────────┤\n",
       "│ input_layer_1       │ (<span style=\"color: #00d7ff; text-decoration-color: #00d7ff\">None</span>, <span style=\"color: #00af00; text-decoration-color: #00af00\">6</span>, <span style=\"color: #00af00; text-decoration-color: #00af00\">128</span>,    │          <span style=\"color: #00af00; text-decoration-color: #00af00\">0</span> │ -                 │\n",
       "│ (<span style=\"color: #0087ff; text-decoration-color: #0087ff\">InputLayer</span>)        │ <span style=\"color: #00af00; text-decoration-color: #00af00\">128</span>, <span style=\"color: #00af00; text-decoration-color: #00af00\">3</span>)           │            │                   │\n",
       "├─────────────────────┼───────────────────┼────────────┼───────────────────┤\n",
       "│ flatten (<span style=\"color: #0087ff; text-decoration-color: #0087ff\">Flatten</span>)   │ (<span style=\"color: #00d7ff; text-decoration-color: #00d7ff\">None</span>, <span style=\"color: #00af00; text-decoration-color: #00af00\">41984</span>)     │          <span style=\"color: #00af00; text-decoration-color: #00af00\">0</span> │ max_pooling2d_1[<span style=\"color: #00af00; text-decoration-color: #00af00\">…</span> │\n",
       "├─────────────────────┼───────────────────┼────────────┼───────────────────┤\n",
       "│ time_distributed    │ (<span style=\"color: #00d7ff; text-decoration-color: #00d7ff\">None</span>, <span style=\"color: #00af00; text-decoration-color: #00af00\">6</span>, <span style=\"color: #00af00; text-decoration-color: #00af00\">512</span>)    │          <span style=\"color: #00af00; text-decoration-color: #00af00\">0</span> │ input_layer_1[<span style=\"color: #00af00; text-decoration-color: #00af00\">0</span>]… │\n",
       "│ (<span style=\"color: #0087ff; text-decoration-color: #0087ff\">TimeDistributed</span>)   │                   │            │                   │\n",
       "├─────────────────────┼───────────────────┼────────────┼───────────────────┤\n",
       "│ dense (<span style=\"color: #0087ff; text-decoration-color: #0087ff\">Dense</span>)       │ (<span style=\"color: #00d7ff; text-decoration-color: #00d7ff\">None</span>, <span style=\"color: #00af00; text-decoration-color: #00af00\">128</span>)       │  <span style=\"color: #00af00; text-decoration-color: #00af00\">5,374,080</span> │ flatten[<span style=\"color: #00af00; text-decoration-color: #00af00\">0</span>][<span style=\"color: #00af00; text-decoration-color: #00af00\">0</span>]     │\n",
       "├─────────────────────┼───────────────────┼────────────┼───────────────────┤\n",
       "│ lstm (<span style=\"color: #0087ff; text-decoration-color: #0087ff\">LSTM</span>)         │ (<span style=\"color: #00d7ff; text-decoration-color: #00d7ff\">None</span>, <span style=\"color: #00af00; text-decoration-color: #00af00\">64</span>)        │    <span style=\"color: #00af00; text-decoration-color: #00af00\">147,712</span> │ time_distributed… │\n",
       "├─────────────────────┼───────────────────┼────────────┼───────────────────┤\n",
       "│ concatenate         │ (<span style=\"color: #00d7ff; text-decoration-color: #00d7ff\">None</span>, <span style=\"color: #00af00; text-decoration-color: #00af00\">192</span>)       │          <span style=\"color: #00af00; text-decoration-color: #00af00\">0</span> │ dense[<span style=\"color: #00af00; text-decoration-color: #00af00\">0</span>][<span style=\"color: #00af00; text-decoration-color: #00af00\">0</span>],      │\n",
       "│ (<span style=\"color: #0087ff; text-decoration-color: #0087ff\">Concatenate</span>)       │                   │            │ lstm[<span style=\"color: #00af00; text-decoration-color: #00af00\">0</span>][<span style=\"color: #00af00; text-decoration-color: #00af00\">0</span>]        │\n",
       "├─────────────────────┼───────────────────┼────────────┼───────────────────┤\n",
       "│ dense_1 (<span style=\"color: #0087ff; text-decoration-color: #0087ff\">Dense</span>)     │ (<span style=\"color: #00d7ff; text-decoration-color: #00d7ff\">None</span>, <span style=\"color: #00af00; text-decoration-color: #00af00\">256</span>)       │     <span style=\"color: #00af00; text-decoration-color: #00af00\">49,408</span> │ concatenate[<span style=\"color: #00af00; text-decoration-color: #00af00\">0</span>][<span style=\"color: #00af00; text-decoration-color: #00af00\">0</span>] │\n",
       "├─────────────────────┼───────────────────┼────────────┼───────────────────┤\n",
       "│ dense_2 (<span style=\"color: #0087ff; text-decoration-color: #0087ff\">Dense</span>)     │ (<span style=\"color: #00d7ff; text-decoration-color: #00d7ff\">None</span>, <span style=\"color: #00af00; text-decoration-color: #00af00\">5</span>)         │      <span style=\"color: #00af00; text-decoration-color: #00af00\">1,285</span> │ dense_1[<span style=\"color: #00af00; text-decoration-color: #00af00\">0</span>][<span style=\"color: #00af00; text-decoration-color: #00af00\">0</span>]     │\n",
       "└─────────────────────┴───────────────────┴────────────┴───────────────────┘\n",
       "</pre>\n"
      ],
      "text/plain": [
       "┏━━━━━━━━━━━━━━━━━━━━━┳━━━━━━━━━━━━━━━━━━━┳━━━━━━━━━━━━┳━━━━━━━━━━━━━━━━━━━┓\n",
       "┃\u001b[1m \u001b[0m\u001b[1mLayer (type)       \u001b[0m\u001b[1m \u001b[0m┃\u001b[1m \u001b[0m\u001b[1mOutput Shape     \u001b[0m\u001b[1m \u001b[0m┃\u001b[1m \u001b[0m\u001b[1m   Param #\u001b[0m\u001b[1m \u001b[0m┃\u001b[1m \u001b[0m\u001b[1mConnected to     \u001b[0m\u001b[1m \u001b[0m┃\n",
       "┡━━━━━━━━━━━━━━━━━━━━━╇━━━━━━━━━━━━━━━━━━━╇━━━━━━━━━━━━╇━━━━━━━━━━━━━━━━━━━┩\n",
       "│ input_layer         │ (\u001b[38;5;45mNone\u001b[0m, \u001b[38;5;34m24\u001b[0m, \u001b[38;5;34m1319\u001b[0m,  │          \u001b[38;5;34m0\u001b[0m │ -                 │\n",
       "│ (\u001b[38;5;33mInputLayer\u001b[0m)        │ \u001b[38;5;34m1\u001b[0m)                │            │                   │\n",
       "├─────────────────────┼───────────────────┼────────────┼───────────────────┤\n",
       "│ conv2d (\u001b[38;5;33mConv2D\u001b[0m)     │ (\u001b[38;5;45mNone\u001b[0m, \u001b[38;5;34m22\u001b[0m, \u001b[38;5;34m1317\u001b[0m,  │        \u001b[38;5;34m320\u001b[0m │ input_layer[\u001b[38;5;34m0\u001b[0m][\u001b[38;5;34m0\u001b[0m] │\n",
       "│                     │ \u001b[38;5;34m32\u001b[0m)               │            │                   │\n",
       "├─────────────────────┼───────────────────┼────────────┼───────────────────┤\n",
       "│ batch_normalization │ (\u001b[38;5;45mNone\u001b[0m, \u001b[38;5;34m22\u001b[0m, \u001b[38;5;34m1317\u001b[0m,  │        \u001b[38;5;34m128\u001b[0m │ conv2d[\u001b[38;5;34m0\u001b[0m][\u001b[38;5;34m0\u001b[0m]      │\n",
       "│ (\u001b[38;5;33mBatchNormalizatio…\u001b[0m │ \u001b[38;5;34m32\u001b[0m)               │            │                   │\n",
       "├─────────────────────┼───────────────────┼────────────┼───────────────────┤\n",
       "│ max_pooling2d       │ (\u001b[38;5;45mNone\u001b[0m, \u001b[38;5;34m11\u001b[0m, \u001b[38;5;34m658\u001b[0m,   │          \u001b[38;5;34m0\u001b[0m │ batch_normalizat… │\n",
       "│ (\u001b[38;5;33mMaxPooling2D\u001b[0m)      │ \u001b[38;5;34m32\u001b[0m)               │            │                   │\n",
       "├─────────────────────┼───────────────────┼────────────┼───────────────────┤\n",
       "│ conv2d_1 (\u001b[38;5;33mConv2D\u001b[0m)   │ (\u001b[38;5;45mNone\u001b[0m, \u001b[38;5;34m9\u001b[0m, \u001b[38;5;34m656\u001b[0m,    │      \u001b[38;5;34m9,248\u001b[0m │ max_pooling2d[\u001b[38;5;34m0\u001b[0m]… │\n",
       "│                     │ \u001b[38;5;34m32\u001b[0m)               │            │                   │\n",
       "├─────────────────────┼───────────────────┼────────────┼───────────────────┤\n",
       "│ batch_normalizatio… │ (\u001b[38;5;45mNone\u001b[0m, \u001b[38;5;34m9\u001b[0m, \u001b[38;5;34m656\u001b[0m,    │        \u001b[38;5;34m128\u001b[0m │ conv2d_1[\u001b[38;5;34m0\u001b[0m][\u001b[38;5;34m0\u001b[0m]    │\n",
       "│ (\u001b[38;5;33mBatchNormalizatio…\u001b[0m │ \u001b[38;5;34m32\u001b[0m)               │            │                   │\n",
       "├─────────────────────┼───────────────────┼────────────┼───────────────────┤\n",
       "│ max_pooling2d_1     │ (\u001b[38;5;45mNone\u001b[0m, \u001b[38;5;34m4\u001b[0m, \u001b[38;5;34m328\u001b[0m,    │          \u001b[38;5;34m0\u001b[0m │ batch_normalizat… │\n",
       "│ (\u001b[38;5;33mMaxPooling2D\u001b[0m)      │ \u001b[38;5;34m32\u001b[0m)               │            │                   │\n",
       "├─────────────────────┼───────────────────┼────────────┼───────────────────┤\n",
       "│ input_layer_1       │ (\u001b[38;5;45mNone\u001b[0m, \u001b[38;5;34m6\u001b[0m, \u001b[38;5;34m128\u001b[0m,    │          \u001b[38;5;34m0\u001b[0m │ -                 │\n",
       "│ (\u001b[38;5;33mInputLayer\u001b[0m)        │ \u001b[38;5;34m128\u001b[0m, \u001b[38;5;34m3\u001b[0m)           │            │                   │\n",
       "├─────────────────────┼───────────────────┼────────────┼───────────────────┤\n",
       "│ flatten (\u001b[38;5;33mFlatten\u001b[0m)   │ (\u001b[38;5;45mNone\u001b[0m, \u001b[38;5;34m41984\u001b[0m)     │          \u001b[38;5;34m0\u001b[0m │ max_pooling2d_1[\u001b[38;5;34m…\u001b[0m │\n",
       "├─────────────────────┼───────────────────┼────────────┼───────────────────┤\n",
       "│ time_distributed    │ (\u001b[38;5;45mNone\u001b[0m, \u001b[38;5;34m6\u001b[0m, \u001b[38;5;34m512\u001b[0m)    │          \u001b[38;5;34m0\u001b[0m │ input_layer_1[\u001b[38;5;34m0\u001b[0m]… │\n",
       "│ (\u001b[38;5;33mTimeDistributed\u001b[0m)   │                   │            │                   │\n",
       "├─────────────────────┼───────────────────┼────────────┼───────────────────┤\n",
       "│ dense (\u001b[38;5;33mDense\u001b[0m)       │ (\u001b[38;5;45mNone\u001b[0m, \u001b[38;5;34m128\u001b[0m)       │  \u001b[38;5;34m5,374,080\u001b[0m │ flatten[\u001b[38;5;34m0\u001b[0m][\u001b[38;5;34m0\u001b[0m]     │\n",
       "├─────────────────────┼───────────────────┼────────────┼───────────────────┤\n",
       "│ lstm (\u001b[38;5;33mLSTM\u001b[0m)         │ (\u001b[38;5;45mNone\u001b[0m, \u001b[38;5;34m64\u001b[0m)        │    \u001b[38;5;34m147,712\u001b[0m │ time_distributed… │\n",
       "├─────────────────────┼───────────────────┼────────────┼───────────────────┤\n",
       "│ concatenate         │ (\u001b[38;5;45mNone\u001b[0m, \u001b[38;5;34m192\u001b[0m)       │          \u001b[38;5;34m0\u001b[0m │ dense[\u001b[38;5;34m0\u001b[0m][\u001b[38;5;34m0\u001b[0m],      │\n",
       "│ (\u001b[38;5;33mConcatenate\u001b[0m)       │                   │            │ lstm[\u001b[38;5;34m0\u001b[0m][\u001b[38;5;34m0\u001b[0m]        │\n",
       "├─────────────────────┼───────────────────┼────────────┼───────────────────┤\n",
       "│ dense_1 (\u001b[38;5;33mDense\u001b[0m)     │ (\u001b[38;5;45mNone\u001b[0m, \u001b[38;5;34m256\u001b[0m)       │     \u001b[38;5;34m49,408\u001b[0m │ concatenate[\u001b[38;5;34m0\u001b[0m][\u001b[38;5;34m0\u001b[0m] │\n",
       "├─────────────────────┼───────────────────┼────────────┼───────────────────┤\n",
       "│ dense_2 (\u001b[38;5;33mDense\u001b[0m)     │ (\u001b[38;5;45mNone\u001b[0m, \u001b[38;5;34m5\u001b[0m)         │      \u001b[38;5;34m1,285\u001b[0m │ dense_1[\u001b[38;5;34m0\u001b[0m][\u001b[38;5;34m0\u001b[0m]     │\n",
       "└─────────────────────┴───────────────────┴────────────┴───────────────────┘\n"
      ]
     },
     "metadata": {},
     "output_type": "display_data"
    },
    {
     "data": {
      "text/html": [
       "<pre style=\"white-space:pre;overflow-x:auto;line-height:normal;font-family:Menlo,'DejaVu Sans Mono',consolas,'Courier New',monospace\"><span style=\"font-weight: bold\"> Total params: </span><span style=\"color: #00af00; text-decoration-color: #00af00\">5,582,309</span> (21.29 MB)\n",
       "</pre>\n"
      ],
      "text/plain": [
       "\u001b[1m Total params: \u001b[0m\u001b[38;5;34m5,582,309\u001b[0m (21.29 MB)\n"
      ]
     },
     "metadata": {},
     "output_type": "display_data"
    },
    {
     "data": {
      "text/html": [
       "<pre style=\"white-space:pre;overflow-x:auto;line-height:normal;font-family:Menlo,'DejaVu Sans Mono',consolas,'Courier New',monospace\"><span style=\"font-weight: bold\"> Trainable params: </span><span style=\"color: #00af00; text-decoration-color: #00af00\">5,582,181</span> (21.29 MB)\n",
       "</pre>\n"
      ],
      "text/plain": [
       "\u001b[1m Trainable params: \u001b[0m\u001b[38;5;34m5,582,181\u001b[0m (21.29 MB)\n"
      ]
     },
     "metadata": {},
     "output_type": "display_data"
    },
    {
     "data": {
      "text/html": [
       "<pre style=\"white-space:pre;overflow-x:auto;line-height:normal;font-family:Menlo,'DejaVu Sans Mono',consolas,'Courier New',monospace\"><span style=\"font-weight: bold\"> Non-trainable params: </span><span style=\"color: #00af00; text-decoration-color: #00af00\">128</span> (512.00 B)\n",
       "</pre>\n"
      ],
      "text/plain": [
       "\u001b[1m Non-trainable params: \u001b[0m\u001b[38;5;34m128\u001b[0m (512.00 B)\n"
      ]
     },
     "metadata": {},
     "output_type": "display_data"
    }
   ],
   "source": [
    "combined_network = Model(inputs=[audio_input, visual_model], outputs=final2)\n",
    "combined_network.summary()"
   ]
  },
  {
   "cell_type": "code",
   "execution_count": 44,
   "metadata": {},
   "outputs": [],
   "source": [
    "combined_network.compile(optimizer = 'adam',loss = 'mean_absolute_error',metrics=['mae'])"
   ]
  },
  {
   "cell_type": "markdown",
   "metadata": {},
   "source": [
    "### Training"
   ]
  },
  {
   "cell_type": "code",
   "execution_count": 45,
   "metadata": {},
   "outputs": [],
   "source": [
    "from keras.callbacks import EarlyStopping\n",
    "\n",
    "early_stopping = EarlyStopping(patience=10)"
   ]
  },
  {
   "cell_type": "code",
   "execution_count": 49,
   "metadata": {},
   "outputs": [],
   "source": [
    "from keras.callbacks import ModelCheckpoint\n",
    "\n",
    "# 定义保存最佳模型的回调函数\n",
    "checkpoint = ModelCheckpoint(\n",
    "    filepath='best_model.keras',  # 保存路径\n",
    "    monitor='val_loss',         # 监控验证集损失\n",
    "    save_best_only=True,        # 仅保存性能最佳的模型\n",
    "    mode='min',                 # 损失越小越好\n",
    "    verbose=1\n",
    ")"
   ]
  },
  {
   "cell_type": "code",
   "execution_count": 50,
   "metadata": {},
   "outputs": [
    {
     "name": "stdout",
     "output_type": "stream",
     "text": [
      "Epoch 1/20\n"
     ]
    },
    {
     "name": "stderr",
     "output_type": "stream",
     "text": [
      "2025-04-27 16:20:57.122650: I external/local_xla/xla/stream_executor/cuda/cuda_dnn.cc:465] Loaded cuDNN version 8907\n"
     ]
    },
    {
     "name": "stdout",
     "output_type": "stream",
     "text": [
      "\u001b[1m188/188\u001b[0m \u001b[32m━━━━━━━━━━━━━━━━━━━━\u001b[0m\u001b[37m\u001b[0m \u001b[1m0s\u001b[0m 66ms/step - loss: 1.5962 - mae: 1.5962\n",
      "Epoch 1: val_loss improved from inf to 5.56221, saving model to best_model.keras\n",
      "\u001b[1m188/188\u001b[0m \u001b[32m━━━━━━━━━━━━━━━━━━━━\u001b[0m\u001b[37m\u001b[0m \u001b[1m26s\u001b[0m 106ms/step - loss: 1.5905 - mae: 1.5905 - val_loss: 5.5622 - val_mae: 5.5622\n",
      "Epoch 2/20\n",
      "\u001b[1m187/188\u001b[0m \u001b[32m━━━━━━━━━━━━━━━━━━━\u001b[0m\u001b[37m━\u001b[0m \u001b[1m0s\u001b[0m 64ms/step - loss: 0.1133 - mae: 0.1133\n",
      "Epoch 2: val_loss improved from 5.56221 to 0.23447, saving model to best_model.keras\n",
      "\u001b[1m188/188\u001b[0m \u001b[32m━━━━━━━━━━━━━━━━━━━━\u001b[0m\u001b[37m\u001b[0m \u001b[1m16s\u001b[0m 83ms/step - loss: 0.1133 - mae: 0.1133 - val_loss: 0.2345 - val_mae: 0.2345\n",
      "Epoch 3/20\n",
      "\u001b[1m187/188\u001b[0m \u001b[32m━━━━━━━━━━━━━━━━━━━\u001b[0m\u001b[37m━\u001b[0m \u001b[1m0s\u001b[0m 64ms/step - loss: 0.1071 - mae: 0.1071\n",
      "Epoch 3: val_loss improved from 0.23447 to 0.10819, saving model to best_model.keras\n",
      "\u001b[1m188/188\u001b[0m \u001b[32m━━━━━━━━━━━━━━━━━━━━\u001b[0m\u001b[37m\u001b[0m \u001b[1m16s\u001b[0m 83ms/step - loss: 0.1071 - mae: 0.1071 - val_loss: 0.1082 - val_mae: 0.1082\n",
      "Epoch 4/20\n",
      "\u001b[1m187/188\u001b[0m \u001b[32m━━━━━━━━━━━━━━━━━━━\u001b[0m\u001b[37m━\u001b[0m \u001b[1m0s\u001b[0m 64ms/step - loss: 0.1005 - mae: 0.1005\n",
      "Epoch 4: val_loss improved from 0.10819 to 0.10256, saving model to best_model.keras\n",
      "\u001b[1m188/188\u001b[0m \u001b[32m━━━━━━━━━━━━━━━━━━━━\u001b[0m\u001b[37m\u001b[0m \u001b[1m16s\u001b[0m 83ms/step - loss: 0.1005 - mae: 0.1005 - val_loss: 0.1026 - val_mae: 0.1026\n",
      "Epoch 5/20\n",
      "\u001b[1m187/188\u001b[0m \u001b[32m━━━━━━━━━━━━━━━━━━━\u001b[0m\u001b[37m━\u001b[0m \u001b[1m0s\u001b[0m 64ms/step - loss: 0.0981 - mae: 0.0981\n",
      "Epoch 5: val_loss improved from 0.10256 to 0.10244, saving model to best_model.keras\n",
      "\u001b[1m188/188\u001b[0m \u001b[32m━━━━━━━━━━━━━━━━━━━━\u001b[0m\u001b[37m\u001b[0m \u001b[1m16s\u001b[0m 83ms/step - loss: 0.0982 - mae: 0.0982 - val_loss: 0.1024 - val_mae: 0.1024\n",
      "Epoch 6/20\n",
      "\u001b[1m187/188\u001b[0m \u001b[32m━━━━━━━━━━━━━━━━━━━\u001b[0m\u001b[37m━\u001b[0m \u001b[1m0s\u001b[0m 64ms/step - loss: 0.0949 - mae: 0.0949\n",
      "Epoch 6: val_loss did not improve from 0.10244\n",
      "\u001b[1m188/188\u001b[0m \u001b[32m━━━━━━━━━━━━━━━━━━━━\u001b[0m\u001b[37m\u001b[0m \u001b[1m15s\u001b[0m 82ms/step - loss: 0.0949 - mae: 0.0949 - val_loss: 0.1078 - val_mae: 0.1078\n",
      "Epoch 7/20\n",
      "\u001b[1m187/188\u001b[0m \u001b[32m━━━━━━━━━━━━━━━━━━━\u001b[0m\u001b[37m━\u001b[0m \u001b[1m0s\u001b[0m 64ms/step - loss: 0.0940 - mae: 0.0940\n",
      "Epoch 7: val_loss improved from 0.10244 to 0.10229, saving model to best_model.keras\n",
      "\u001b[1m188/188\u001b[0m \u001b[32m━━━━━━━━━━━━━━━━━━━━\u001b[0m\u001b[37m\u001b[0m \u001b[1m16s\u001b[0m 82ms/step - loss: 0.0940 - mae: 0.0940 - val_loss: 0.1023 - val_mae: 0.1023\n",
      "Epoch 8/20\n",
      "\u001b[1m187/188\u001b[0m \u001b[32m━━━━━━━━━━━━━━━━━━━\u001b[0m\u001b[37m━\u001b[0m \u001b[1m0s\u001b[0m 64ms/step - loss: 0.0924 - mae: 0.0924\n",
      "Epoch 8: val_loss did not improve from 0.10229\n",
      "\u001b[1m188/188\u001b[0m \u001b[32m━━━━━━━━━━━━━━━━━━━━\u001b[0m\u001b[37m\u001b[0m \u001b[1m15s\u001b[0m 82ms/step - loss: 0.0924 - mae: 0.0924 - val_loss: 0.1147 - val_mae: 0.1147\n",
      "Epoch 9/20\n",
      "\u001b[1m187/188\u001b[0m \u001b[32m━━━━━━━━━━━━━━━━━━━\u001b[0m\u001b[37m━\u001b[0m \u001b[1m0s\u001b[0m 65ms/step - loss: 0.0907 - mae: 0.0907\n",
      "Epoch 9: val_loss did not improve from 0.10229\n",
      "\u001b[1m188/188\u001b[0m \u001b[32m━━━━━━━━━━━━━━━━━━━━\u001b[0m\u001b[37m\u001b[0m \u001b[1m16s\u001b[0m 83ms/step - loss: 0.0907 - mae: 0.0907 - val_loss: 0.1062 - val_mae: 0.1062\n",
      "Epoch 10/20\n",
      "\u001b[1m187/188\u001b[0m \u001b[32m━━━━━━━━━━━━━━━━━━━\u001b[0m\u001b[37m━\u001b[0m \u001b[1m0s\u001b[0m 64ms/step - loss: 0.0876 - mae: 0.0876\n",
      "Epoch 10: val_loss did not improve from 0.10229\n",
      "\u001b[1m188/188\u001b[0m \u001b[32m━━━━━━━━━━━━━━━━━━━━\u001b[0m\u001b[37m\u001b[0m \u001b[1m15s\u001b[0m 82ms/step - loss: 0.0876 - mae: 0.0876 - val_loss: 0.1093 - val_mae: 0.1093\n",
      "Epoch 11/20\n",
      "\u001b[1m187/188\u001b[0m \u001b[32m━━━━━━━━━━━━━━━━━━━\u001b[0m\u001b[37m━\u001b[0m \u001b[1m0s\u001b[0m 64ms/step - loss: 0.0874 - mae: 0.0874\n",
      "Epoch 11: val_loss did not improve from 0.10229\n",
      "\u001b[1m188/188\u001b[0m \u001b[32m━━━━━━━━━━━━━━━━━━━━\u001b[0m\u001b[37m\u001b[0m \u001b[1m17s\u001b[0m 92ms/step - loss: 0.0874 - mae: 0.0874 - val_loss: 0.1153 - val_mae: 0.1153\n",
      "Epoch 12/20\n",
      "\u001b[1m187/188\u001b[0m \u001b[32m━━━━━━━━━━━━━━━━━━━\u001b[0m\u001b[37m━\u001b[0m \u001b[1m0s\u001b[0m 64ms/step - loss: 0.0852 - mae: 0.0852\n",
      "Epoch 12: val_loss did not improve from 0.10229\n",
      "\u001b[1m188/188\u001b[0m \u001b[32m━━━━━━━━━━━━━━━━━━━━\u001b[0m\u001b[37m\u001b[0m \u001b[1m15s\u001b[0m 82ms/step - loss: 0.0852 - mae: 0.0852 - val_loss: 0.1175 - val_mae: 0.1175\n",
      "Epoch 13/20\n",
      "\u001b[1m187/188\u001b[0m \u001b[32m━━━━━━━━━━━━━━━━━━━\u001b[0m\u001b[37m━\u001b[0m \u001b[1m0s\u001b[0m 64ms/step - loss: 0.0870 - mae: 0.0870\n",
      "Epoch 13: val_loss did not improve from 0.10229\n",
      "\u001b[1m188/188\u001b[0m \u001b[32m━━━━━━━━━━━━━━━━━━━━\u001b[0m\u001b[37m\u001b[0m \u001b[1m15s\u001b[0m 82ms/step - loss: 0.0870 - mae: 0.0870 - val_loss: 0.1041 - val_mae: 0.1041\n",
      "Epoch 14/20\n",
      "\u001b[1m187/188\u001b[0m \u001b[32m━━━━━━━━━━━━━━━━━━━\u001b[0m\u001b[37m━\u001b[0m \u001b[1m0s\u001b[0m 64ms/step - loss: 0.0826 - mae: 0.0826\n",
      "Epoch 14: val_loss did not improve from 0.10229\n",
      "\u001b[1m188/188\u001b[0m \u001b[32m━━━━━━━━━━━━━━━━━━━━\u001b[0m\u001b[37m\u001b[0m \u001b[1m17s\u001b[0m 92ms/step - loss: 0.0826 - mae: 0.0826 - val_loss: 0.1060 - val_mae: 0.1060\n",
      "Epoch 15/20\n",
      "\u001b[1m187/188\u001b[0m \u001b[32m━━━━━━━━━━━━━━━━━━━\u001b[0m\u001b[37m━\u001b[0m \u001b[1m0s\u001b[0m 64ms/step - loss: 0.0841 - mae: 0.0841\n",
      "Epoch 15: val_loss did not improve from 0.10229\n",
      "\u001b[1m188/188\u001b[0m \u001b[32m━━━━━━━━━━━━━━━━━━━━\u001b[0m\u001b[37m\u001b[0m \u001b[1m15s\u001b[0m 82ms/step - loss: 0.0841 - mae: 0.0841 - val_loss: 0.1072 - val_mae: 0.1072\n",
      "Epoch 16/20\n",
      "\u001b[1m187/188\u001b[0m \u001b[32m━━━━━━━━━━━━━━━━━━━\u001b[0m\u001b[37m━\u001b[0m \u001b[1m0s\u001b[0m 64ms/step - loss: 0.0910 - mae: 0.0910\n",
      "Epoch 16: val_loss did not improve from 0.10229\n",
      "\u001b[1m188/188\u001b[0m \u001b[32m━━━━━━━━━━━━━━━━━━━━\u001b[0m\u001b[37m\u001b[0m \u001b[1m15s\u001b[0m 82ms/step - loss: 0.0910 - mae: 0.0910 - val_loss: 0.1034 - val_mae: 0.1034\n",
      "Epoch 17/20\n",
      "\u001b[1m187/188\u001b[0m \u001b[32m━━━━━━━━━━━━━━━━━━━\u001b[0m\u001b[37m━\u001b[0m \u001b[1m0s\u001b[0m 64ms/step - loss: 0.0894 - mae: 0.0894\n",
      "Epoch 17: val_loss did not improve from 0.10229\n",
      "\u001b[1m188/188\u001b[0m \u001b[32m━━━━━━━━━━━━━━━━━━━━\u001b[0m\u001b[37m\u001b[0m \u001b[1m15s\u001b[0m 82ms/step - loss: 0.0894 - mae: 0.0894 - val_loss: 0.1066 - val_mae: 0.1066\n"
     ]
    }
   ],
   "source": [
    "history = combined_network.fit(x = [train_input[0],train_input[1]],\n",
    "                               y = train_input[2],\n",
    "                               validation_data = ([validation_input[0],validation_input[1]],validation_input[2]),\n",
    "                               epochs = 20,\n",
    "                               verbose = 1,\n",
    "                               callbacks = [early_stopping, checkpoint])"
   ]
  },
  {
   "cell_type": "code",
   "execution_count": 51,
   "metadata": {},
   "outputs": [
    {
     "data": {
      "text/plain": [
       "<matplotlib.legend.Legend at 0x7f7941c269d0>"
      ]
     },
     "execution_count": 51,
     "metadata": {},
     "output_type": "execute_result"
    },
    {
     "data": {
      "image/png": "[encoded data removed]",
      "text/plain": [
       "<Figure size 900x400 with 1 Axes>"
      ]
     },
     "metadata": {},
     "output_type": "display_data"
    }
   ],
   "source": [
    "plt.figure(figsize=(9,4))\n",
    "\n",
    "plt.subplot(1,2,1)\n",
    "plt.plot(history.history['mae'])\n",
    "plt.plot(history.history['val_mae'])\n",
    "plt.title('Model MAE')\n",
    "plt.ylabel('MAE')\n",
    "plt.xlabel('Epoch')\n",
    "plt.legend(['Train MAE', 'Validation MAE'], loc='upper right')"
   ]
  },
  {
   "cell_type": "markdown",
   "metadata": {},
   "source": [
    "#### Evaluate model on train set"
   ]
  },
  {
   "cell_type": "code",
   "execution_count": 52,
   "metadata": {},
   "outputs": [
    {
     "name": "stdout",
     "output_type": "stream",
     "text": [
      "Test loss: 0.1087961345911026\n"
     ]
    }
   ],
   "source": [
    "loss, mae = combined_network.evaluate([test_input[0],test_input[1]],test_input[2], verbose=0)\n",
    "\n",
    "print('Test loss: {}'.format(loss))"
   ]
  },
  {
   "cell_type": "markdown",
   "metadata": {},
   "source": [
    "### 1-MAE"
   ]
  },
  {
   "cell_type": "code",
   "execution_count": 53,
   "metadata": {},
   "outputs": [
    {
     "name": "stdout",
     "output_type": "stream",
     "text": [
      "1-MAE: 0.8912038654088974\n"
     ]
    }
   ],
   "source": [
    "print('1-MAE: ' + str(1-mae))"
   ]
  },
  {
   "cell_type": "code",
   "execution_count": 54,
   "metadata": {},
   "outputs": [],
   "source": [
    "one_minus_mae_train = [1-maee for maee in history.history['mae']]\n",
    "one_minus_mae_val = [1-maee for maee in history.history['val_mae']]"
   ]
  },
  {
   "cell_type": "code",
   "execution_count": 55,
   "metadata": {},
   "outputs": [
    {
     "data": {
      "text/plain": [
       "<matplotlib.legend.Legend at 0x7f7941c3d110>"
      ]
     },
     "execution_count": 55,
     "metadata": {},
     "output_type": "execute_result"
    },
    {
     "data": {
      "image/png": "[encoded data removed]",
      "text/plain": [
       "<Figure size 900x400 with 1 Axes>"
      ]
     },
     "metadata": {},
     "output_type": "display_data"
    }
   ],
   "source": [
    "plt.figure(figsize=(9,4))\n",
    "\n",
    "plt.subplot(1,2,1)\n",
    "plt.plot(one_minus_mae_train)\n",
    "plt.plot(one_minus_mae_val)\n",
    "plt.title('Model 1-MAE')\n",
    "plt.ylabel('1-MAE')\n",
    "plt.xlabel('Epoch')\n",
    "plt.legend(['Train 1-MAE', 'Validation 1-MAE'], loc='lower right')"
   ]
  },
  {
   "cell_type": "markdown",
   "metadata": {},
   "source": [
    "### Coefficient of determination (R^2)"
   ]
  },
  {
   "cell_type": "code",
   "execution_count": 56,
   "metadata": {},
   "outputs": [
    {
     "name": "stdout",
     "output_type": "stream",
     "text": [
      "\u001b[1m63/63\u001b[0m \u001b[32m━━━━━━━━━━━━━━━━━━━━\u001b[0m\u001b[37m\u001b[0m \u001b[1m4s\u001b[0m 58ms/step\n"
     ]
    }
   ],
   "source": [
    "y_pred = combined_network.predict([test_input[0],test_input[1]])\n",
    "pred_shape = y_pred.shape\n",
    "y_pred = y_pred.reshape(pred_shape[0],pred_shape[1],1)"
   ]
  },
  {
   "cell_type": "code",
   "execution_count": 57,
   "metadata": {},
   "outputs": [],
   "source": [
    "normalized = y_pred / np.max(y_pred)"
   ]
  },
  {
   "cell_type": "code",
   "execution_count": 58,
   "metadata": {},
   "outputs": [
    {
     "data": {
      "text/plain": [
       "Text(0.5, 0, 'Y_pred_Neuroticism')"
      ]
     },
     "execution_count": 58,
     "metadata": {},
     "output_type": "execute_result"
    },
    {
     "data": {
      "image/png": "[encoded data removed]",
      "text/plain": [
       "<Figure size 640x480 with 1 Axes>"
      ]
     },
     "metadata": {},
     "output_type": "display_data"
    }
   ],
   "source": [
    "plt.scatter(test_input[2][:,0,:], normalized[:,0,:], marker='o');\n",
    "plt.ylabel('Y_Neuroticism')\n",
    "plt.xlabel('Y_pred_Neuroticism')"
   ]
  },
  {
   "cell_type": "markdown",
   "metadata": {},
   "source": [
    "#### Coefficient Determination (R^2)"
   ]
  },
  {
   "cell_type": "code",
   "execution_count": 59,
   "metadata": {},
   "outputs": [],
   "source": [
    "from sklearn.metrics import r2_score"
   ]
  },
  {
   "cell_type": "code",
   "execution_count": 60,
   "metadata": {},
   "outputs": [
    {
     "name": "stdout",
     "output_type": "stream",
     "text": [
      "Neuroticism: 0.18424635253631738\n",
      "Extraversion: -0.013845751028852327\n",
      "Agreeableness: -0.25084300759235045\n",
      "Conscientiousness: -0.02713517553119038\n",
      "Openness: 0.15220040067635254\n"
     ]
    }
   ],
   "source": [
    "pers = ['Neuroticism','Extraversion','Agreeableness','Conscientiousness','Openness']\n",
    "r2s = [r2_score(test_input[2][:,i,:], normalized[:,i,:]) for i in range(5)]\n",
    "for pers, r2 in zip(pers,r2s):\n",
    "    print(pers + ': ' + str(r2))"
   ]
  },
  {
   "cell_type": "code",
   "execution_count": null,
   "metadata": {},
   "outputs": [],
   "source": []
  }
 ],
 "metadata": {
  "kernelspec": {
   "display_name": "Python 3 (ipykernel)",
   "language": "python",
   "name": "python3"
  },
  "language_info": {
   "codemirror_mode": {
    "name": "ipython",
    "version": 3
   },
   "file_extension": ".py",
   "mimetype": "text/x-python",
   "name": "python",
   "nbconvert_exporter": "python",
   "pygments_lexer": "ipython3",
   "version": "3.11.8"
  }
 },
 "nbformat": 4,
 "nbformat_minor": 4
}
